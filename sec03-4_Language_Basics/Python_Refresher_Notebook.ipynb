{
 "cells": [
  {
   "cell_type": "markdown",
   "metadata": {},
   "source": [
    "#  Section 3.4 Language Basics (Refresher)"
   ]
  },
  {
   "cell_type": "markdown",
   "metadata": {},
   "source": [
    "***Python Refresher at Speed!***\n",
    "\n",
    "Using a Jupyter Notebook (see Quick Start notes at the bottom of this notebook)"
   ]
  },
  {
   "cell_type": "markdown",
   "metadata": {},
   "source": [
    "---"
   ]
  },
  {
   "cell_type": "code",
   "execution_count": 1,
   "metadata": {},
   "outputs": [
    {
     "data": {
      "text/plain": [
       "{'__name__': '__main__',\n",
       " '__doc__': 'Automatically created module for IPython interactive environment',\n",
       " '__package__': None,\n",
       " '__loader__': None,\n",
       " '__spec__': None,\n",
       " '__builtin__': <module 'builtins' (built-in)>,\n",
       " '__builtins__': <module 'builtins' (built-in)>,\n",
       " '_ih': ['', 'locals()'],\n",
       " '_oh': {},\n",
       " '_dh': ['/Users/claudia/Dropbox (Indigo Wire Networks)/IWN-Desktop/IWN/2021-CodeRed/Course-Network_Automation_in_Python/code/python/sec03-4_Language_Basics'],\n",
       " 'In': ['', 'locals()'],\n",
       " 'Out': {},\n",
       " 'get_ipython': <bound method InteractiveShell.get_ipython of <ipykernel.zmqshell.ZMQInteractiveShell object at 0x7f85b8470990>>,\n",
       " 'exit': <IPython.core.autocall.ZMQExitAutocall at 0x7f85b84a8dd0>,\n",
       " 'quit': <IPython.core.autocall.ZMQExitAutocall at 0x7f85b84a8dd0>,\n",
       " '_': '',\n",
       " '__': '',\n",
       " '___': '',\n",
       " '_i': '',\n",
       " '_ii': '',\n",
       " '_iii': '',\n",
       " '_i1': 'locals()'}"
      ]
     },
     "execution_count": 1,
     "metadata": {},
     "output_type": "execute_result"
    }
   ],
   "source": [
    "locals()"
   ]
  },
  {
   "cell_type": "markdown",
   "metadata": {},
   "source": [
    "## Variables & Assignments"
   ]
  },
  {
   "cell_type": "markdown",
   "metadata": {},
   "source": [
    "Variables are case sensitive!  maxBandwidth does not equal maxbandwidth\n",
    "\n",
    "Setting a value is done with the equals sign **=**"
   ]
  },
  {
   "cell_type": "code",
   "execution_count": 2,
   "metadata": {},
   "outputs": [],
   "source": [
    "maxBandwidth = 10\n",
    "maxbandwidth = 100"
   ]
  },
  {
   "cell_type": "code",
   "execution_count": 3,
   "metadata": {},
   "outputs": [
    {
     "data": {
      "text/plain": [
       "10"
      ]
     },
     "execution_count": 3,
     "metadata": {},
     "output_type": "execute_result"
    }
   ],
   "source": [
    "maxBandwidth"
   ]
  },
  {
   "cell_type": "code",
   "execution_count": 4,
   "metadata": {},
   "outputs": [
    {
     "data": {
      "text/plain": [
       "100"
      ]
     },
     "execution_count": 4,
     "metadata": {},
     "output_type": "execute_result"
    }
   ],
   "source": [
    "maxbandwidth"
   ]
  },
  {
   "cell_type": "markdown",
   "metadata": {},
   "source": [
    "Variables can have letters, numbers, and undercores _ but cannot begin with a number"
   ]
  },
  {
   "cell_type": "code",
   "execution_count": 5,
   "metadata": {},
   "outputs": [
    {
     "ename": "SyntaxError",
     "evalue": "invalid syntax (<ipython-input-5-afaa1abda8b3>, line 1)",
     "output_type": "error",
     "traceback": [
      "\u001b[0;36m  File \u001b[0;32m\"<ipython-input-5-afaa1abda8b3>\"\u001b[0;36m, line \u001b[0;32m1\u001b[0m\n\u001b[0;31m    6ipv = \"ip version 6\"\u001b[0m\n\u001b[0m       ^\u001b[0m\n\u001b[0;31mSyntaxError\u001b[0m\u001b[0;31m:\u001b[0m invalid syntax\n"
     ]
    }
   ],
   "source": [
    "6ipv = \"ip version 6\""
   ]
  },
  {
   "cell_type": "code",
   "execution_count": 6,
   "metadata": {},
   "outputs": [
    {
     "ename": "SyntaxError",
     "evalue": "can't assign to operator (<ipython-input-6-98c8c0646d2e>, line 1)",
     "output_type": "error",
     "traceback": [
      "\u001b[0;36m  File \u001b[0;32m\"<ipython-input-6-98c8c0646d2e>\"\u001b[0;36m, line \u001b[0;32m1\u001b[0m\n\u001b[0;31m    max-bandwidth = 1000\u001b[0m\n\u001b[0m                        ^\u001b[0m\n\u001b[0;31mSyntaxError\u001b[0m\u001b[0;31m:\u001b[0m can't assign to operator\n"
     ]
    }
   ],
   "source": [
    "max-bandwidth = 1000"
   ]
  },
  {
   "cell_type": "code",
   "execution_count": 7,
   "metadata": {},
   "outputs": [],
   "source": [
    "ipv6 = \"ip version 6\"\n",
    "max_bandwidth = 1000"
   ]
  },
  {
   "cell_type": "markdown",
   "metadata": {},
   "source": [
    "### Tip!\n",
    "- Assignment is **=**\n",
    "- Equality check or object comparison is **==** or **!=** (not equal to)"
   ]
  },
  {
   "cell_type": "code",
   "execution_count": 8,
   "metadata": {},
   "outputs": [
    {
     "data": {
      "text/plain": [
       "False"
      ]
     },
     "execution_count": 8,
     "metadata": {},
     "output_type": "execute_result"
    }
   ],
   "source": [
    "max_bandwidth == maxBandwidth"
   ]
  },
  {
   "cell_type": "markdown",
   "metadata": {},
   "source": [
    "---"
   ]
  },
  {
   "cell_type": "markdown",
   "metadata": {},
   "source": [
    "### Variable (Object) Naming Conventions"
   ]
  },
  {
   "cell_type": "markdown",
   "metadata": {},
   "source": [
    "Classes use fist letter upper case convention "
   ]
  },
  {
   "cell_type": "code",
   "execution_count": null,
   "metadata": {},
   "outputs": [],
   "source": [
    "class Human:\n",
    "    \"\"\"\n",
    "    Bluepring for a human with a name who can run.\n",
    "    \"\"\"\n",
    "    def __init__(self, name):\n",
    "        self.name = name\n",
    "\n",
    "    def run(self):\n",
    "        print(\"Running...\")\n"
   ]
  },
  {
   "cell_type": "code",
   "execution_count": null,
   "metadata": {},
   "outputs": [],
   "source": [
    "cdl = Human(\"Claudia\")"
   ]
  },
  {
   "cell_type": "code",
   "execution_count": null,
   "metadata": {},
   "outputs": [],
   "source": [
    "cdl.name"
   ]
  },
  {
   "cell_type": "code",
   "execution_count": null,
   "metadata": {},
   "outputs": [],
   "source": [
    "claudia.run()"
   ]
  },
  {
   "cell_type": "code",
   "execution_count": null,
   "metadata": {},
   "outputs": [],
   "source": [
    "type(cdl)"
   ]
  },
  {
   "cell_type": "code",
   "execution_count": null,
   "metadata": {},
   "outputs": [],
   "source": [
    "dir(cdl)"
   ]
  },
  {
   "cell_type": "code",
   "execution_count": null,
   "metadata": {},
   "outputs": [],
   "source": [
    "help(cdl)"
   ]
  },
  {
   "cell_type": "markdown",
   "metadata": {},
   "source": [
    "Camel case or Snake Case is valid"
   ]
  },
  {
   "cell_type": "code",
   "execution_count": null,
   "metadata": {},
   "outputs": [],
   "source": [
    "camelCase = \"camelCase can be shorter but not as readable\""
   ]
  },
  {
   "cell_type": "code",
   "execution_count": null,
   "metadata": {},
   "outputs": [],
   "source": [
    "snake_case = \"snake_case can be longer but more readable\""
   ]
  },
  {
   "cell_type": "markdown",
   "metadata": {},
   "source": [
    "---"
   ]
  },
  {
   "cell_type": "markdown",
   "metadata": {},
   "source": [
    "### Integers & Floating point"
   ]
  },
  {
   "cell_type": "code",
   "execution_count": 9,
   "metadata": {},
   "outputs": [],
   "source": [
    "total_cfg_files = 1\n",
    "numDevices = 2\n",
    "numString = \"5\""
   ]
  },
  {
   "cell_type": "code",
   "execution_count": 10,
   "metadata": {},
   "outputs": [
    {
     "data": {
      "text/plain": [
       "int"
      ]
     },
     "execution_count": 10,
     "metadata": {},
     "output_type": "execute_result"
    }
   ],
   "source": [
    "type(total_cfg_files)"
   ]
  },
  {
   "cell_type": "code",
   "execution_count": 11,
   "metadata": {},
   "outputs": [
    {
     "data": {
      "text/plain": [
       "int"
      ]
     },
     "execution_count": 11,
     "metadata": {},
     "output_type": "execute_result"
    }
   ],
   "source": [
    "type(numDevices)"
   ]
  },
  {
   "cell_type": "code",
   "execution_count": 12,
   "metadata": {},
   "outputs": [
    {
     "data": {
      "text/plain": [
       "str"
      ]
     },
     "execution_count": 12,
     "metadata": {},
     "output_type": "execute_result"
    }
   ],
   "source": [
    "type(numString)"
   ]
  },
  {
   "cell_type": "code",
   "execution_count": 13,
   "metadata": {},
   "outputs": [],
   "source": [
    "int_bw = 150.7"
   ]
  },
  {
   "cell_type": "code",
   "execution_count": 14,
   "metadata": {},
   "outputs": [
    {
     "data": {
      "text/plain": [
       "float"
      ]
     },
     "execution_count": 14,
     "metadata": {},
     "output_type": "execute_result"
    }
   ],
   "source": [
    "type(int_bw)"
   ]
  },
  {
   "cell_type": "markdown",
   "metadata": {},
   "source": [
    "Python tries to do what makes senses"
   ]
  },
  {
   "cell_type": "code",
   "execution_count": 15,
   "metadata": {},
   "outputs": [
    {
     "data": {
      "text/plain": [
       "301.4"
      ]
     },
     "execution_count": 15,
     "metadata": {},
     "output_type": "execute_result"
    }
   ],
   "source": [
    "int_bw * numDevices"
   ]
  },
  {
   "cell_type": "code",
   "execution_count": 16,
   "metadata": {},
   "outputs": [
    {
     "data": {
      "text/plain": [
       "152.7"
      ]
     },
     "execution_count": 16,
     "metadata": {},
     "output_type": "execute_result"
    }
   ],
   "source": [
    "int_bw + numDevices"
   ]
  },
  {
   "cell_type": "markdown",
   "metadata": {},
   "source": [
    "Sometimes with unexpected results"
   ]
  },
  {
   "cell_type": "code",
   "execution_count": 17,
   "metadata": {},
   "outputs": [
    {
     "data": {
      "text/plain": [
       "'55'"
      ]
     },
     "execution_count": 17,
     "metadata": {},
     "output_type": "execute_result"
    }
   ],
   "source": [
    "numDevices * numString"
   ]
  },
  {
   "cell_type": "code",
   "execution_count": 18,
   "metadata": {},
   "outputs": [
    {
     "data": {
      "text/plain": [
       "'55'"
      ]
     },
     "execution_count": 18,
     "metadata": {},
     "output_type": "execute_result"
    }
   ],
   "source": [
    "numString * numDevices"
   ]
  },
  {
   "cell_type": "markdown",
   "metadata": {},
   "source": [
    "---"
   ]
  },
  {
   "cell_type": "markdown",
   "metadata": {},
   "source": [
    "### Booleans (True or False)"
   ]
  },
  {
   "cell_type": "code",
   "execution_count": 19,
   "metadata": {},
   "outputs": [],
   "source": [
    "files_exist = False"
   ]
  },
  {
   "cell_type": "code",
   "execution_count": 20,
   "metadata": {},
   "outputs": [
    {
     "data": {
      "text/plain": [
       "False"
      ]
     },
     "execution_count": 20,
     "metadata": {},
     "output_type": "execute_result"
    }
   ],
   "source": [
    "files_exist"
   ]
  },
  {
   "cell_type": "code",
   "execution_count": 21,
   "metadata": {},
   "outputs": [
    {
     "name": "stdout",
     "output_type": "stream",
     "text": [
      "\n",
      "We have at least one file if total_cfg_files == 1!\n"
     ]
    }
   ],
   "source": [
    "if total_cfg_files == 1:\n",
    "    print(f\"\\nWe have at least one file if total_cfg_files == 1!\")\n",
    "    files_exist = True"
   ]
  },
  {
   "cell_type": "code",
   "execution_count": 24,
   "metadata": {},
   "outputs": [
    {
     "data": {
      "text/plain": [
       "True"
      ]
     },
     "execution_count": 24,
     "metadata": {},
     "output_type": "execute_result"
    }
   ],
   "source": [
    "files_exist"
   ]
  },
  {
   "cell_type": "code",
   "execution_count": 25,
   "metadata": {},
   "outputs": [
    {
     "name": "stdout",
     "output_type": "stream",
     "text": [
      "\n",
      "We have \"at least\" one file if file_exists is True!\n"
     ]
    }
   ],
   "source": [
    "if files_exist:\n",
    "    print(f'\\nWe have \"at least\" one file if file_exists is True!')"
   ]
  },
  {
   "cell_type": "markdown",
   "metadata": {},
   "source": [
    "---"
   ]
  },
  {
   "cell_type": "markdown",
   "metadata": {},
   "source": [
    "### Strings\n",
    "- Can be quoted with \"\"\n",
    "- Can be quoted with ''\n",
    "- Can be quoted with \"\"\" \"\"\" (multiline text)\n",
    "- mutable\n",
    "- iterable!"
   ]
  },
  {
   "cell_type": "code",
   "execution_count": 26,
   "metadata": {},
   "outputs": [],
   "source": [
    "cfg_filename1 = \"retail-rtr.txt\"\n",
    "cfg_fn2 = 'csr1000v-1.txt'"
   ]
  },
  {
   "cell_type": "code",
   "execution_count": 27,
   "metadata": {},
   "outputs": [],
   "source": [
    "mac_text = \"\"\"\n",
    "    0057.d21b.7d00\n",
    "    0057.d21b.7d00\n",
    "    a4bb.6da1.68e4\n",
    "    0008.6600.2ae4\n",
    "    0003.5b0a.2bdd\n",
    "    0003.5b0a.2bdc\n",
    "    0003.5b0a.2bdc\n",
    "    509a.4c48.3214\n",
    "    484d.7ee4.9ccb\n",
    "    484d.7edc.e24b\n",
    "    1866.da3b.99e1\n",
    "    1866.da3b.a40a\n",
    "    6012.8bd3.1d8f\n",
    "    b07b.2540.514c\n",
    "    509a.4c48.2cce\n",
    "    509a.4c48.2cce\n",
    "    00a7.42f6.b434\n",
    "    \"\"\""
   ]
  },
  {
   "cell_type": "markdown",
   "metadata": {},
   "source": [
    "### Tip!\n",
    "***Beware strings have list behaviours***"
   ]
  },
  {
   "cell_type": "code",
   "execution_count": 28,
   "metadata": {},
   "outputs": [
    {
     "data": {
      "text/plain": [
       "14"
      ]
     },
     "execution_count": 28,
     "metadata": {},
     "output_type": "execute_result"
    }
   ],
   "source": [
    "len(cfg_fn2)"
   ]
  },
  {
   "cell_type": "code",
   "execution_count": 29,
   "metadata": {},
   "outputs": [
    {
     "name": "stdout",
     "output_type": "stream",
     "text": [
      "c\n",
      "s\n",
      "r\n",
      "1\n",
      "0\n",
      "0\n",
      "0\n",
      "v\n",
      "-\n",
      "1\n",
      ".\n",
      "t\n",
      "x\n",
      "t\n"
     ]
    }
   ],
   "source": [
    "for letter in cfg_fn2:\n",
    "    print(letter)"
   ]
  },
  {
   "cell_type": "markdown",
   "metadata": {},
   "source": [
    "---"
   ]
  },
  {
   "cell_type": "markdown",
   "metadata": {},
   "source": [
    "## Data Structures (Python Collections)\n",
    "- Lists [ ] comma separated elements\n",
    "- Dictionaries { } comma separated key:value pairs\n",
    "- Sets { } comma separated elements\n",
    "- Tuples ( ) comma separated elements\n",
    "\n",
    "Collections can have elements of different types.\n",
    "Collections can be nested."
   ]
  },
  {
   "cell_type": "markdown",
   "metadata": {},
   "source": [
    "---"
   ]
  },
  {
   "cell_type": "markdown",
   "metadata": {},
   "source": [
    "### Lists  [ ] comma separated elements\n",
    "- are just that, lists of elements (arrays)\n",
    "- ordered\n",
    "- iterable\n",
    "- mutable\n",
    "- non-unique values\n",
    "- elements accessed via zero based index [0]"
   ]
  },
  {
   "cell_type": "code",
   "execution_count": 30,
   "metadata": {},
   "outputs": [],
   "source": [
    "list_of_vars = []\n",
    "list_of_files = list()"
   ]
  },
  {
   "cell_type": "code",
   "execution_count": 31,
   "metadata": {},
   "outputs": [
    {
     "data": {
      "text/plain": [
       "list"
      ]
     },
     "execution_count": 31,
     "metadata": {},
     "output_type": "execute_result"
    }
   ],
   "source": [
    "type(list_of_vars)"
   ]
  },
  {
   "cell_type": "code",
   "execution_count": 32,
   "metadata": {},
   "outputs": [
    {
     "data": {
      "text/plain": [
       "list"
      ]
     },
     "execution_count": 32,
     "metadata": {},
     "output_type": "execute_result"
    }
   ],
   "source": [
    "type(list_of_files)"
   ]
  },
  {
   "cell_type": "code",
   "execution_count": 33,
   "metadata": {},
   "outputs": [
    {
     "data": {
      "text/plain": [
       "['__add__',\n",
       " '__class__',\n",
       " '__contains__',\n",
       " '__delattr__',\n",
       " '__delitem__',\n",
       " '__dir__',\n",
       " '__doc__',\n",
       " '__eq__',\n",
       " '__format__',\n",
       " '__ge__',\n",
       " '__getattribute__',\n",
       " '__getitem__',\n",
       " '__gt__',\n",
       " '__hash__',\n",
       " '__iadd__',\n",
       " '__imul__',\n",
       " '__init__',\n",
       " '__init_subclass__',\n",
       " '__iter__',\n",
       " '__le__',\n",
       " '__len__',\n",
       " '__lt__',\n",
       " '__mul__',\n",
       " '__ne__',\n",
       " '__new__',\n",
       " '__reduce__',\n",
       " '__reduce_ex__',\n",
       " '__repr__',\n",
       " '__reversed__',\n",
       " '__rmul__',\n",
       " '__setattr__',\n",
       " '__setitem__',\n",
       " '__sizeof__',\n",
       " '__str__',\n",
       " '__subclasshook__',\n",
       " 'append',\n",
       " 'clear',\n",
       " 'copy',\n",
       " 'count',\n",
       " 'extend',\n",
       " 'index',\n",
       " 'insert',\n",
       " 'pop',\n",
       " 'remove',\n",
       " 'reverse',\n",
       " 'sort']"
      ]
     },
     "execution_count": 33,
     "metadata": {},
     "output_type": "execute_result"
    }
   ],
   "source": [
    "dir(list_of_files)"
   ]
  },
  {
   "cell_type": "markdown",
   "metadata": {},
   "source": [
    "Appending cfg_filename1 and cfg_filename2 to list_of_files..."
   ]
  },
  {
   "cell_type": "code",
   "execution_count": 34,
   "metadata": {},
   "outputs": [],
   "source": [
    "list_of_files.append(cfg_filename1)"
   ]
  },
  {
   "cell_type": "code",
   "execution_count": 35,
   "metadata": {},
   "outputs": [
    {
     "data": {
      "text/plain": [
       "['retail-rtr.txt']"
      ]
     },
     "execution_count": 35,
     "metadata": {},
     "output_type": "execute_result"
    }
   ],
   "source": [
    "list_of_files"
   ]
  },
  {
   "cell_type": "code",
   "execution_count": 36,
   "metadata": {},
   "outputs": [],
   "source": [
    "list_of_files.append(cfg_fn2)"
   ]
  },
  {
   "cell_type": "code",
   "execution_count": 37,
   "metadata": {},
   "outputs": [
    {
     "data": {
      "text/plain": [
       "['retail-rtr.txt', 'csr1000v-1.txt']"
      ]
     },
     "execution_count": 37,
     "metadata": {},
     "output_type": "execute_result"
    }
   ],
   "source": [
    "list_of_files"
   ]
  },
  {
   "cell_type": "code",
   "execution_count": 38,
   "metadata": {},
   "outputs": [
    {
     "data": {
      "text/plain": [
       "'retail-rtr.txt'"
      ]
     },
     "execution_count": 38,
     "metadata": {},
     "output_type": "execute_result"
    }
   ],
   "source": [
    "list_of_files[0]"
   ]
  },
  {
   "cell_type": "code",
   "execution_count": 39,
   "metadata": {},
   "outputs": [
    {
     "data": {
      "text/plain": [
       "'\\n    0057.d21b.7d00\\n    0057.d21b.7d00\\n    a4bb.6da1.68e4\\n    0008.6600.2ae4\\n    0003.5b0a.2bdd\\n    0003.5b0a.2bdc\\n    0003.5b0a.2bdc\\n    509a.4c48.3214\\n    484d.7ee4.9ccb\\n    484d.7edc.e24b\\n    1866.da3b.99e1\\n    1866.da3b.a40a\\n    6012.8bd3.1d8f\\n    b07b.2540.514c\\n    509a.4c48.2cce\\n    509a.4c48.2cce\\n    00a7.42f6.b434\\n    '"
      ]
     },
     "execution_count": 39,
     "metadata": {},
     "output_type": "execute_result"
    }
   ],
   "source": [
    "mac_text"
   ]
  },
  {
   "cell_type": "markdown",
   "metadata": {},
   "source": [
    "Lets take the string mac_text and turn it into a list..."
   ]
  },
  {
   "cell_type": "code",
   "execution_count": 40,
   "metadata": {},
   "outputs": [],
   "source": [
    "mac_list = mac_text.split()"
   ]
  },
  {
   "cell_type": "code",
   "execution_count": 41,
   "metadata": {},
   "outputs": [
    {
     "data": {
      "text/plain": [
       "328"
      ]
     },
     "execution_count": 41,
     "metadata": {},
     "output_type": "execute_result"
    }
   ],
   "source": [
    "len(mac_text)"
   ]
  },
  {
   "cell_type": "code",
   "execution_count": 42,
   "metadata": {},
   "outputs": [
    {
     "data": {
      "text/plain": [
       "17"
      ]
     },
     "execution_count": 42,
     "metadata": {},
     "output_type": "execute_result"
    }
   ],
   "source": [
    "len(mac_list)"
   ]
  },
  {
   "cell_type": "code",
   "execution_count": 43,
   "metadata": {},
   "outputs": [
    {
     "data": {
      "text/plain": [
       "['0057.d21b.7d00',\n",
       " '0057.d21b.7d00',\n",
       " 'a4bb.6da1.68e4',\n",
       " '0008.6600.2ae4',\n",
       " '0003.5b0a.2bdd',\n",
       " '0003.5b0a.2bdc',\n",
       " '0003.5b0a.2bdc',\n",
       " '509a.4c48.3214',\n",
       " '484d.7ee4.9ccb',\n",
       " '484d.7edc.e24b',\n",
       " '1866.da3b.99e1',\n",
       " '1866.da3b.a40a',\n",
       " '6012.8bd3.1d8f',\n",
       " 'b07b.2540.514c',\n",
       " '509a.4c48.2cce',\n",
       " '509a.4c48.2cce',\n",
       " '00a7.42f6.b434']"
      ]
     },
     "execution_count": 43,
     "metadata": {},
     "output_type": "execute_result"
    }
   ],
   "source": [
    "mac_list"
   ]
  },
  {
   "cell_type": "markdown",
   "metadata": {},
   "source": [
    "#### List Slices\n",
    "my_list[start:stop]\n",
    "negative number inticates from the end of the list "
   ]
  },
  {
   "cell_type": "code",
   "execution_count": 45,
   "metadata": {},
   "outputs": [
    {
     "data": {
      "text/plain": [
       "'00a7.42f6.b434'"
      ]
     },
     "execution_count": 45,
     "metadata": {},
     "output_type": "execute_result"
    }
   ],
   "source": [
    "mac_list[-1]"
   ]
  },
  {
   "cell_type": "markdown",
   "metadata": {},
   "source": [
    "---"
   ]
  },
  {
   "cell_type": "markdown",
   "metadata": {},
   "source": [
    "### Dictionaries { } comma separated key:value pairs\n",
    "- key:value pairs (hashes)\n",
    "- unordered\n",
    "- iterable\n",
    "- mutable \n",
    "- unique keys\n",
    "- elements accessed via key [key]"
   ]
  },
  {
   "cell_type": "code",
   "execution_count": 46,
   "metadata": {},
   "outputs": [],
   "source": [
    "dict_of_files_brackets = {}\n",
    "dict_of_files = dict()"
   ]
  },
  {
   "cell_type": "code",
   "execution_count": 47,
   "metadata": {},
   "outputs": [
    {
     "data": {
      "text/plain": [
       "dict"
      ]
     },
     "execution_count": 47,
     "metadata": {},
     "output_type": "execute_result"
    }
   ],
   "source": [
    "type(dict_of_files_brackets)"
   ]
  },
  {
   "cell_type": "code",
   "execution_count": 48,
   "metadata": {},
   "outputs": [
    {
     "data": {
      "text/plain": [
       "dict"
      ]
     },
     "execution_count": 48,
     "metadata": {},
     "output_type": "execute_result"
    }
   ],
   "source": [
    "type(dict_of_files)"
   ]
  },
  {
   "cell_type": "code",
   "execution_count": 49,
   "metadata": {},
   "outputs": [],
   "source": [
    "int_dict = {\n",
    "    \"e1/1\": \"Peer Link1\",\n",
    "    \"e1/2\": \"Peer Link2\",\n",
    "    \"e1/32\": \"Keepalive\"\n",
    "}"
   ]
  },
  {
   "cell_type": "code",
   "execution_count": 50,
   "metadata": {},
   "outputs": [
    {
     "data": {
      "text/plain": [
       "dict_keys(['e1/1', 'e1/2', 'e1/32'])"
      ]
     },
     "execution_count": 50,
     "metadata": {},
     "output_type": "execute_result"
    }
   ],
   "source": [
    "int_dict.keys()"
   ]
  },
  {
   "cell_type": "code",
   "execution_count": 51,
   "metadata": {},
   "outputs": [
    {
     "data": {
      "text/plain": [
       "dict_values(['Peer Link1', 'Peer Link2', 'Keepalive'])"
      ]
     },
     "execution_count": 51,
     "metadata": {},
     "output_type": "execute_result"
    }
   ],
   "source": [
    "int_dict.values()"
   ]
  },
  {
   "cell_type": "code",
   "execution_count": 52,
   "metadata": {},
   "outputs": [
    {
     "data": {
      "text/plain": [
       "'Peer Link1'"
      ]
     },
     "execution_count": 52,
     "metadata": {},
     "output_type": "execute_result"
    }
   ],
   "source": [
    "int_dict[\"e1/1\"]"
   ]
  },
  {
   "cell_type": "code",
   "execution_count": 53,
   "metadata": {},
   "outputs": [],
   "source": [
    "int_dict[\"e1/32\"] = \"Peer Keepalive\""
   ]
  },
  {
   "cell_type": "code",
   "execution_count": 54,
   "metadata": {},
   "outputs": [
    {
     "data": {
      "text/plain": [
       "{'e1/1': 'Peer Link1', 'e1/2': 'Peer Link2', 'e1/32': 'Peer Keepalive'}"
      ]
     },
     "execution_count": 54,
     "metadata": {},
     "output_type": "execute_result"
    }
   ],
   "source": [
    "int_dict"
   ]
  },
  {
   "cell_type": "code",
   "execution_count": 55,
   "metadata": {},
   "outputs": [
    {
     "name": "stdout",
     "output_type": "stream",
     "text": [
      "e1/1\n",
      "Peer Link1\n",
      "\n",
      "e1/2\n",
      "Peer Link2\n",
      "\n",
      "e1/32\n",
      "Peer Keepalive\n",
      "\n"
     ]
    }
   ],
   "source": [
    "for key, value in int_dict.items():\n",
    "    print(key)\n",
    "    print(value)\n",
    "    print()"
   ]
  },
  {
   "cell_type": "code",
   "execution_count": 56,
   "metadata": {},
   "outputs": [
    {
     "name": "stdout",
     "output_type": "stream",
     "text": [
      "e1/1\n",
      "<class 'str'>\n",
      "e1/2\n",
      "<class 'str'>\n",
      "e1/32\n",
      "<class 'str'>\n"
     ]
    }
   ],
   "source": [
    "for item in int_dict:\n",
    "    print(item)\n",
    "    print(type(item))"
   ]
  },
  {
   "cell_type": "markdown",
   "metadata": {},
   "source": [
    "---"
   ]
  },
  {
   "cell_type": "markdown",
   "metadata": {},
   "source": [
    "### Sets { } comma separated elements\n",
    "- unordered\n",
    "- immutable (but elemments can be added - just not changed)\n",
    "- **unique values**\n",
    "- iterable but not in the same way lists are (use \"in\" or turn the set into an iterable with **iter** and **next**) "
   ]
  },
  {
   "cell_type": "code",
   "execution_count": 57,
   "metadata": {},
   "outputs": [],
   "source": [
    "ip_set = {\"1.1.1.1\", \"2.2.2.2\", \"1.1.1.1\"}"
   ]
  },
  {
   "cell_type": "code",
   "execution_count": 58,
   "metadata": {},
   "outputs": [
    {
     "data": {
      "text/plain": [
       "{'1.1.1.1', '2.2.2.2'}"
      ]
     },
     "execution_count": 58,
     "metadata": {},
     "output_type": "execute_result"
    }
   ],
   "source": [
    "ip_set"
   ]
  },
  {
   "cell_type": "markdown",
   "metadata": {},
   "source": [
    "Referencing specific values in a set is not like with a list.\n",
    "\n",
    "Use **in** to see if a value is in a set."
   ]
  },
  {
   "cell_type": "code",
   "execution_count": null,
   "metadata": {},
   "outputs": [],
   "source": [
    "\"1.1.1.1\" in ip_set"
   ]
  },
  {
   "cell_type": "markdown",
   "metadata": {},
   "source": [
    "Turn an iterable set into the iterator oject with **iter()** and use **next(***iterator object***)** to cycle through each element"
   ]
  },
  {
   "cell_type": "code",
   "execution_count": null,
   "metadata": {},
   "outputs": [],
   "source": [
    "ip_iter = iter(ip_set)\n",
    "next(ip_iter)"
   ]
  },
  {
   "cell_type": "code",
   "execution_count": null,
   "metadata": {},
   "outputs": [],
   "source": [
    "next(ip_iter)"
   ]
  },
  {
   "cell_type": "markdown",
   "metadata": {},
   "source": [
    "Our list of MACs had duplicates but we need a unique list of MACs so turning the list into a set is a very easy way to do this."
   ]
  },
  {
   "cell_type": "code",
   "execution_count": 59,
   "metadata": {},
   "outputs": [
    {
     "data": {
      "text/plain": [
       "17"
      ]
     },
     "execution_count": 59,
     "metadata": {},
     "output_type": "execute_result"
    }
   ],
   "source": [
    "len(mac_list)"
   ]
  },
  {
   "cell_type": "code",
   "execution_count": 60,
   "metadata": {},
   "outputs": [],
   "source": [
    "umac = set(mac_list)"
   ]
  },
  {
   "cell_type": "code",
   "execution_count": 61,
   "metadata": {},
   "outputs": [
    {
     "data": {
      "text/plain": [
       "14"
      ]
     },
     "execution_count": 61,
     "metadata": {},
     "output_type": "execute_result"
    }
   ],
   "source": [
    "len(umac)"
   ]
  },
  {
   "cell_type": "code",
   "execution_count": 62,
   "metadata": {},
   "outputs": [],
   "source": [
    "umac.add(\"0000.0000.0000\")"
   ]
  },
  {
   "cell_type": "code",
   "execution_count": 63,
   "metadata": {},
   "outputs": [
    {
     "data": {
      "text/plain": [
       "{'0000.0000.0000',\n",
       " '0003.5b0a.2bdc',\n",
       " '0003.5b0a.2bdd',\n",
       " '0008.6600.2ae4',\n",
       " '0057.d21b.7d00',\n",
       " '00a7.42f6.b434',\n",
       " '1866.da3b.99e1',\n",
       " '1866.da3b.a40a',\n",
       " '484d.7edc.e24b',\n",
       " '484d.7ee4.9ccb',\n",
       " '509a.4c48.2cce',\n",
       " '509a.4c48.3214',\n",
       " '6012.8bd3.1d8f',\n",
       " 'a4bb.6da1.68e4',\n",
       " 'b07b.2540.514c'}"
      ]
     },
     "execution_count": 63,
     "metadata": {},
     "output_type": "execute_result"
    }
   ],
   "source": [
    "umac"
   ]
  },
  {
   "cell_type": "code",
   "execution_count": 64,
   "metadata": {},
   "outputs": [
    {
     "data": {
      "text/plain": [
       "15"
      ]
     },
     "execution_count": 64,
     "metadata": {},
     "output_type": "execute_result"
    }
   ],
   "source": [
    "len(umac)"
   ]
  },
  {
   "cell_type": "code",
   "execution_count": 65,
   "metadata": {},
   "outputs": [
    {
     "ename": "TypeError",
     "evalue": "'set' object is not subscriptable",
     "output_type": "error",
     "traceback": [
      "\u001b[0;31m---------------------------------------------------------------------------\u001b[0m",
      "\u001b[0;31mTypeError\u001b[0m                                 Traceback (most recent call last)",
      "\u001b[0;32m<ipython-input-65-9180ce248d27>\u001b[0m in \u001b[0;36m<module>\u001b[0;34m\u001b[0m\n\u001b[0;32m----> 1\u001b[0;31m \u001b[0mumac\u001b[0m\u001b[0;34m[\u001b[0m\u001b[0;36m0\u001b[0m\u001b[0;34m]\u001b[0m\u001b[0;34m\u001b[0m\u001b[0;34m\u001b[0m\u001b[0m\n\u001b[0m",
      "\u001b[0;31mTypeError\u001b[0m: 'set' object is not subscriptable"
     ]
    }
   ],
   "source": [
    "umac[0]"
   ]
  },
  {
   "cell_type": "code",
   "execution_count": 66,
   "metadata": {},
   "outputs": [
    {
     "ename": "TypeError",
     "evalue": "'set' object does not support item assignment",
     "output_type": "error",
     "traceback": [
      "\u001b[0;31m---------------------------------------------------------------------------\u001b[0m",
      "\u001b[0;31mTypeError\u001b[0m                                 Traceback (most recent call last)",
      "\u001b[0;32m<ipython-input-66-450f7b9082e1>\u001b[0m in \u001b[0;36m<module>\u001b[0;34m\u001b[0m\n\u001b[0;32m----> 1\u001b[0;31m \u001b[0mumac\u001b[0m\u001b[0;34m[\u001b[0m\u001b[0;36m0\u001b[0m\u001b[0;34m]\u001b[0m \u001b[0;34m=\u001b[0m \u001b[0;34m\"ffff.ffff.ffff\"\u001b[0m\u001b[0;34m\u001b[0m\u001b[0;34m\u001b[0m\u001b[0m\n\u001b[0m",
      "\u001b[0;31mTypeError\u001b[0m: 'set' object does not support item assignment"
     ]
    }
   ],
   "source": [
    "umac[0] = \"ffff.ffff.ffff\""
   ]
  },
  {
   "cell_type": "markdown",
   "metadata": {},
   "source": [
    "---"
   ]
  },
  {
   "cell_type": "markdown",
   "metadata": {},
   "source": [
    "### Tuples  ( ) comma separated elements\n",
    "- ordered\n",
    "- immutable\n",
    "- non-unique values\n",
    "- elements accessed via zero based index [0]"
   ]
  },
  {
   "cell_type": "code",
   "execution_count": 67,
   "metadata": {},
   "outputs": [],
   "source": [
    "helpers = (\"1.1.1.1\", \"2.2.2.2\", \"1.1.1.1\")"
   ]
  },
  {
   "cell_type": "code",
   "execution_count": 68,
   "metadata": {},
   "outputs": [
    {
     "data": {
      "text/plain": [
       "('1.1.1.1', '2.2.2.2', '1.1.1.1')"
      ]
     },
     "execution_count": 68,
     "metadata": {},
     "output_type": "execute_result"
    }
   ],
   "source": [
    "helpers"
   ]
  },
  {
   "cell_type": "code",
   "execution_count": 69,
   "metadata": {},
   "outputs": [
    {
     "data": {
      "text/plain": [
       "tuple"
      ]
     },
     "execution_count": 69,
     "metadata": {},
     "output_type": "execute_result"
    }
   ],
   "source": [
    "type(helpers)"
   ]
  },
  {
   "cell_type": "code",
   "execution_count": 70,
   "metadata": {},
   "outputs": [
    {
     "data": {
      "text/plain": [
       "'1.1.1.1'"
      ]
     },
     "execution_count": 70,
     "metadata": {},
     "output_type": "execute_result"
    }
   ],
   "source": [
    "helpers[0]"
   ]
  },
  {
   "cell_type": "code",
   "execution_count": 71,
   "metadata": {},
   "outputs": [
    {
     "ename": "AttributeError",
     "evalue": "'tuple' object has no attribute 'add'",
     "output_type": "error",
     "traceback": [
      "\u001b[0;31m---------------------------------------------------------------------------\u001b[0m",
      "\u001b[0;31mAttributeError\u001b[0m                            Traceback (most recent call last)",
      "\u001b[0;32m<ipython-input-71-11dbe5b034d3>\u001b[0m in \u001b[0;36m<module>\u001b[0;34m\u001b[0m\n\u001b[0;32m----> 1\u001b[0;31m \u001b[0mhelpers\u001b[0m\u001b[0;34m.\u001b[0m\u001b[0madd\u001b[0m\u001b[0;34m(\u001b[0m\u001b[0;34m\"3.3.3.3\"\u001b[0m\u001b[0;34m)\u001b[0m\u001b[0;34m\u001b[0m\u001b[0;34m\u001b[0m\u001b[0m\n\u001b[0m",
      "\u001b[0;31mAttributeError\u001b[0m: 'tuple' object has no attribute 'add'"
     ]
    }
   ],
   "source": [
    "helpers.add(\"3.3.3.3\")"
   ]
  },
  {
   "cell_type": "code",
   "execution_count": 72,
   "metadata": {},
   "outputs": [
    {
     "data": {
      "text/plain": [
       "['__add__',\n",
       " '__class__',\n",
       " '__contains__',\n",
       " '__delattr__',\n",
       " '__dir__',\n",
       " '__doc__',\n",
       " '__eq__',\n",
       " '__format__',\n",
       " '__ge__',\n",
       " '__getattribute__',\n",
       " '__getitem__',\n",
       " '__getnewargs__',\n",
       " '__gt__',\n",
       " '__hash__',\n",
       " '__init__',\n",
       " '__init_subclass__',\n",
       " '__iter__',\n",
       " '__le__',\n",
       " '__len__',\n",
       " '__lt__',\n",
       " '__mul__',\n",
       " '__ne__',\n",
       " '__new__',\n",
       " '__reduce__',\n",
       " '__reduce_ex__',\n",
       " '__repr__',\n",
       " '__rmul__',\n",
       " '__setattr__',\n",
       " '__sizeof__',\n",
       " '__str__',\n",
       " '__subclasshook__',\n",
       " 'count',\n",
       " 'index']"
      ]
     },
     "execution_count": 72,
     "metadata": {},
     "output_type": "execute_result"
    }
   ],
   "source": [
    "dir(helpers)"
   ]
  },
  {
   "cell_type": "code",
   "execution_count": 73,
   "metadata": {},
   "outputs": [
    {
     "data": {
      "text/plain": [
       "2"
      ]
     },
     "execution_count": 73,
     "metadata": {},
     "output_type": "execute_result"
    }
   ],
   "source": [
    "helpers.count(\"1.1.1.1\")"
   ]
  },
  {
   "cell_type": "code",
   "execution_count": 74,
   "metadata": {},
   "outputs": [
    {
     "data": {
      "text/plain": [
       "1"
      ]
     },
     "execution_count": 74,
     "metadata": {},
     "output_type": "execute_result"
    }
   ],
   "source": [
    "helpers.index(\"2.2.2.2\")"
   ]
  },
  {
   "cell_type": "code",
   "execution_count": 75,
   "metadata": {},
   "outputs": [
    {
     "data": {
      "text/plain": [
       "'2.2.2.2'"
      ]
     },
     "execution_count": 75,
     "metadata": {},
     "output_type": "execute_result"
    }
   ],
   "source": [
    "helpers[1]"
   ]
  },
  {
   "cell_type": "code",
   "execution_count": 76,
   "metadata": {},
   "outputs": [
    {
     "name": "stdout",
     "output_type": "stream",
     "text": [
      "Help on tuple object:\n",
      "\n",
      "class tuple(object)\n",
      " |  tuple(iterable=(), /)\n",
      " |  \n",
      " |  Built-in immutable sequence.\n",
      " |  \n",
      " |  If no argument is given, the constructor returns an empty tuple.\n",
      " |  If iterable is specified the tuple is initialized from iterable's items.\n",
      " |  \n",
      " |  If the argument is a tuple, the return value is the same object.\n",
      " |  \n",
      " |  Methods defined here:\n",
      " |  \n",
      " |  __add__(self, value, /)\n",
      " |      Return self+value.\n",
      " |  \n",
      " |  __contains__(self, key, /)\n",
      " |      Return key in self.\n",
      " |  \n",
      " |  __eq__(self, value, /)\n",
      " |      Return self==value.\n",
      " |  \n",
      " |  __ge__(self, value, /)\n",
      " |      Return self>=value.\n",
      " |  \n",
      " |  __getattribute__(self, name, /)\n",
      " |      Return getattr(self, name).\n",
      " |  \n",
      " |  __getitem__(self, key, /)\n",
      " |      Return self[key].\n",
      " |  \n",
      " |  __getnewargs__(self, /)\n",
      " |  \n",
      " |  __gt__(self, value, /)\n",
      " |      Return self>value.\n",
      " |  \n",
      " |  __hash__(self, /)\n",
      " |      Return hash(self).\n",
      " |  \n",
      " |  __iter__(self, /)\n",
      " |      Implement iter(self).\n",
      " |  \n",
      " |  __le__(self, value, /)\n",
      " |      Return self<=value.\n",
      " |  \n",
      " |  __len__(self, /)\n",
      " |      Return len(self).\n",
      " |  \n",
      " |  __lt__(self, value, /)\n",
      " |      Return self<value.\n",
      " |  \n",
      " |  __mul__(self, value, /)\n",
      " |      Return self*value.\n",
      " |  \n",
      " |  __ne__(self, value, /)\n",
      " |      Return self!=value.\n",
      " |  \n",
      " |  __repr__(self, /)\n",
      " |      Return repr(self).\n",
      " |  \n",
      " |  __rmul__(self, value, /)\n",
      " |      Return value*self.\n",
      " |  \n",
      " |  count(self, value, /)\n",
      " |      Return number of occurrences of value.\n",
      " |  \n",
      " |  index(self, value, start=0, stop=9223372036854775807, /)\n",
      " |      Return first index of value.\n",
      " |      \n",
      " |      Raises ValueError if the value is not present.\n",
      " |  \n",
      " |  ----------------------------------------------------------------------\n",
      " |  Static methods defined here:\n",
      " |  \n",
      " |  __new__(*args, **kwargs) from builtins.type\n",
      " |      Create and return a new object.  See help(type) for accurate signature.\n",
      "\n"
     ]
    }
   ],
   "source": [
    "help(helpers)"
   ]
  },
  {
   "cell_type": "markdown",
   "metadata": {},
   "source": [
    "---"
   ]
  },
  {
   "cell_type": "markdown",
   "metadata": {},
   "source": [
    "## Input and Output"
   ]
  },
  {
   "cell_type": "markdown",
   "metadata": {},
   "source": [
    "### Input\n",
    "- Command line arguments (argparse)\n",
    "- Interactive input"
   ]
  },
  {
   "cell_type": "code",
   "execution_count": 77,
   "metadata": {},
   "outputs": [
    {
     "name": "stdout",
     "output_type": "stream",
     "text": [
      "Enter password:my_password\n"
     ]
    }
   ],
   "source": [
    "password = input(\"Enter password:\")"
   ]
  },
  {
   "cell_type": "code",
   "execution_count": 78,
   "metadata": {},
   "outputs": [
    {
     "data": {
      "text/plain": [
       "'my_password'"
      ]
     },
     "execution_count": 78,
     "metadata": {},
     "output_type": "execute_result"
    }
   ],
   "source": [
    "password"
   ]
  },
  {
   "cell_type": "code",
   "execution_count": 80,
   "metadata": {},
   "outputs": [
    {
     "name": "stdout",
     "output_type": "stream",
     "text": [
      "········\n"
     ]
    }
   ],
   "source": [
    "import getpass\n",
    "passwd = getpass.getpass()"
   ]
  },
  {
   "cell_type": "code",
   "execution_count": 83,
   "metadata": {},
   "outputs": [
    {
     "data": {
      "text/plain": [
       "'my_password'"
      ]
     },
     "execution_count": 83,
     "metadata": {},
     "output_type": "execute_result"
    }
   ],
   "source": [
    "passwd"
   ]
  },
  {
   "cell_type": "markdown",
   "metadata": {},
   "source": [
    "### Output"
   ]
  },
  {
   "cell_type": "code",
   "execution_count": 84,
   "metadata": {},
   "outputs": [
    {
     "name": "stdout",
     "output_type": "stream",
     "text": [
      "Hello\n"
     ]
    }
   ],
   "source": [
    "print(\"Hello\")"
   ]
  },
  {
   "cell_type": "code",
   "execution_count": 85,
   "metadata": {},
   "outputs": [
    {
     "name": "stdout",
     "output_type": "stream",
     "text": [
      "My password is my_password\n"
     ]
    }
   ],
   "source": [
    "print(f\"My password is {passwd}\")"
   ]
  },
  {
   "cell_type": "markdown",
   "metadata": {},
   "source": [
    "---"
   ]
  },
  {
   "cell_type": "markdown",
   "metadata": {},
   "source": [
    "## Files"
   ]
  },
  {
   "cell_type": "code",
   "execution_count": 86,
   "metadata": {},
   "outputs": [
    {
     "name": "stdout",
     "output_type": "stream",
     "text": [
      "Python_Refresher_Notebook.ipynb  nexus_show_version.txt\r\n",
      "csr1000v-1.txt                   retail-rtr.txt\r\n",
      "iosxe_show_version.txt           sec03.py\r\n",
      "my_mac_data.txt\r\n"
     ]
    }
   ],
   "source": [
    "ls"
   ]
  },
  {
   "cell_type": "code",
   "execution_count": 95,
   "metadata": {},
   "outputs": [],
   "source": [
    "fh = open(\"nexus_show_version.txt\")"
   ]
  },
  {
   "cell_type": "markdown",
   "metadata": {},
   "source": [
    "a direct \"open\" should be in a try/except block"
   ]
  },
  {
   "cell_type": "code",
   "execution_count": 88,
   "metadata": {},
   "outputs": [
    {
     "name": "stdout",
     "output_type": "stream",
     "text": [
      "<_io.TextIOWrapper name='nexus_show_version.txt' mode='r' encoding='UTF-8'>\n"
     ]
    }
   ],
   "source": [
    "print(fh)"
   ]
  },
  {
   "cell_type": "code",
   "execution_count": 89,
   "metadata": {},
   "outputs": [
    {
     "data": {
      "text/plain": [
       "_io.TextIOWrapper"
      ]
     },
     "execution_count": 89,
     "metadata": {},
     "output_type": "execute_result"
    }
   ],
   "source": [
    "type(fh)"
   ]
  },
  {
   "cell_type": "code",
   "execution_count": 90,
   "metadata": {},
   "outputs": [
    {
     "data": {
      "text/plain": [
       "['_CHUNK_SIZE',\n",
       " '__class__',\n",
       " '__del__',\n",
       " '__delattr__',\n",
       " '__dict__',\n",
       " '__dir__',\n",
       " '__doc__',\n",
       " '__enter__',\n",
       " '__eq__',\n",
       " '__exit__',\n",
       " '__format__',\n",
       " '__ge__',\n",
       " '__getattribute__',\n",
       " '__getstate__',\n",
       " '__gt__',\n",
       " '__hash__',\n",
       " '__init__',\n",
       " '__init_subclass__',\n",
       " '__iter__',\n",
       " '__le__',\n",
       " '__lt__',\n",
       " '__ne__',\n",
       " '__new__',\n",
       " '__next__',\n",
       " '__reduce__',\n",
       " '__reduce_ex__',\n",
       " '__repr__',\n",
       " '__setattr__',\n",
       " '__sizeof__',\n",
       " '__str__',\n",
       " '__subclasshook__',\n",
       " '_checkClosed',\n",
       " '_checkReadable',\n",
       " '_checkSeekable',\n",
       " '_checkWritable',\n",
       " '_finalizing',\n",
       " 'buffer',\n",
       " 'close',\n",
       " 'closed',\n",
       " 'detach',\n",
       " 'encoding',\n",
       " 'errors',\n",
       " 'fileno',\n",
       " 'flush',\n",
       " 'isatty',\n",
       " 'line_buffering',\n",
       " 'mode',\n",
       " 'name',\n",
       " 'newlines',\n",
       " 'read',\n",
       " 'readable',\n",
       " 'readline',\n",
       " 'readlines',\n",
       " 'reconfigure',\n",
       " 'seek',\n",
       " 'seekable',\n",
       " 'tell',\n",
       " 'truncate',\n",
       " 'writable',\n",
       " 'write',\n",
       " 'write_through',\n",
       " 'writelines']"
      ]
     },
     "execution_count": 90,
     "metadata": {},
     "output_type": "execute_result"
    }
   ],
   "source": [
    "dir(fh)"
   ]
  },
  {
   "cell_type": "code",
   "execution_count": 91,
   "metadata": {},
   "outputs": [],
   "source": [
    "data = fh.read()"
   ]
  },
  {
   "cell_type": "code",
   "execution_count": 92,
   "metadata": {},
   "outputs": [],
   "source": [
    "fh.close()"
   ]
  },
  {
   "cell_type": "code",
   "execution_count": 93,
   "metadata": {},
   "outputs": [
    {
     "data": {
      "text/plain": [
       "'!--- show version \\nCisco Nexus Operating System (NX-OS) Software\\nTAC support: http://www.cisco.com/tac\\nCopyright (C) 2002-2020, Cisco and/or its affiliates.\\nAll rights reserved.\\nThe copyrights to certain works contained in this software are\\nowned by other third parties and used and distributed under their own\\nlicenses, such as open source.  This software is provided \"as is,\" and unless\\notherwise stated, there is no warranty, express or implied, including but not\\nlimited to warranties of merchantability and fitness for a particular purpose.\\nCertain components of this software are licensed under\\nthe GNU General Public License (GPL) version 2.0 or \\nGNU General Public License (GPL) version 3.0  or the GNU\\nLesser General Public License (LGPL) Version 2.1 or \\nLesser General Public License (LGPL) Version 2.0. \\nA copy of each such license is available at\\nhttp://www.opensource.org/licenses/gpl-2.0.php and\\nhttp://opensource.org/licenses/gpl-3.0.html and\\nhttp://www.opensource.org/licenses/lgpl-2.1.php and\\nhttp://www.gnu.org/licenses/old-licenses/library.txt.\\n\\nSoftware\\n  BIOS: version 5.3.1\\n  NXOS: version 7.0(3)I7(8)\\n  BIOS compile time:  06/04/2019\\n  NXOS image file is: bootflash:///nxos.7.0.3.I7.8.bin\\n  NXOS compile time:  3/3/2020 20:00:00 [03/03/2020 22:49:49]\\n\\n\\nHardware\\n  cisco Nexus3500 C3548P-10GX Chassis \\n  Intel(R) Pentium(R) CPU  @ 2.00GHz with 4031488 kB of memory.\\n  Processor Board ID FOC2245436V\\n\\n  Device name: gdl-srvsw01\\n  bootflash:    3556320 kB\\n  usb1:               0 kB (expansion flash)\\n  usb2:               0 kB (expansion flash)\\n\\nKernel uptime is 237 day(s), 22 hour(s), 32 minute(s), 11 second(s)\\n\\nLast reset at 578576 usecs after Fri Jun  5 14:06:18 2020\\n  Reason: Disruptive upgrade\\n  System version: 6.0(2)A8(11)\\n  Service: \\n\\nplugin\\n  Core Plugin, Ethernet Plugin\\n\\nActive Package(s):\\n        nxos.CSCvt39630-n9k_ALL-1.0.0-7.0.3.I7.8.lib32_n9000\\n        '"
      ]
     },
     "execution_count": 93,
     "metadata": {},
     "output_type": "execute_result"
    }
   ],
   "source": [
    "data"
   ]
  },
  {
   "cell_type": "code",
   "execution_count": 96,
   "metadata": {},
   "outputs": [
    {
     "name": "stdout",
     "output_type": "stream",
     "text": [
      "!--- show version \n",
      "\n",
      "Cisco Nexus Operating System (NX-OS) Software\n",
      "\n",
      "TAC support: http://www.cisco.com/tac\n",
      "\n",
      "Copyright (C) 2002-2020, Cisco and/or its affiliates.\n",
      "\n",
      "All rights reserved.\n",
      "\n",
      "The copyrights to certain works contained in this software are\n",
      "\n",
      "owned by other third parties and used and distributed under their own\n",
      "\n",
      "licenses, such as open source.  This software is provided \"as is,\" and unless\n",
      "\n",
      "otherwise stated, there is no warranty, express or implied, including but not\n",
      "\n",
      "limited to warranties of merchantability and fitness for a particular purpose.\n",
      "\n",
      "Certain components of this software are licensed under\n",
      "\n",
      "the GNU General Public License (GPL) version 2.0 or \n",
      "\n",
      "GNU General Public License (GPL) version 3.0  or the GNU\n",
      "\n",
      "Lesser General Public License (LGPL) Version 2.1 or \n",
      "\n",
      "Lesser General Public License (LGPL) Version 2.0. \n",
      "\n",
      "A copy of each such license is available at\n",
      "\n",
      "http://www.opensource.org/licenses/gpl-2.0.php and\n",
      "\n",
      "http://opensource.org/licenses/gpl-3.0.html and\n",
      "\n",
      "http://www.opensource.org/licenses/lgpl-2.1.php and\n",
      "\n",
      "http://www.gnu.org/licenses/old-licenses/library.txt.\n",
      "\n",
      "\n",
      "\n",
      "Software\n",
      "\n",
      "  BIOS: version 5.3.1\n",
      "\n",
      "  NXOS: version 7.0(3)I7(8)\n",
      "\n",
      "  BIOS compile time:  06/04/2019\n",
      "\n",
      "  NXOS image file is: bootflash:///nxos.7.0.3.I7.8.bin\n",
      "\n",
      "  NXOS compile time:  3/3/2020 20:00:00 [03/03/2020 22:49:49]\n",
      "\n",
      "\n",
      "\n",
      "\n",
      "\n",
      "Hardware\n",
      "\n",
      "  cisco Nexus3500 C3548P-10GX Chassis \n",
      "\n",
      "  Intel(R) Pentium(R) CPU  @ 2.00GHz with 4031488 kB of memory.\n",
      "\n",
      "  Processor Board ID FOC2245436V\n",
      "\n",
      "\n",
      "\n",
      "  Device name: gdl-srvsw01\n",
      "\n",
      "  bootflash:    3556320 kB\n",
      "\n",
      "  usb1:               0 kB (expansion flash)\n",
      "\n",
      "  usb2:               0 kB (expansion flash)\n",
      "\n",
      "\n",
      "\n",
      "Kernel uptime is 237 day(s), 22 hour(s), 32 minute(s), 11 second(s)\n",
      "\n",
      "\n",
      "\n",
      "Last reset at 578576 usecs after Fri Jun  5 14:06:18 2020\n",
      "\n",
      "  Reason: Disruptive upgrade\n",
      "\n",
      "  System version: 6.0(2)A8(11)\n",
      "\n",
      "  Service: \n",
      "\n",
      "\n",
      "\n",
      "plugin\n",
      "\n",
      "  Core Plugin, Ethernet Plugin\n",
      "\n",
      "\n",
      "\n",
      "Active Package(s):\n",
      "\n",
      "        nxos.CSCvt39630-n9k_ALL-1.0.0-7.0.3.I7.8.lib32_n9000\n",
      "\n",
      "        \n"
     ]
    }
   ],
   "source": [
    "for line in fh:\n",
    "    print(line)"
   ]
  },
  {
   "cell_type": "markdown",
   "metadata": {},
   "source": [
    "### Safer more modern way ..."
   ]
  },
  {
   "cell_type": "code",
   "execution_count": 97,
   "metadata": {},
   "outputs": [],
   "source": [
    "file_name = \"nexus_show_version.txt\"\n",
    "# By default the file is opened as read only\n",
    "# open(file_name) translates to open(file_name, \"r\")\n",
    "with open(file_name) as file:  \n",
    "    data = file.readlines() "
   ]
  },
  {
   "cell_type": "code",
   "execution_count": 98,
   "metadata": {},
   "outputs": [
    {
     "data": {
      "text/plain": [
       "list"
      ]
     },
     "execution_count": 98,
     "metadata": {},
     "output_type": "execute_result"
    }
   ],
   "source": [
    "type(data)"
   ]
  },
  {
   "cell_type": "code",
   "execution_count": 99,
   "metadata": {},
   "outputs": [
    {
     "data": {
      "text/plain": [
       "52"
      ]
     },
     "execution_count": 99,
     "metadata": {},
     "output_type": "execute_result"
    }
   ],
   "source": [
    "len(data)"
   ]
  },
  {
   "cell_type": "code",
   "execution_count": 100,
   "metadata": {},
   "outputs": [
    {
     "name": "stdout",
     "output_type": "stream",
     "text": [
      "!--- show version \n",
      "\n",
      "Cisco Nexus Operating System (NX-OS) Software\n",
      "\n",
      "TAC support: http://www.cisco.com/tac\n",
      "\n",
      "Copyright (C) 2002-2020, Cisco and/or its affiliates.\n",
      "\n",
      "All rights reserved.\n",
      "\n",
      "The copyrights to certain works contained in this software are\n",
      "\n",
      "owned by other third parties and used and distributed under their own\n",
      "\n",
      "licenses, such as open source.  This software is provided \"as is,\" and unless\n",
      "\n",
      "otherwise stated, there is no warranty, express or implied, including but not\n",
      "\n",
      "limited to warranties of merchantability and fitness for a particular purpose.\n",
      "\n",
      "Certain components of this software are licensed under\n",
      "\n",
      "the GNU General Public License (GPL) version 2.0 or \n",
      "\n",
      "GNU General Public License (GPL) version 3.0  or the GNU\n",
      "\n",
      "Lesser General Public License (LGPL) Version 2.1 or \n",
      "\n",
      "Lesser General Public License (LGPL) Version 2.0. \n",
      "\n",
      "A copy of each such license is available at\n",
      "\n",
      "http://www.opensource.org/licenses/gpl-2.0.php and\n",
      "\n",
      "http://opensource.org/licenses/gpl-3.0.html and\n",
      "\n",
      "http://www.opensource.org/licenses/lgpl-2.1.php and\n",
      "\n",
      "http://www.gnu.org/licenses/old-licenses/library.txt.\n",
      "\n",
      "\n",
      "\n",
      "Software\n",
      "\n",
      "  BIOS: version 5.3.1\n",
      "\n",
      "  NXOS: version 7.0(3)I7(8)\n",
      "\n",
      "  BIOS compile time:  06/04/2019\n",
      "\n",
      "  NXOS image file is: bootflash:///nxos.7.0.3.I7.8.bin\n",
      "\n",
      "  NXOS compile time:  3/3/2020 20:00:00 [03/03/2020 22:49:49]\n",
      "\n",
      "\n",
      "\n",
      "\n",
      "\n",
      "Hardware\n",
      "\n",
      "  cisco Nexus3500 C3548P-10GX Chassis \n",
      "\n",
      "  Intel(R) Pentium(R) CPU  @ 2.00GHz with 4031488 kB of memory.\n",
      "\n",
      "  Processor Board ID FOC2245436V\n",
      "\n",
      "\n",
      "\n",
      "  Device name: gdl-srvsw01\n",
      "\n",
      "  bootflash:    3556320 kB\n",
      "\n",
      "  usb1:               0 kB (expansion flash)\n",
      "\n",
      "  usb2:               0 kB (expansion flash)\n",
      "\n",
      "\n",
      "\n",
      "Kernel uptime is 237 day(s), 22 hour(s), 32 minute(s), 11 second(s)\n",
      "\n",
      "\n",
      "\n",
      "Last reset at 578576 usecs after Fri Jun  5 14:06:18 2020\n",
      "\n",
      "  Reason: Disruptive upgrade\n",
      "\n",
      "  System version: 6.0(2)A8(11)\n",
      "\n",
      "  Service: \n",
      "\n",
      "\n",
      "\n",
      "plugin\n",
      "\n",
      "  Core Plugin, Ethernet Plugin\n",
      "\n",
      "\n",
      "\n",
      "Active Package(s):\n",
      "\n",
      "        nxos.CSCvt39630-n9k_ALL-1.0.0-7.0.3.I7.8.lib32_n9000\n",
      "\n",
      "        \n"
     ]
    }
   ],
   "source": [
    "for line in data:\n",
    "    print(line)"
   ]
  },
  {
   "cell_type": "code",
   "execution_count": 101,
   "metadata": {},
   "outputs": [
    {
     "data": {
      "text/plain": [
       "'!--- show version \\n'"
      ]
     },
     "execution_count": 101,
     "metadata": {},
     "output_type": "execute_result"
    }
   ],
   "source": [
    "data[0]"
   ]
  },
  {
   "cell_type": "code",
   "execution_count": 102,
   "metadata": {},
   "outputs": [
    {
     "data": {
      "text/plain": [
       "str"
      ]
     },
     "execution_count": 102,
     "metadata": {},
     "output_type": "execute_result"
    }
   ],
   "source": [
    "type(data[0])"
   ]
  },
  {
   "cell_type": "code",
   "execution_count": 103,
   "metadata": {},
   "outputs": [
    {
     "data": {
      "text/plain": [
       "['__add__',\n",
       " '__class__',\n",
       " '__contains__',\n",
       " '__delattr__',\n",
       " '__dir__',\n",
       " '__doc__',\n",
       " '__eq__',\n",
       " '__format__',\n",
       " '__ge__',\n",
       " '__getattribute__',\n",
       " '__getitem__',\n",
       " '__getnewargs__',\n",
       " '__gt__',\n",
       " '__hash__',\n",
       " '__init__',\n",
       " '__init_subclass__',\n",
       " '__iter__',\n",
       " '__le__',\n",
       " '__len__',\n",
       " '__lt__',\n",
       " '__mod__',\n",
       " '__mul__',\n",
       " '__ne__',\n",
       " '__new__',\n",
       " '__reduce__',\n",
       " '__reduce_ex__',\n",
       " '__repr__',\n",
       " '__rmod__',\n",
       " '__rmul__',\n",
       " '__setattr__',\n",
       " '__sizeof__',\n",
       " '__str__',\n",
       " '__subclasshook__',\n",
       " 'capitalize',\n",
       " 'casefold',\n",
       " 'center',\n",
       " 'count',\n",
       " 'encode',\n",
       " 'endswith',\n",
       " 'expandtabs',\n",
       " 'find',\n",
       " 'format',\n",
       " 'format_map',\n",
       " 'index',\n",
       " 'isalnum',\n",
       " 'isalpha',\n",
       " 'isascii',\n",
       " 'isdecimal',\n",
       " 'isdigit',\n",
       " 'isidentifier',\n",
       " 'islower',\n",
       " 'isnumeric',\n",
       " 'isprintable',\n",
       " 'isspace',\n",
       " 'istitle',\n",
       " 'isupper',\n",
       " 'join',\n",
       " 'ljust',\n",
       " 'lower',\n",
       " 'lstrip',\n",
       " 'maketrans',\n",
       " 'partition',\n",
       " 'replace',\n",
       " 'rfind',\n",
       " 'rindex',\n",
       " 'rjust',\n",
       " 'rpartition',\n",
       " 'rsplit',\n",
       " 'rstrip',\n",
       " 'split',\n",
       " 'splitlines',\n",
       " 'startswith',\n",
       " 'strip',\n",
       " 'swapcase',\n",
       " 'title',\n",
       " 'translate',\n",
       " 'upper',\n",
       " 'zfill']"
      ]
     },
     "execution_count": 103,
     "metadata": {},
     "output_type": "execute_result"
    }
   ],
   "source": [
    "dir(data[0])"
   ]
  },
  {
   "cell_type": "code",
   "execution_count": 104,
   "metadata": {},
   "outputs": [
    {
     "data": {
      "text/plain": [
       "['!--- show version \\n',\n",
       " 'Cisco Nexus Operating System (NX-OS) Software\\n',\n",
       " 'TAC support: http://www.cisco.com/tac\\n',\n",
       " 'Copyright (C) 2002-2020, Cisco and/or its affiliates.\\n',\n",
       " 'All rights reserved.\\n',\n",
       " 'The copyrights to certain works contained in this software are\\n',\n",
       " 'owned by other third parties and used and distributed under their own\\n',\n",
       " 'licenses, such as open source.  This software is provided \"as is,\" and unless\\n',\n",
       " 'otherwise stated, there is no warranty, express or implied, including but not\\n',\n",
       " 'limited to warranties of merchantability and fitness for a particular purpose.\\n',\n",
       " 'Certain components of this software are licensed under\\n',\n",
       " 'the GNU General Public License (GPL) version 2.0 or \\n',\n",
       " 'GNU General Public License (GPL) version 3.0  or the GNU\\n',\n",
       " 'Lesser General Public License (LGPL) Version 2.1 or \\n',\n",
       " 'Lesser General Public License (LGPL) Version 2.0. \\n',\n",
       " 'A copy of each such license is available at\\n',\n",
       " 'http://www.opensource.org/licenses/gpl-2.0.php and\\n',\n",
       " 'http://opensource.org/licenses/gpl-3.0.html and\\n',\n",
       " 'http://www.opensource.org/licenses/lgpl-2.1.php and\\n',\n",
       " 'http://www.gnu.org/licenses/old-licenses/library.txt.\\n',\n",
       " '\\n',\n",
       " 'Software\\n',\n",
       " '  BIOS: version 5.3.1\\n',\n",
       " '  NXOS: version 7.0(3)I7(8)\\n',\n",
       " '  BIOS compile time:  06/04/2019\\n',\n",
       " '  NXOS image file is: bootflash:///nxos.7.0.3.I7.8.bin\\n',\n",
       " '  NXOS compile time:  3/3/2020 20:00:00 [03/03/2020 22:49:49]\\n',\n",
       " '\\n',\n",
       " '\\n',\n",
       " 'Hardware\\n',\n",
       " '  cisco Nexus3500 C3548P-10GX Chassis \\n',\n",
       " '  Intel(R) Pentium(R) CPU  @ 2.00GHz with 4031488 kB of memory.\\n',\n",
       " '  Processor Board ID FOC2245436V\\n',\n",
       " '\\n',\n",
       " '  Device name: gdl-srvsw01\\n',\n",
       " '  bootflash:    3556320 kB\\n',\n",
       " '  usb1:               0 kB (expansion flash)\\n',\n",
       " '  usb2:               0 kB (expansion flash)\\n',\n",
       " '\\n',\n",
       " 'Kernel uptime is 237 day(s), 22 hour(s), 32 minute(s), 11 second(s)\\n',\n",
       " '\\n',\n",
       " 'Last reset at 578576 usecs after Fri Jun  5 14:06:18 2020\\n',\n",
       " '  Reason: Disruptive upgrade\\n',\n",
       " '  System version: 6.0(2)A8(11)\\n',\n",
       " '  Service: \\n',\n",
       " '\\n',\n",
       " 'plugin\\n',\n",
       " '  Core Plugin, Ethernet Plugin\\n',\n",
       " '\\n',\n",
       " 'Active Package(s):\\n',\n",
       " '        nxos.CSCvt39630-n9k_ALL-1.0.0-7.0.3.I7.8.lib32_n9000\\n',\n",
       " '        ']"
      ]
     },
     "execution_count": 104,
     "metadata": {},
     "output_type": "execute_result"
    }
   ],
   "source": [
    "data"
   ]
  },
  {
   "cell_type": "markdown",
   "metadata": {},
   "source": [
    "### Saving data to a file"
   ]
  },
  {
   "cell_type": "code",
   "execution_count": 105,
   "metadata": {},
   "outputs": [
    {
     "data": {
      "text/plain": [
       "'\\n    0057.d21b.7d00\\n    0057.d21b.7d00\\n    a4bb.6da1.68e4\\n    0008.6600.2ae4\\n    0003.5b0a.2bdd\\n    0003.5b0a.2bdc\\n    0003.5b0a.2bdc\\n    509a.4c48.3214\\n    484d.7ee4.9ccb\\n    484d.7edc.e24b\\n    1866.da3b.99e1\\n    1866.da3b.a40a\\n    6012.8bd3.1d8f\\n    b07b.2540.514c\\n    509a.4c48.2cce\\n    509a.4c48.2cce\\n    00a7.42f6.b434\\n    '"
      ]
     },
     "execution_count": 105,
     "metadata": {},
     "output_type": "execute_result"
    }
   ],
   "source": [
    "mac_text"
   ]
  },
  {
   "cell_type": "code",
   "execution_count": 106,
   "metadata": {},
   "outputs": [],
   "source": [
    "with open(\"my_mac_data.txt\", \"w\") as file:  \n",
    "    file.write(mac_text) "
   ]
  },
  {
   "cell_type": "code",
   "execution_count": 107,
   "metadata": {},
   "outputs": [
    {
     "name": "stdout",
     "output_type": "stream",
     "text": [
      "Python_Refresher_Notebook.ipynb  nexus_show_version.txt\r\n",
      "csr1000v-1.txt                   retail-rtr.txt\r\n",
      "iosxe_show_version.txt           sec03.py\r\n",
      "my_mac_data.txt\r\n"
     ]
    }
   ],
   "source": [
    "ls"
   ]
  },
  {
   "cell_type": "code",
   "execution_count": null,
   "metadata": {},
   "outputs": [],
   "source": [
    "rm my_mac_data.txt"
   ]
  },
  {
   "cell_type": "markdown",
   "metadata": {},
   "source": [
    "---"
   ]
  },
  {
   "cell_type": "markdown",
   "metadata": {},
   "source": [
    "## Control Structures\n",
    "- if/then\n",
    "- iteration (for loops)\n",
    "- while true"
   ]
  },
  {
   "cell_type": "code",
   "execution_count": 108,
   "metadata": {},
   "outputs": [
    {
     "name": "stdout",
     "output_type": "stream",
     "text": [
      "There is data in mac_text...remember to save!\n"
     ]
    }
   ],
   "source": [
    "if mac_text:\n",
    "    print(\"There is data in mac_text...remember to save!\")\n",
    "else:\n",
    "    print(\"No data in mac_text.  No need to save.\")"
   ]
  },
  {
   "cell_type": "code",
   "execution_count": 109,
   "metadata": {},
   "outputs": [
    {
     "name": "stdout",
     "output_type": "stream",
     "text": [
      "0057.d21b.7d00\n",
      "0057.d21b.7d00\n",
      "a4bb.6da1.68e4\n",
      "0008.6600.2ae4\n",
      "0003.5b0a.2bdd\n",
      "0003.5b0a.2bdc\n",
      "0003.5b0a.2bdc\n",
      "509a.4c48.3214\n",
      "484d.7ee4.9ccb\n",
      "484d.7edc.e24b\n",
      "1866.da3b.99e1\n",
      "1866.da3b.a40a\n",
      "6012.8bd3.1d8f\n",
      "b07b.2540.514c\n",
      "509a.4c48.2cce\n",
      "509a.4c48.2cce\n",
      "00a7.42f6.b434\n"
     ]
    }
   ],
   "source": [
    "for line in mac_list:\n",
    "    print(line)"
   ]
  },
  {
   "cell_type": "code",
   "execution_count": 110,
   "metadata": {},
   "outputs": [
    {
     "name": "stdout",
     "output_type": "stream",
     "text": [
      "00a7.42f6.b434\n",
      "509a.4c48.2cce\n",
      "509a.4c48.2cce\n",
      "b07b.2540.514c\n",
      "6012.8bd3.1d8f\n",
      "1866.da3b.a40a\n",
      "1866.da3b.99e1\n",
      "484d.7edc.e24b\n",
      "484d.7ee4.9ccb\n",
      "509a.4c48.3214\n",
      "0003.5b0a.2bdc\n",
      "0003.5b0a.2bdc\n",
      "0003.5b0a.2bdd\n",
      "0008.6600.2ae4\n",
      "a4bb.6da1.68e4\n",
      "0057.d21b.7d00\n",
      "0057.d21b.7d00\n"
     ]
    }
   ],
   "source": [
    "while mac_list:\n",
    "    print(mac_list.pop())"
   ]
  },
  {
   "cell_type": "code",
   "execution_count": 111,
   "metadata": {},
   "outputs": [
    {
     "data": {
      "text/plain": [
       "[]"
      ]
     },
     "execution_count": 111,
     "metadata": {},
     "output_type": "execute_result"
    }
   ],
   "source": [
    "mac_list"
   ]
  },
  {
   "cell_type": "markdown",
   "metadata": {},
   "source": [
    "---"
   ]
  },
  {
   "cell_type": "markdown",
   "metadata": {},
   "source": [
    "## Pattern Matching\n",
    "Before Regular Expressions"
   ]
  },
  {
   "cell_type": "code",
   "execution_count": 112,
   "metadata": {},
   "outputs": [
    {
     "data": {
      "text/plain": [
       "True"
      ]
     },
     "execution_count": 112,
     "metadata": {},
     "output_type": "execute_result"
    }
   ],
   "source": [
    "\"7d00\" in mac_text"
   ]
  },
  {
   "cell_type": "code",
   "execution_count": 113,
   "metadata": {},
   "outputs": [],
   "source": [
    "mac_list = mac_text.split()"
   ]
  },
  {
   "cell_type": "code",
   "execution_count": 115,
   "metadata": {},
   "outputs": [],
   "source": [
    "if \"7d00\" in mac_list:\n",
    "    print(\"\\nfound 7d00 in list\")"
   ]
  },
  {
   "cell_type": "code",
   "execution_count": 116,
   "metadata": {},
   "outputs": [
    {
     "name": "stdout",
     "output_type": "stream",
     "text": [
      "\n",
      "Found mac with 7d00\n",
      "0057.d21b.7d00\n",
      "\n",
      "Found mac with 7d00\n",
      "0057.d21b.7d00\n"
     ]
    }
   ],
   "source": [
    "for mac in mac_list:\n",
    "    if \"7d00\" in mac:\n",
    "        print(\"\\nFound mac with 7d00\")\n",
    "        print(mac)"
   ]
  },
  {
   "cell_type": "code",
   "execution_count": null,
   "metadata": {},
   "outputs": [],
   "source": [
    "What if the MAC you are looking for starts with a 7 has any letter or has letters a,b,c, or d and ends int numbers?"
   ]
  },
  {
   "cell_type": "code",
   "execution_count": null,
   "metadata": {},
   "outputs": [],
   "source": [
    "What if the Model you are looking for starts with WS has a dash and the must have 4 numbers?"
   ]
  },
  {
   "cell_type": "markdown",
   "metadata": {},
   "source": [
    "---"
   ]
  },
  {
   "cell_type": "markdown",
   "metadata": {},
   "source": [
    "## Python Truth\n",
    "\"Truthy\" is more than True or False\n",
    "\n",
    "Zero is false. An empty list, dictionary, string, or tuple is False.  "
   ]
  },
  {
   "cell_type": "code",
   "execution_count": 117,
   "metadata": {},
   "outputs": [],
   "source": [
    "my_num = 0"
   ]
  },
  {
   "cell_type": "code",
   "execution_count": 118,
   "metadata": {},
   "outputs": [
    {
     "data": {
      "text/plain": [
       "False"
      ]
     },
     "execution_count": 118,
     "metadata": {},
     "output_type": "execute_result"
    }
   ],
   "source": [
    "bool(my_num)"
   ]
  },
  {
   "cell_type": "code",
   "execution_count": 119,
   "metadata": {},
   "outputs": [
    {
     "data": {
      "text/plain": [
       "True"
      ]
     },
     "execution_count": 119,
     "metadata": {},
     "output_type": "execute_result"
    }
   ],
   "source": [
    "bool(files_exist)"
   ]
  },
  {
   "cell_type": "code",
   "execution_count": 120,
   "metadata": {},
   "outputs": [
    {
     "name": "stdout",
     "output_type": "stream",
     "text": [
      "If file_exists is true print out dict_of_files\n",
      "{}\n"
     ]
    }
   ],
   "source": [
    "if files_exist:\n",
    "    print(\"If file_exists is true print out dict_of_files\")\n",
    "    print(dict_of_files)"
   ]
  },
  {
   "cell_type": "code",
   "execution_count": 121,
   "metadata": {},
   "outputs": [
    {
     "data": {
      "text/plain": [
       "False"
      ]
     },
     "execution_count": 121,
     "metadata": {},
     "output_type": "execute_result"
    }
   ],
   "source": [
    "bool(dict_of_files)"
   ]
  },
  {
   "cell_type": "code",
   "execution_count": 122,
   "metadata": {},
   "outputs": [
    {
     "name": "stdout",
     "output_type": "stream",
     "text": [
      "Dictionary of files is empty and therefore False\n"
     ]
    }
   ],
   "source": [
    "if dict_of_files:\n",
    "    print(dict_of_files)\n",
    "else:\n",
    "    print(\"Dictionary of files is empty and therefore False\")"
   ]
  },
  {
   "cell_type": "code",
   "execution_count": 123,
   "metadata": {},
   "outputs": [],
   "source": [
    "ip = \"\""
   ]
  },
  {
   "cell_type": "code",
   "execution_count": 124,
   "metadata": {},
   "outputs": [
    {
     "data": {
      "text/plain": [
       "False"
      ]
     },
     "execution_count": 124,
     "metadata": {},
     "output_type": "execute_result"
    }
   ],
   "source": [
    "bool(ip)"
   ]
  },
  {
   "cell_type": "code",
   "execution_count": null,
   "metadata": {},
   "outputs": [],
   "source": []
  },
  {
   "cell_type": "code",
   "execution_count": 125,
   "metadata": {},
   "outputs": [
    {
     "data": {
      "text/plain": [
       "{'__name__': '__main__',\n",
       " '__doc__': 'Automatically created module for IPython interactive environment',\n",
       " '__package__': None,\n",
       " '__loader__': None,\n",
       " '__spec__': None,\n",
       " '__builtin__': <module 'builtins' (built-in)>,\n",
       " '__builtins__': <module 'builtins' (built-in)>,\n",
       " '_ih': ['',\n",
       "  'locals()',\n",
       "  'maxBandwidth = 10\\nmaxbandwidth = 100',\n",
       "  'maxBandwidth',\n",
       "  'maxbandwidth',\n",
       "  '6ipv = \"ip version 6\"',\n",
       "  'max-bandwidth = 1000',\n",
       "  'ipv6 = \"ip version 6\"\\nmax_bandwidth = 1000',\n",
       "  'max_bandwidth == maxBandwidth',\n",
       "  'total_cfg_files = 1\\nnumDevices = 2\\nnumString = \"5\"',\n",
       "  'type(total_cfg_files)',\n",
       "  'type(numDevices)',\n",
       "  'type(numString)',\n",
       "  'int_bw = 150.7',\n",
       "  'type(int_bw)',\n",
       "  'int_bw * numDevices',\n",
       "  'int_bw + numDevices',\n",
       "  'numDevices * numString',\n",
       "  'numString * numDevices',\n",
       "  'files_exist = False',\n",
       "  'files_exist',\n",
       "  'if total_cfg_files == 1:\\n    print(f\"\\\\nWe have at least one file if total_cfg_files == 1!\")\\n    files_exist = True',\n",
       "  'file_exist',\n",
       "  'file_exist',\n",
       "  'files_exist',\n",
       "  'if files_exist:\\n    print(f\\'\\\\nWe have \"at least\" one file if file_exists is True!\\')',\n",
       "  'cfg_filename1 = \"retail-rtr.txt\"\\ncfg_fn2 = \\'csr1000v-1.txt\\'',\n",
       "  'mac_text = \"\"\"\\n    0057.d21b.7d00\\n    0057.d21b.7d00\\n    a4bb.6da1.68e4\\n    0008.6600.2ae4\\n    0003.5b0a.2bdd\\n    0003.5b0a.2bdc\\n    0003.5b0a.2bdc\\n    509a.4c48.3214\\n    484d.7ee4.9ccb\\n    484d.7edc.e24b\\n    1866.da3b.99e1\\n    1866.da3b.a40a\\n    6012.8bd3.1d8f\\n    b07b.2540.514c\\n    509a.4c48.2cce\\n    509a.4c48.2cce\\n    00a7.42f6.b434\\n    \"\"\"',\n",
       "  'len(cfg_fn2)',\n",
       "  'for letter in cfg_fn2:\\n    print(letter)',\n",
       "  'list_of_vars = []\\nlist_of_files = list()',\n",
       "  'type(list_of_vars)',\n",
       "  'type(list_of_files)',\n",
       "  'dir(list_of_files)',\n",
       "  'list_of_files.append(cfg_filename1)',\n",
       "  'list_of_files',\n",
       "  'list_of_files.append(cfg_fn2)',\n",
       "  'list_of_files',\n",
       "  'list_of_files[0]',\n",
       "  'mac_text',\n",
       "  'mac_list = mac_text.split()',\n",
       "  'len(mac_text)',\n",
       "  'len(mac_list)',\n",
       "  'mac_list',\n",
       "  'mac_list[5:]',\n",
       "  'mac_list[-1]',\n",
       "  'dict_of_files_brackets = {}\\ndict_of_files = dict()',\n",
       "  'type(dict_of_files_brackets)',\n",
       "  'type(dict_of_files)',\n",
       "  'int_dict = {\\n    \"e1/1\": \"Peer Link1\",\\n    \"e1/2\": \"Peer Link2\",\\n    \"e1/32\": \"Keepalive\"\\n}',\n",
       "  'int_dict.keys()',\n",
       "  'int_dict.values()',\n",
       "  'int_dict[\"e1/1\"]',\n",
       "  'int_dict[\"e1/32\"] = \"Peer Keepalive\"',\n",
       "  'int_dict',\n",
       "  'for key, value in int_dict.items():\\n    print(key)\\n    print(value)\\n    print()',\n",
       "  'for item in int_dict:\\n    print(item)\\n    print(type(item))',\n",
       "  'ip_set = {\"1.1.1.1\", \"2.2.2.2\", \"1.1.1.1\"}',\n",
       "  'ip_set',\n",
       "  'len(mac_list)',\n",
       "  'umac = set(mac_list)',\n",
       "  'len(umac)',\n",
       "  'umac.add(\"0000.0000.0000\")',\n",
       "  'umac',\n",
       "  'len(umac)',\n",
       "  'umac[0]',\n",
       "  'umac[0] = \"ffff.ffff.ffff\"',\n",
       "  'helpers = (\"1.1.1.1\", \"2.2.2.2\", \"1.1.1.1\")',\n",
       "  'helpers',\n",
       "  'type(helpers)',\n",
       "  'helpers[0]',\n",
       "  'helpers.add(\"3.3.3.3\")',\n",
       "  'dir(helpers)',\n",
       "  'helpers.count(\"1.1.1.1\")',\n",
       "  'helpers.index(\"2.2.2.2\")',\n",
       "  'helpers[1]',\n",
       "  'help(helpers)',\n",
       "  'password = input(\"Enter password:\")',\n",
       "  'password',\n",
       "  'passwd = getpass.getpass()',\n",
       "  'import getpass\\npasswd = getpass.getpass()',\n",
       "  'passwd',\n",
       "  'passwd',\n",
       "  'passwd',\n",
       "  'print(\"Hello\")',\n",
       "  'print(f\"My password is {passwd}\")',\n",
       "  \"get_ipython().run_line_magic('ls', '')\",\n",
       "  'fh = open(\"nexus_show_version.txt\")',\n",
       "  'print(fh)',\n",
       "  'type(fh)',\n",
       "  'dir(fh)',\n",
       "  'data = fh.read()',\n",
       "  'fh.close()',\n",
       "  'data',\n",
       "  'for line in fh:\\n    print(line)',\n",
       "  'fh = open(\"nexus_show_version.txt\")',\n",
       "  'for line in fh:\\n    print(line)',\n",
       "  'file_name = \"nexus_show_version.txt\"\\n# By default the file is opened as read only\\n# open(file_name) translates to open(file_name, \"r\")\\nwith open(file_name) as file:  \\n    data = file.readlines() ',\n",
       "  'type(data)',\n",
       "  'len(data)',\n",
       "  'for line in data:\\n    print(line)',\n",
       "  'data[0]',\n",
       "  'type(data[0])',\n",
       "  'dir(data[0])',\n",
       "  'data',\n",
       "  'mac_text',\n",
       "  'with open(\"my_mac_data.txt\", \"w\") as file:  \\n    file.write(mac_text) ',\n",
       "  \"get_ipython().run_line_magic('ls', '')\",\n",
       "  'if mac_text:\\n    print(\"There is data in mac_text...remember to save!\")\\nelse:\\n    print(\"No data in mac_text.  No need to save.\")',\n",
       "  'for line in mac_list:\\n    print(line)',\n",
       "  'while mac_list:\\n    print(mac_list.pop())',\n",
       "  'mac_list',\n",
       "  '\"7d00\" in mac_text',\n",
       "  'mac_list = mac_text.split()',\n",
       "  'if \"7d00\" in mac_list:\\n    print(\"\\\\nfound 7d00 in list\")',\n",
       "  'if \"7d00\" in mac_list:\\n    print(\"\\\\nfound 7d00 in list\")',\n",
       "  'for mac in mac_list:\\n    if \"7d00\" in mac:\\n        print(\"\\\\nFound mac with 7d00\")\\n        print(mac)',\n",
       "  'my_num = 0',\n",
       "  'bool(my_num)',\n",
       "  'bool(files_exist)',\n",
       "  'if files_exist:\\n    print(\"If file_exists is true print out dict_of_files\")\\n    print(dict_of_files)',\n",
       "  'bool(dict_of_files)',\n",
       "  'if dict_of_files:\\n    print(dict_of_files)\\nelse:\\n    print(\"Dictionary of files is empty and therefore False\")',\n",
       "  'ip = \"\"',\n",
       "  'bool(ip)',\n",
       "  'locals()'],\n",
       " '_oh': {1: {...},\n",
       "  3: 10,\n",
       "  4: 100,\n",
       "  8: False,\n",
       "  10: int,\n",
       "  11: int,\n",
       "  12: str,\n",
       "  14: float,\n",
       "  15: 301.4,\n",
       "  16: 152.7,\n",
       "  17: '55',\n",
       "  18: '55',\n",
       "  20: False,\n",
       "  24: True,\n",
       "  28: 14,\n",
       "  31: list,\n",
       "  32: list,\n",
       "  33: ['__add__',\n",
       "   '__class__',\n",
       "   '__contains__',\n",
       "   '__delattr__',\n",
       "   '__delitem__',\n",
       "   '__dir__',\n",
       "   '__doc__',\n",
       "   '__eq__',\n",
       "   '__format__',\n",
       "   '__ge__',\n",
       "   '__getattribute__',\n",
       "   '__getitem__',\n",
       "   '__gt__',\n",
       "   '__hash__',\n",
       "   '__iadd__',\n",
       "   '__imul__',\n",
       "   '__init__',\n",
       "   '__init_subclass__',\n",
       "   '__iter__',\n",
       "   '__le__',\n",
       "   '__len__',\n",
       "   '__lt__',\n",
       "   '__mul__',\n",
       "   '__ne__',\n",
       "   '__new__',\n",
       "   '__reduce__',\n",
       "   '__reduce_ex__',\n",
       "   '__repr__',\n",
       "   '__reversed__',\n",
       "   '__rmul__',\n",
       "   '__setattr__',\n",
       "   '__setitem__',\n",
       "   '__sizeof__',\n",
       "   '__str__',\n",
       "   '__subclasshook__',\n",
       "   'append',\n",
       "   'clear',\n",
       "   'copy',\n",
       "   'count',\n",
       "   'extend',\n",
       "   'index',\n",
       "   'insert',\n",
       "   'pop',\n",
       "   'remove',\n",
       "   'reverse',\n",
       "   'sort'],\n",
       "  35: ['retail-rtr.txt', 'csr1000v-1.txt'],\n",
       "  37: ['retail-rtr.txt', 'csr1000v-1.txt'],\n",
       "  38: 'retail-rtr.txt',\n",
       "  39: '\\n    0057.d21b.7d00\\n    0057.d21b.7d00\\n    a4bb.6da1.68e4\\n    0008.6600.2ae4\\n    0003.5b0a.2bdd\\n    0003.5b0a.2bdc\\n    0003.5b0a.2bdc\\n    509a.4c48.3214\\n    484d.7ee4.9ccb\\n    484d.7edc.e24b\\n    1866.da3b.99e1\\n    1866.da3b.a40a\\n    6012.8bd3.1d8f\\n    b07b.2540.514c\\n    509a.4c48.2cce\\n    509a.4c48.2cce\\n    00a7.42f6.b434\\n    ',\n",
       "  41: 328,\n",
       "  42: 17,\n",
       "  43: [],\n",
       "  44: ['0003.5b0a.2bdc',\n",
       "   '0003.5b0a.2bdc',\n",
       "   '509a.4c48.3214',\n",
       "   '484d.7ee4.9ccb',\n",
       "   '484d.7edc.e24b',\n",
       "   '1866.da3b.99e1',\n",
       "   '1866.da3b.a40a',\n",
       "   '6012.8bd3.1d8f',\n",
       "   'b07b.2540.514c',\n",
       "   '509a.4c48.2cce',\n",
       "   '509a.4c48.2cce',\n",
       "   '00a7.42f6.b434'],\n",
       "  45: '00a7.42f6.b434',\n",
       "  47: dict,\n",
       "  48: dict,\n",
       "  50: dict_keys(['e1/1', 'e1/2', 'e1/32']),\n",
       "  51: dict_values(['Peer Link1', 'Peer Link2', 'Peer Keepalive']),\n",
       "  52: 'Peer Link1',\n",
       "  54: {'e1/1': 'Peer Link1', 'e1/2': 'Peer Link2', 'e1/32': 'Peer Keepalive'},\n",
       "  58: {'1.1.1.1', '2.2.2.2'},\n",
       "  59: 17,\n",
       "  61: 14,\n",
       "  63: {'0000.0000.0000',\n",
       "   '0003.5b0a.2bdc',\n",
       "   '0003.5b0a.2bdd',\n",
       "   '0008.6600.2ae4',\n",
       "   '0057.d21b.7d00',\n",
       "   '00a7.42f6.b434',\n",
       "   '1866.da3b.99e1',\n",
       "   '1866.da3b.a40a',\n",
       "   '484d.7edc.e24b',\n",
       "   '484d.7ee4.9ccb',\n",
       "   '509a.4c48.2cce',\n",
       "   '509a.4c48.3214',\n",
       "   '6012.8bd3.1d8f',\n",
       "   'a4bb.6da1.68e4',\n",
       "   'b07b.2540.514c'},\n",
       "  64: 15,\n",
       "  68: ('1.1.1.1', '2.2.2.2', '1.1.1.1'),\n",
       "  69: tuple,\n",
       "  70: '1.1.1.1',\n",
       "  72: ['__add__',\n",
       "   '__class__',\n",
       "   '__contains__',\n",
       "   '__delattr__',\n",
       "   '__dir__',\n",
       "   '__doc__',\n",
       "   '__eq__',\n",
       "   '__format__',\n",
       "   '__ge__',\n",
       "   '__getattribute__',\n",
       "   '__getitem__',\n",
       "   '__getnewargs__',\n",
       "   '__gt__',\n",
       "   '__hash__',\n",
       "   '__init__',\n",
       "   '__init_subclass__',\n",
       "   '__iter__',\n",
       "   '__le__',\n",
       "   '__len__',\n",
       "   '__lt__',\n",
       "   '__mul__',\n",
       "   '__ne__',\n",
       "   '__new__',\n",
       "   '__reduce__',\n",
       "   '__reduce_ex__',\n",
       "   '__repr__',\n",
       "   '__rmul__',\n",
       "   '__setattr__',\n",
       "   '__sizeof__',\n",
       "   '__str__',\n",
       "   '__subclasshook__',\n",
       "   'count',\n",
       "   'index'],\n",
       "  73: 2,\n",
       "  74: 1,\n",
       "  75: '2.2.2.2',\n",
       "  78: 'my_password',\n",
       "  81: 'my_password',\n",
       "  82: 'my_password',\n",
       "  83: 'my_password',\n",
       "  89: _io.TextIOWrapper,\n",
       "  90: ['_CHUNK_SIZE',\n",
       "   '__class__',\n",
       "   '__del__',\n",
       "   '__delattr__',\n",
       "   '__dict__',\n",
       "   '__dir__',\n",
       "   '__doc__',\n",
       "   '__enter__',\n",
       "   '__eq__',\n",
       "   '__exit__',\n",
       "   '__format__',\n",
       "   '__ge__',\n",
       "   '__getattribute__',\n",
       "   '__getstate__',\n",
       "   '__gt__',\n",
       "   '__hash__',\n",
       "   '__init__',\n",
       "   '__init_subclass__',\n",
       "   '__iter__',\n",
       "   '__le__',\n",
       "   '__lt__',\n",
       "   '__ne__',\n",
       "   '__new__',\n",
       "   '__next__',\n",
       "   '__reduce__',\n",
       "   '__reduce_ex__',\n",
       "   '__repr__',\n",
       "   '__setattr__',\n",
       "   '__sizeof__',\n",
       "   '__str__',\n",
       "   '__subclasshook__',\n",
       "   '_checkClosed',\n",
       "   '_checkReadable',\n",
       "   '_checkSeekable',\n",
       "   '_checkWritable',\n",
       "   '_finalizing',\n",
       "   'buffer',\n",
       "   'close',\n",
       "   'closed',\n",
       "   'detach',\n",
       "   'encoding',\n",
       "   'errors',\n",
       "   'fileno',\n",
       "   'flush',\n",
       "   'isatty',\n",
       "   'line_buffering',\n",
       "   'mode',\n",
       "   'name',\n",
       "   'newlines',\n",
       "   'read',\n",
       "   'readable',\n",
       "   'readline',\n",
       "   'readlines',\n",
       "   'reconfigure',\n",
       "   'seek',\n",
       "   'seekable',\n",
       "   'tell',\n",
       "   'truncate',\n",
       "   'writable',\n",
       "   'write',\n",
       "   'write_through',\n",
       "   'writelines'],\n",
       "  93: '!--- show version \\nCisco Nexus Operating System (NX-OS) Software\\nTAC support: http://www.cisco.com/tac\\nCopyright (C) 2002-2020, Cisco and/or its affiliates.\\nAll rights reserved.\\nThe copyrights to certain works contained in this software are\\nowned by other third parties and used and distributed under their own\\nlicenses, such as open source.  This software is provided \"as is,\" and unless\\notherwise stated, there is no warranty, express or implied, including but not\\nlimited to warranties of merchantability and fitness for a particular purpose.\\nCertain components of this software are licensed under\\nthe GNU General Public License (GPL) version 2.0 or \\nGNU General Public License (GPL) version 3.0  or the GNU\\nLesser General Public License (LGPL) Version 2.1 or \\nLesser General Public License (LGPL) Version 2.0. \\nA copy of each such license is available at\\nhttp://www.opensource.org/licenses/gpl-2.0.php and\\nhttp://opensource.org/licenses/gpl-3.0.html and\\nhttp://www.opensource.org/licenses/lgpl-2.1.php and\\nhttp://www.gnu.org/licenses/old-licenses/library.txt.\\n\\nSoftware\\n  BIOS: version 5.3.1\\n  NXOS: version 7.0(3)I7(8)\\n  BIOS compile time:  06/04/2019\\n  NXOS image file is: bootflash:///nxos.7.0.3.I7.8.bin\\n  NXOS compile time:  3/3/2020 20:00:00 [03/03/2020 22:49:49]\\n\\n\\nHardware\\n  cisco Nexus3500 C3548P-10GX Chassis \\n  Intel(R) Pentium(R) CPU  @ 2.00GHz with 4031488 kB of memory.\\n  Processor Board ID FOC2245436V\\n\\n  Device name: gdl-srvsw01\\n  bootflash:    3556320 kB\\n  usb1:               0 kB (expansion flash)\\n  usb2:               0 kB (expansion flash)\\n\\nKernel uptime is 237 day(s), 22 hour(s), 32 minute(s), 11 second(s)\\n\\nLast reset at 578576 usecs after Fri Jun  5 14:06:18 2020\\n  Reason: Disruptive upgrade\\n  System version: 6.0(2)A8(11)\\n  Service: \\n\\nplugin\\n  Core Plugin, Ethernet Plugin\\n\\nActive Package(s):\\n        nxos.CSCvt39630-n9k_ALL-1.0.0-7.0.3.I7.8.lib32_n9000\\n        ',\n",
       "  98: list,\n",
       "  99: 52,\n",
       "  101: '!--- show version \\n',\n",
       "  102: str,\n",
       "  103: ['__add__',\n",
       "   '__class__',\n",
       "   '__contains__',\n",
       "   '__delattr__',\n",
       "   '__dir__',\n",
       "   '__doc__',\n",
       "   '__eq__',\n",
       "   '__format__',\n",
       "   '__ge__',\n",
       "   '__getattribute__',\n",
       "   '__getitem__',\n",
       "   '__getnewargs__',\n",
       "   '__gt__',\n",
       "   '__hash__',\n",
       "   '__init__',\n",
       "   '__init_subclass__',\n",
       "   '__iter__',\n",
       "   '__le__',\n",
       "   '__len__',\n",
       "   '__lt__',\n",
       "   '__mod__',\n",
       "   '__mul__',\n",
       "   '__ne__',\n",
       "   '__new__',\n",
       "   '__reduce__',\n",
       "   '__reduce_ex__',\n",
       "   '__repr__',\n",
       "   '__rmod__',\n",
       "   '__rmul__',\n",
       "   '__setattr__',\n",
       "   '__sizeof__',\n",
       "   '__str__',\n",
       "   '__subclasshook__',\n",
       "   'capitalize',\n",
       "   'casefold',\n",
       "   'center',\n",
       "   'count',\n",
       "   'encode',\n",
       "   'endswith',\n",
       "   'expandtabs',\n",
       "   'find',\n",
       "   'format',\n",
       "   'format_map',\n",
       "   'index',\n",
       "   'isalnum',\n",
       "   'isalpha',\n",
       "   'isascii',\n",
       "   'isdecimal',\n",
       "   'isdigit',\n",
       "   'isidentifier',\n",
       "   'islower',\n",
       "   'isnumeric',\n",
       "   'isprintable',\n",
       "   'isspace',\n",
       "   'istitle',\n",
       "   'isupper',\n",
       "   'join',\n",
       "   'ljust',\n",
       "   'lower',\n",
       "   'lstrip',\n",
       "   'maketrans',\n",
       "   'partition',\n",
       "   'replace',\n",
       "   'rfind',\n",
       "   'rindex',\n",
       "   'rjust',\n",
       "   'rpartition',\n",
       "   'rsplit',\n",
       "   'rstrip',\n",
       "   'split',\n",
       "   'splitlines',\n",
       "   'startswith',\n",
       "   'strip',\n",
       "   'swapcase',\n",
       "   'title',\n",
       "   'translate',\n",
       "   'upper',\n",
       "   'zfill'],\n",
       "  104: ['!--- show version \\n',\n",
       "   'Cisco Nexus Operating System (NX-OS) Software\\n',\n",
       "   'TAC support: http://www.cisco.com/tac\\n',\n",
       "   'Copyright (C) 2002-2020, Cisco and/or its affiliates.\\n',\n",
       "   'All rights reserved.\\n',\n",
       "   'The copyrights to certain works contained in this software are\\n',\n",
       "   'owned by other third parties and used and distributed under their own\\n',\n",
       "   'licenses, such as open source.  This software is provided \"as is,\" and unless\\n',\n",
       "   'otherwise stated, there is no warranty, express or implied, including but not\\n',\n",
       "   'limited to warranties of merchantability and fitness for a particular purpose.\\n',\n",
       "   'Certain components of this software are licensed under\\n',\n",
       "   'the GNU General Public License (GPL) version 2.0 or \\n',\n",
       "   'GNU General Public License (GPL) version 3.0  or the GNU\\n',\n",
       "   'Lesser General Public License (LGPL) Version 2.1 or \\n',\n",
       "   'Lesser General Public License (LGPL) Version 2.0. \\n',\n",
       "   'A copy of each such license is available at\\n',\n",
       "   'http://www.opensource.org/licenses/gpl-2.0.php and\\n',\n",
       "   'http://opensource.org/licenses/gpl-3.0.html and\\n',\n",
       "   'http://www.opensource.org/licenses/lgpl-2.1.php and\\n',\n",
       "   'http://www.gnu.org/licenses/old-licenses/library.txt.\\n',\n",
       "   '\\n',\n",
       "   'Software\\n',\n",
       "   '  BIOS: version 5.3.1\\n',\n",
       "   '  NXOS: version 7.0(3)I7(8)\\n',\n",
       "   '  BIOS compile time:  06/04/2019\\n',\n",
       "   '  NXOS image file is: bootflash:///nxos.7.0.3.I7.8.bin\\n',\n",
       "   '  NXOS compile time:  3/3/2020 20:00:00 [03/03/2020 22:49:49]\\n',\n",
       "   '\\n',\n",
       "   '\\n',\n",
       "   'Hardware\\n',\n",
       "   '  cisco Nexus3500 C3548P-10GX Chassis \\n',\n",
       "   '  Intel(R) Pentium(R) CPU  @ 2.00GHz with 4031488 kB of memory.\\n',\n",
       "   '  Processor Board ID FOC2245436V\\n',\n",
       "   '\\n',\n",
       "   '  Device name: gdl-srvsw01\\n',\n",
       "   '  bootflash:    3556320 kB\\n',\n",
       "   '  usb1:               0 kB (expansion flash)\\n',\n",
       "   '  usb2:               0 kB (expansion flash)\\n',\n",
       "   '\\n',\n",
       "   'Kernel uptime is 237 day(s), 22 hour(s), 32 minute(s), 11 second(s)\\n',\n",
       "   '\\n',\n",
       "   'Last reset at 578576 usecs after Fri Jun  5 14:06:18 2020\\n',\n",
       "   '  Reason: Disruptive upgrade\\n',\n",
       "   '  System version: 6.0(2)A8(11)\\n',\n",
       "   '  Service: \\n',\n",
       "   '\\n',\n",
       "   'plugin\\n',\n",
       "   '  Core Plugin, Ethernet Plugin\\n',\n",
       "   '\\n',\n",
       "   'Active Package(s):\\n',\n",
       "   '        nxos.CSCvt39630-n9k_ALL-1.0.0-7.0.3.I7.8.lib32_n9000\\n',\n",
       "   '        '],\n",
       "  105: '\\n    0057.d21b.7d00\\n    0057.d21b.7d00\\n    a4bb.6da1.68e4\\n    0008.6600.2ae4\\n    0003.5b0a.2bdd\\n    0003.5b0a.2bdc\\n    0003.5b0a.2bdc\\n    509a.4c48.3214\\n    484d.7ee4.9ccb\\n    484d.7edc.e24b\\n    1866.da3b.99e1\\n    1866.da3b.a40a\\n    6012.8bd3.1d8f\\n    b07b.2540.514c\\n    509a.4c48.2cce\\n    509a.4c48.2cce\\n    00a7.42f6.b434\\n    ',\n",
       "  111: [],\n",
       "  112: True,\n",
       "  118: False,\n",
       "  119: True,\n",
       "  121: False,\n",
       "  124: False},\n",
       " '_dh': ['/Users/claudia/Dropbox (Indigo Wire Networks)/IWN-Desktop/IWN/2021-CodeRed/Course-Network_Automation_in_Python/code/python/sec03-4_Language_Basics'],\n",
       " 'In': ['',\n",
       "  'locals()',\n",
       "  'maxBandwidth = 10\\nmaxbandwidth = 100',\n",
       "  'maxBandwidth',\n",
       "  'maxbandwidth',\n",
       "  '6ipv = \"ip version 6\"',\n",
       "  'max-bandwidth = 1000',\n",
       "  'ipv6 = \"ip version 6\"\\nmax_bandwidth = 1000',\n",
       "  'max_bandwidth == maxBandwidth',\n",
       "  'total_cfg_files = 1\\nnumDevices = 2\\nnumString = \"5\"',\n",
       "  'type(total_cfg_files)',\n",
       "  'type(numDevices)',\n",
       "  'type(numString)',\n",
       "  'int_bw = 150.7',\n",
       "  'type(int_bw)',\n",
       "  'int_bw * numDevices',\n",
       "  'int_bw + numDevices',\n",
       "  'numDevices * numString',\n",
       "  'numString * numDevices',\n",
       "  'files_exist = False',\n",
       "  'files_exist',\n",
       "  'if total_cfg_files == 1:\\n    print(f\"\\\\nWe have at least one file if total_cfg_files == 1!\")\\n    files_exist = True',\n",
       "  'file_exist',\n",
       "  'file_exist',\n",
       "  'files_exist',\n",
       "  'if files_exist:\\n    print(f\\'\\\\nWe have \"at least\" one file if file_exists is True!\\')',\n",
       "  'cfg_filename1 = \"retail-rtr.txt\"\\ncfg_fn2 = \\'csr1000v-1.txt\\'',\n",
       "  'mac_text = \"\"\"\\n    0057.d21b.7d00\\n    0057.d21b.7d00\\n    a4bb.6da1.68e4\\n    0008.6600.2ae4\\n    0003.5b0a.2bdd\\n    0003.5b0a.2bdc\\n    0003.5b0a.2bdc\\n    509a.4c48.3214\\n    484d.7ee4.9ccb\\n    484d.7edc.e24b\\n    1866.da3b.99e1\\n    1866.da3b.a40a\\n    6012.8bd3.1d8f\\n    b07b.2540.514c\\n    509a.4c48.2cce\\n    509a.4c48.2cce\\n    00a7.42f6.b434\\n    \"\"\"',\n",
       "  'len(cfg_fn2)',\n",
       "  'for letter in cfg_fn2:\\n    print(letter)',\n",
       "  'list_of_vars = []\\nlist_of_files = list()',\n",
       "  'type(list_of_vars)',\n",
       "  'type(list_of_files)',\n",
       "  'dir(list_of_files)',\n",
       "  'list_of_files.append(cfg_filename1)',\n",
       "  'list_of_files',\n",
       "  'list_of_files.append(cfg_fn2)',\n",
       "  'list_of_files',\n",
       "  'list_of_files[0]',\n",
       "  'mac_text',\n",
       "  'mac_list = mac_text.split()',\n",
       "  'len(mac_text)',\n",
       "  'len(mac_list)',\n",
       "  'mac_list',\n",
       "  'mac_list[5:]',\n",
       "  'mac_list[-1]',\n",
       "  'dict_of_files_brackets = {}\\ndict_of_files = dict()',\n",
       "  'type(dict_of_files_brackets)',\n",
       "  'type(dict_of_files)',\n",
       "  'int_dict = {\\n    \"e1/1\": \"Peer Link1\",\\n    \"e1/2\": \"Peer Link2\",\\n    \"e1/32\": \"Keepalive\"\\n}',\n",
       "  'int_dict.keys()',\n",
       "  'int_dict.values()',\n",
       "  'int_dict[\"e1/1\"]',\n",
       "  'int_dict[\"e1/32\"] = \"Peer Keepalive\"',\n",
       "  'int_dict',\n",
       "  'for key, value in int_dict.items():\\n    print(key)\\n    print(value)\\n    print()',\n",
       "  'for item in int_dict:\\n    print(item)\\n    print(type(item))',\n",
       "  'ip_set = {\"1.1.1.1\", \"2.2.2.2\", \"1.1.1.1\"}',\n",
       "  'ip_set',\n",
       "  'len(mac_list)',\n",
       "  'umac = set(mac_list)',\n",
       "  'len(umac)',\n",
       "  'umac.add(\"0000.0000.0000\")',\n",
       "  'umac',\n",
       "  'len(umac)',\n",
       "  'umac[0]',\n",
       "  'umac[0] = \"ffff.ffff.ffff\"',\n",
       "  'helpers = (\"1.1.1.1\", \"2.2.2.2\", \"1.1.1.1\")',\n",
       "  'helpers',\n",
       "  'type(helpers)',\n",
       "  'helpers[0]',\n",
       "  'helpers.add(\"3.3.3.3\")',\n",
       "  'dir(helpers)',\n",
       "  'helpers.count(\"1.1.1.1\")',\n",
       "  'helpers.index(\"2.2.2.2\")',\n",
       "  'helpers[1]',\n",
       "  'help(helpers)',\n",
       "  'password = input(\"Enter password:\")',\n",
       "  'password',\n",
       "  'passwd = getpass.getpass()',\n",
       "  'import getpass\\npasswd = getpass.getpass()',\n",
       "  'passwd',\n",
       "  'passwd',\n",
       "  'passwd',\n",
       "  'print(\"Hello\")',\n",
       "  'print(f\"My password is {passwd}\")',\n",
       "  \"get_ipython().run_line_magic('ls', '')\",\n",
       "  'fh = open(\"nexus_show_version.txt\")',\n",
       "  'print(fh)',\n",
       "  'type(fh)',\n",
       "  'dir(fh)',\n",
       "  'data = fh.read()',\n",
       "  'fh.close()',\n",
       "  'data',\n",
       "  'for line in fh:\\n    print(line)',\n",
       "  'fh = open(\"nexus_show_version.txt\")',\n",
       "  'for line in fh:\\n    print(line)',\n",
       "  'file_name = \"nexus_show_version.txt\"\\n# By default the file is opened as read only\\n# open(file_name) translates to open(file_name, \"r\")\\nwith open(file_name) as file:  \\n    data = file.readlines() ',\n",
       "  'type(data)',\n",
       "  'len(data)',\n",
       "  'for line in data:\\n    print(line)',\n",
       "  'data[0]',\n",
       "  'type(data[0])',\n",
       "  'dir(data[0])',\n",
       "  'data',\n",
       "  'mac_text',\n",
       "  'with open(\"my_mac_data.txt\", \"w\") as file:  \\n    file.write(mac_text) ',\n",
       "  \"get_ipython().run_line_magic('ls', '')\",\n",
       "  'if mac_text:\\n    print(\"There is data in mac_text...remember to save!\")\\nelse:\\n    print(\"No data in mac_text.  No need to save.\")',\n",
       "  'for line in mac_list:\\n    print(line)',\n",
       "  'while mac_list:\\n    print(mac_list.pop())',\n",
       "  'mac_list',\n",
       "  '\"7d00\" in mac_text',\n",
       "  'mac_list = mac_text.split()',\n",
       "  'if \"7d00\" in mac_list:\\n    print(\"\\\\nfound 7d00 in list\")',\n",
       "  'if \"7d00\" in mac_list:\\n    print(\"\\\\nfound 7d00 in list\")',\n",
       "  'for mac in mac_list:\\n    if \"7d00\" in mac:\\n        print(\"\\\\nFound mac with 7d00\")\\n        print(mac)',\n",
       "  'my_num = 0',\n",
       "  'bool(my_num)',\n",
       "  'bool(files_exist)',\n",
       "  'if files_exist:\\n    print(\"If file_exists is true print out dict_of_files\")\\n    print(dict_of_files)',\n",
       "  'bool(dict_of_files)',\n",
       "  'if dict_of_files:\\n    print(dict_of_files)\\nelse:\\n    print(\"Dictionary of files is empty and therefore False\")',\n",
       "  'ip = \"\"',\n",
       "  'bool(ip)',\n",
       "  'locals()'],\n",
       " 'Out': {1: {...},\n",
       "  3: 10,\n",
       "  4: 100,\n",
       "  8: False,\n",
       "  10: int,\n",
       "  11: int,\n",
       "  12: str,\n",
       "  14: float,\n",
       "  15: 301.4,\n",
       "  16: 152.7,\n",
       "  17: '55',\n",
       "  18: '55',\n",
       "  20: False,\n",
       "  24: True,\n",
       "  28: 14,\n",
       "  31: list,\n",
       "  32: list,\n",
       "  33: ['__add__',\n",
       "   '__class__',\n",
       "   '__contains__',\n",
       "   '__delattr__',\n",
       "   '__delitem__',\n",
       "   '__dir__',\n",
       "   '__doc__',\n",
       "   '__eq__',\n",
       "   '__format__',\n",
       "   '__ge__',\n",
       "   '__getattribute__',\n",
       "   '__getitem__',\n",
       "   '__gt__',\n",
       "   '__hash__',\n",
       "   '__iadd__',\n",
       "   '__imul__',\n",
       "   '__init__',\n",
       "   '__init_subclass__',\n",
       "   '__iter__',\n",
       "   '__le__',\n",
       "   '__len__',\n",
       "   '__lt__',\n",
       "   '__mul__',\n",
       "   '__ne__',\n",
       "   '__new__',\n",
       "   '__reduce__',\n",
       "   '__reduce_ex__',\n",
       "   '__repr__',\n",
       "   '__reversed__',\n",
       "   '__rmul__',\n",
       "   '__setattr__',\n",
       "   '__setitem__',\n",
       "   '__sizeof__',\n",
       "   '__str__',\n",
       "   '__subclasshook__',\n",
       "   'append',\n",
       "   'clear',\n",
       "   'copy',\n",
       "   'count',\n",
       "   'extend',\n",
       "   'index',\n",
       "   'insert',\n",
       "   'pop',\n",
       "   'remove',\n",
       "   'reverse',\n",
       "   'sort'],\n",
       "  35: ['retail-rtr.txt', 'csr1000v-1.txt'],\n",
       "  37: ['retail-rtr.txt', 'csr1000v-1.txt'],\n",
       "  38: 'retail-rtr.txt',\n",
       "  39: '\\n    0057.d21b.7d00\\n    0057.d21b.7d00\\n    a4bb.6da1.68e4\\n    0008.6600.2ae4\\n    0003.5b0a.2bdd\\n    0003.5b0a.2bdc\\n    0003.5b0a.2bdc\\n    509a.4c48.3214\\n    484d.7ee4.9ccb\\n    484d.7edc.e24b\\n    1866.da3b.99e1\\n    1866.da3b.a40a\\n    6012.8bd3.1d8f\\n    b07b.2540.514c\\n    509a.4c48.2cce\\n    509a.4c48.2cce\\n    00a7.42f6.b434\\n    ',\n",
       "  41: 328,\n",
       "  42: 17,\n",
       "  43: [],\n",
       "  44: ['0003.5b0a.2bdc',\n",
       "   '0003.5b0a.2bdc',\n",
       "   '509a.4c48.3214',\n",
       "   '484d.7ee4.9ccb',\n",
       "   '484d.7edc.e24b',\n",
       "   '1866.da3b.99e1',\n",
       "   '1866.da3b.a40a',\n",
       "   '6012.8bd3.1d8f',\n",
       "   'b07b.2540.514c',\n",
       "   '509a.4c48.2cce',\n",
       "   '509a.4c48.2cce',\n",
       "   '00a7.42f6.b434'],\n",
       "  45: '00a7.42f6.b434',\n",
       "  47: dict,\n",
       "  48: dict,\n",
       "  50: dict_keys(['e1/1', 'e1/2', 'e1/32']),\n",
       "  51: dict_values(['Peer Link1', 'Peer Link2', 'Peer Keepalive']),\n",
       "  52: 'Peer Link1',\n",
       "  54: {'e1/1': 'Peer Link1', 'e1/2': 'Peer Link2', 'e1/32': 'Peer Keepalive'},\n",
       "  58: {'1.1.1.1', '2.2.2.2'},\n",
       "  59: 17,\n",
       "  61: 14,\n",
       "  63: {'0000.0000.0000',\n",
       "   '0003.5b0a.2bdc',\n",
       "   '0003.5b0a.2bdd',\n",
       "   '0008.6600.2ae4',\n",
       "   '0057.d21b.7d00',\n",
       "   '00a7.42f6.b434',\n",
       "   '1866.da3b.99e1',\n",
       "   '1866.da3b.a40a',\n",
       "   '484d.7edc.e24b',\n",
       "   '484d.7ee4.9ccb',\n",
       "   '509a.4c48.2cce',\n",
       "   '509a.4c48.3214',\n",
       "   '6012.8bd3.1d8f',\n",
       "   'a4bb.6da1.68e4',\n",
       "   'b07b.2540.514c'},\n",
       "  64: 15,\n",
       "  68: ('1.1.1.1', '2.2.2.2', '1.1.1.1'),\n",
       "  69: tuple,\n",
       "  70: '1.1.1.1',\n",
       "  72: ['__add__',\n",
       "   '__class__',\n",
       "   '__contains__',\n",
       "   '__delattr__',\n",
       "   '__dir__',\n",
       "   '__doc__',\n",
       "   '__eq__',\n",
       "   '__format__',\n",
       "   '__ge__',\n",
       "   '__getattribute__',\n",
       "   '__getitem__',\n",
       "   '__getnewargs__',\n",
       "   '__gt__',\n",
       "   '__hash__',\n",
       "   '__init__',\n",
       "   '__init_subclass__',\n",
       "   '__iter__',\n",
       "   '__le__',\n",
       "   '__len__',\n",
       "   '__lt__',\n",
       "   '__mul__',\n",
       "   '__ne__',\n",
       "   '__new__',\n",
       "   '__reduce__',\n",
       "   '__reduce_ex__',\n",
       "   '__repr__',\n",
       "   '__rmul__',\n",
       "   '__setattr__',\n",
       "   '__sizeof__',\n",
       "   '__str__',\n",
       "   '__subclasshook__',\n",
       "   'count',\n",
       "   'index'],\n",
       "  73: 2,\n",
       "  74: 1,\n",
       "  75: '2.2.2.2',\n",
       "  78: 'my_password',\n",
       "  81: 'my_password',\n",
       "  82: 'my_password',\n",
       "  83: 'my_password',\n",
       "  89: _io.TextIOWrapper,\n",
       "  90: ['_CHUNK_SIZE',\n",
       "   '__class__',\n",
       "   '__del__',\n",
       "   '__delattr__',\n",
       "   '__dict__',\n",
       "   '__dir__',\n",
       "   '__doc__',\n",
       "   '__enter__',\n",
       "   '__eq__',\n",
       "   '__exit__',\n",
       "   '__format__',\n",
       "   '__ge__',\n",
       "   '__getattribute__',\n",
       "   '__getstate__',\n",
       "   '__gt__',\n",
       "   '__hash__',\n",
       "   '__init__',\n",
       "   '__init_subclass__',\n",
       "   '__iter__',\n",
       "   '__le__',\n",
       "   '__lt__',\n",
       "   '__ne__',\n",
       "   '__new__',\n",
       "   '__next__',\n",
       "   '__reduce__',\n",
       "   '__reduce_ex__',\n",
       "   '__repr__',\n",
       "   '__setattr__',\n",
       "   '__sizeof__',\n",
       "   '__str__',\n",
       "   '__subclasshook__',\n",
       "   '_checkClosed',\n",
       "   '_checkReadable',\n",
       "   '_checkSeekable',\n",
       "   '_checkWritable',\n",
       "   '_finalizing',\n",
       "   'buffer',\n",
       "   'close',\n",
       "   'closed',\n",
       "   'detach',\n",
       "   'encoding',\n",
       "   'errors',\n",
       "   'fileno',\n",
       "   'flush',\n",
       "   'isatty',\n",
       "   'line_buffering',\n",
       "   'mode',\n",
       "   'name',\n",
       "   'newlines',\n",
       "   'read',\n",
       "   'readable',\n",
       "   'readline',\n",
       "   'readlines',\n",
       "   'reconfigure',\n",
       "   'seek',\n",
       "   'seekable',\n",
       "   'tell',\n",
       "   'truncate',\n",
       "   'writable',\n",
       "   'write',\n",
       "   'write_through',\n",
       "   'writelines'],\n",
       "  93: '!--- show version \\nCisco Nexus Operating System (NX-OS) Software\\nTAC support: http://www.cisco.com/tac\\nCopyright (C) 2002-2020, Cisco and/or its affiliates.\\nAll rights reserved.\\nThe copyrights to certain works contained in this software are\\nowned by other third parties and used and distributed under their own\\nlicenses, such as open source.  This software is provided \"as is,\" and unless\\notherwise stated, there is no warranty, express or implied, including but not\\nlimited to warranties of merchantability and fitness for a particular purpose.\\nCertain components of this software are licensed under\\nthe GNU General Public License (GPL) version 2.0 or \\nGNU General Public License (GPL) version 3.0  or the GNU\\nLesser General Public License (LGPL) Version 2.1 or \\nLesser General Public License (LGPL) Version 2.0. \\nA copy of each such license is available at\\nhttp://www.opensource.org/licenses/gpl-2.0.php and\\nhttp://opensource.org/licenses/gpl-3.0.html and\\nhttp://www.opensource.org/licenses/lgpl-2.1.php and\\nhttp://www.gnu.org/licenses/old-licenses/library.txt.\\n\\nSoftware\\n  BIOS: version 5.3.1\\n  NXOS: version 7.0(3)I7(8)\\n  BIOS compile time:  06/04/2019\\n  NXOS image file is: bootflash:///nxos.7.0.3.I7.8.bin\\n  NXOS compile time:  3/3/2020 20:00:00 [03/03/2020 22:49:49]\\n\\n\\nHardware\\n  cisco Nexus3500 C3548P-10GX Chassis \\n  Intel(R) Pentium(R) CPU  @ 2.00GHz with 4031488 kB of memory.\\n  Processor Board ID FOC2245436V\\n\\n  Device name: gdl-srvsw01\\n  bootflash:    3556320 kB\\n  usb1:               0 kB (expansion flash)\\n  usb2:               0 kB (expansion flash)\\n\\nKernel uptime is 237 day(s), 22 hour(s), 32 minute(s), 11 second(s)\\n\\nLast reset at 578576 usecs after Fri Jun  5 14:06:18 2020\\n  Reason: Disruptive upgrade\\n  System version: 6.0(2)A8(11)\\n  Service: \\n\\nplugin\\n  Core Plugin, Ethernet Plugin\\n\\nActive Package(s):\\n        nxos.CSCvt39630-n9k_ALL-1.0.0-7.0.3.I7.8.lib32_n9000\\n        ',\n",
       "  98: list,\n",
       "  99: 52,\n",
       "  101: '!--- show version \\n',\n",
       "  102: str,\n",
       "  103: ['__add__',\n",
       "   '__class__',\n",
       "   '__contains__',\n",
       "   '__delattr__',\n",
       "   '__dir__',\n",
       "   '__doc__',\n",
       "   '__eq__',\n",
       "   '__format__',\n",
       "   '__ge__',\n",
       "   '__getattribute__',\n",
       "   '__getitem__',\n",
       "   '__getnewargs__',\n",
       "   '__gt__',\n",
       "   '__hash__',\n",
       "   '__init__',\n",
       "   '__init_subclass__',\n",
       "   '__iter__',\n",
       "   '__le__',\n",
       "   '__len__',\n",
       "   '__lt__',\n",
       "   '__mod__',\n",
       "   '__mul__',\n",
       "   '__ne__',\n",
       "   '__new__',\n",
       "   '__reduce__',\n",
       "   '__reduce_ex__',\n",
       "   '__repr__',\n",
       "   '__rmod__',\n",
       "   '__rmul__',\n",
       "   '__setattr__',\n",
       "   '__sizeof__',\n",
       "   '__str__',\n",
       "   '__subclasshook__',\n",
       "   'capitalize',\n",
       "   'casefold',\n",
       "   'center',\n",
       "   'count',\n",
       "   'encode',\n",
       "   'endswith',\n",
       "   'expandtabs',\n",
       "   'find',\n",
       "   'format',\n",
       "   'format_map',\n",
       "   'index',\n",
       "   'isalnum',\n",
       "   'isalpha',\n",
       "   'isascii',\n",
       "   'isdecimal',\n",
       "   'isdigit',\n",
       "   'isidentifier',\n",
       "   'islower',\n",
       "   'isnumeric',\n",
       "   'isprintable',\n",
       "   'isspace',\n",
       "   'istitle',\n",
       "   'isupper',\n",
       "   'join',\n",
       "   'ljust',\n",
       "   'lower',\n",
       "   'lstrip',\n",
       "   'maketrans',\n",
       "   'partition',\n",
       "   'replace',\n",
       "   'rfind',\n",
       "   'rindex',\n",
       "   'rjust',\n",
       "   'rpartition',\n",
       "   'rsplit',\n",
       "   'rstrip',\n",
       "   'split',\n",
       "   'splitlines',\n",
       "   'startswith',\n",
       "   'strip',\n",
       "   'swapcase',\n",
       "   'title',\n",
       "   'translate',\n",
       "   'upper',\n",
       "   'zfill'],\n",
       "  104: ['!--- show version \\n',\n",
       "   'Cisco Nexus Operating System (NX-OS) Software\\n',\n",
       "   'TAC support: http://www.cisco.com/tac\\n',\n",
       "   'Copyright (C) 2002-2020, Cisco and/or its affiliates.\\n',\n",
       "   'All rights reserved.\\n',\n",
       "   'The copyrights to certain works contained in this software are\\n',\n",
       "   'owned by other third parties and used and distributed under their own\\n',\n",
       "   'licenses, such as open source.  This software is provided \"as is,\" and unless\\n',\n",
       "   'otherwise stated, there is no warranty, express or implied, including but not\\n',\n",
       "   'limited to warranties of merchantability and fitness for a particular purpose.\\n',\n",
       "   'Certain components of this software are licensed under\\n',\n",
       "   'the GNU General Public License (GPL) version 2.0 or \\n',\n",
       "   'GNU General Public License (GPL) version 3.0  or the GNU\\n',\n",
       "   'Lesser General Public License (LGPL) Version 2.1 or \\n',\n",
       "   'Lesser General Public License (LGPL) Version 2.0. \\n',\n",
       "   'A copy of each such license is available at\\n',\n",
       "   'http://www.opensource.org/licenses/gpl-2.0.php and\\n',\n",
       "   'http://opensource.org/licenses/gpl-3.0.html and\\n',\n",
       "   'http://www.opensource.org/licenses/lgpl-2.1.php and\\n',\n",
       "   'http://www.gnu.org/licenses/old-licenses/library.txt.\\n',\n",
       "   '\\n',\n",
       "   'Software\\n',\n",
       "   '  BIOS: version 5.3.1\\n',\n",
       "   '  NXOS: version 7.0(3)I7(8)\\n',\n",
       "   '  BIOS compile time:  06/04/2019\\n',\n",
       "   '  NXOS image file is: bootflash:///nxos.7.0.3.I7.8.bin\\n',\n",
       "   '  NXOS compile time:  3/3/2020 20:00:00 [03/03/2020 22:49:49]\\n',\n",
       "   '\\n',\n",
       "   '\\n',\n",
       "   'Hardware\\n',\n",
       "   '  cisco Nexus3500 C3548P-10GX Chassis \\n',\n",
       "   '  Intel(R) Pentium(R) CPU  @ 2.00GHz with 4031488 kB of memory.\\n',\n",
       "   '  Processor Board ID FOC2245436V\\n',\n",
       "   '\\n',\n",
       "   '  Device name: gdl-srvsw01\\n',\n",
       "   '  bootflash:    3556320 kB\\n',\n",
       "   '  usb1:               0 kB (expansion flash)\\n',\n",
       "   '  usb2:               0 kB (expansion flash)\\n',\n",
       "   '\\n',\n",
       "   'Kernel uptime is 237 day(s), 22 hour(s), 32 minute(s), 11 second(s)\\n',\n",
       "   '\\n',\n",
       "   'Last reset at 578576 usecs after Fri Jun  5 14:06:18 2020\\n',\n",
       "   '  Reason: Disruptive upgrade\\n',\n",
       "   '  System version: 6.0(2)A8(11)\\n',\n",
       "   '  Service: \\n',\n",
       "   '\\n',\n",
       "   'plugin\\n',\n",
       "   '  Core Plugin, Ethernet Plugin\\n',\n",
       "   '\\n',\n",
       "   'Active Package(s):\\n',\n",
       "   '        nxos.CSCvt39630-n9k_ALL-1.0.0-7.0.3.I7.8.lib32_n9000\\n',\n",
       "   '        '],\n",
       "  105: '\\n    0057.d21b.7d00\\n    0057.d21b.7d00\\n    a4bb.6da1.68e4\\n    0008.6600.2ae4\\n    0003.5b0a.2bdd\\n    0003.5b0a.2bdc\\n    0003.5b0a.2bdc\\n    509a.4c48.3214\\n    484d.7ee4.9ccb\\n    484d.7edc.e24b\\n    1866.da3b.99e1\\n    1866.da3b.a40a\\n    6012.8bd3.1d8f\\n    b07b.2540.514c\\n    509a.4c48.2cce\\n    509a.4c48.2cce\\n    00a7.42f6.b434\\n    ',\n",
       "  111: [],\n",
       "  112: True,\n",
       "  118: False,\n",
       "  119: True,\n",
       "  121: False,\n",
       "  124: False},\n",
       " 'get_ipython': <bound method InteractiveShell.get_ipython of <ipykernel.zmqshell.ZMQInteractiveShell object at 0x7f85b8470990>>,\n",
       " 'exit': <IPython.core.autocall.ZMQExitAutocall at 0x7f85b84a8dd0>,\n",
       " 'quit': <IPython.core.autocall.ZMQExitAutocall at 0x7f85b84a8dd0>,\n",
       " '_': False,\n",
       " '__': False,\n",
       " '___': True,\n",
       " '_i': 'bool(ip)',\n",
       " '_ii': 'ip = \"\"',\n",
       " '_iii': 'if dict_of_files:\\n    print(dict_of_files)\\nelse:\\n    print(\"Dictionary of files is empty and therefore False\")',\n",
       " '_i1': 'locals()',\n",
       " '_1': {...},\n",
       " '_i2': 'maxBandwidth = 10\\nmaxbandwidth = 100',\n",
       " 'maxBandwidth': 10,\n",
       " 'maxbandwidth': 100,\n",
       " '_i3': 'maxBandwidth',\n",
       " '_3': 10,\n",
       " '_i4': 'maxbandwidth',\n",
       " '_4': 100,\n",
       " '_i5': '6ipv = \"ip version 6\"',\n",
       " '_i6': 'max-bandwidth = 1000',\n",
       " '_i7': 'ipv6 = \"ip version 6\"\\nmax_bandwidth = 1000',\n",
       " 'ipv6': 'ip version 6',\n",
       " 'max_bandwidth': 1000,\n",
       " '_i8': 'max_bandwidth == maxBandwidth',\n",
       " '_8': False,\n",
       " '_i9': 'total_cfg_files = 1\\nnumDevices = 2\\nnumString = \"5\"',\n",
       " 'total_cfg_files': 1,\n",
       " 'numDevices': 2,\n",
       " 'numString': '5',\n",
       " '_i10': 'type(total_cfg_files)',\n",
       " '_10': int,\n",
       " '_i11': 'type(numDevices)',\n",
       " '_11': int,\n",
       " '_i12': 'type(numString)',\n",
       " '_12': str,\n",
       " '_i13': 'int_bw = 150.7',\n",
       " 'int_bw': 150.7,\n",
       " '_i14': 'type(int_bw)',\n",
       " '_14': float,\n",
       " '_i15': 'int_bw * numDevices',\n",
       " '_15': 301.4,\n",
       " '_i16': 'int_bw + numDevices',\n",
       " '_16': 152.7,\n",
       " '_i17': 'numDevices * numString',\n",
       " '_17': '55',\n",
       " '_i18': 'numString * numDevices',\n",
       " '_18': '55',\n",
       " '_i19': 'files_exist = False',\n",
       " 'files_exist': True,\n",
       " '_i20': 'files_exist',\n",
       " '_20': False,\n",
       " '_i21': 'if total_cfg_files == 1:\\n    print(f\"\\\\nWe have at least one file if total_cfg_files == 1!\")\\n    files_exist = True',\n",
       " '_i22': 'file_exist',\n",
       " '_i23': 'file_exist',\n",
       " '_i24': 'files_exist',\n",
       " '_24': True,\n",
       " '_i25': 'if files_exist:\\n    print(f\\'\\\\nWe have \"at least\" one file if file_exists is True!\\')',\n",
       " '_i26': 'cfg_filename1 = \"retail-rtr.txt\"\\ncfg_fn2 = \\'csr1000v-1.txt\\'',\n",
       " 'cfg_filename1': 'retail-rtr.txt',\n",
       " 'cfg_fn2': 'csr1000v-1.txt',\n",
       " '_i27': 'mac_text = \"\"\"\\n    0057.d21b.7d00\\n    0057.d21b.7d00\\n    a4bb.6da1.68e4\\n    0008.6600.2ae4\\n    0003.5b0a.2bdd\\n    0003.5b0a.2bdc\\n    0003.5b0a.2bdc\\n    509a.4c48.3214\\n    484d.7ee4.9ccb\\n    484d.7edc.e24b\\n    1866.da3b.99e1\\n    1866.da3b.a40a\\n    6012.8bd3.1d8f\\n    b07b.2540.514c\\n    509a.4c48.2cce\\n    509a.4c48.2cce\\n    00a7.42f6.b434\\n    \"\"\"',\n",
       " 'mac_text': '\\n    0057.d21b.7d00\\n    0057.d21b.7d00\\n    a4bb.6da1.68e4\\n    0008.6600.2ae4\\n    0003.5b0a.2bdd\\n    0003.5b0a.2bdc\\n    0003.5b0a.2bdc\\n    509a.4c48.3214\\n    484d.7ee4.9ccb\\n    484d.7edc.e24b\\n    1866.da3b.99e1\\n    1866.da3b.a40a\\n    6012.8bd3.1d8f\\n    b07b.2540.514c\\n    509a.4c48.2cce\\n    509a.4c48.2cce\\n    00a7.42f6.b434\\n    ',\n",
       " '_i28': 'len(cfg_fn2)',\n",
       " '_28': 14,\n",
       " '_i29': 'for letter in cfg_fn2:\\n    print(letter)',\n",
       " 'letter': 't',\n",
       " '_i30': 'list_of_vars = []\\nlist_of_files = list()',\n",
       " 'list_of_vars': [],\n",
       " 'list_of_files': ['retail-rtr.txt', 'csr1000v-1.txt'],\n",
       " '_i31': 'type(list_of_vars)',\n",
       " '_31': list,\n",
       " '_i32': 'type(list_of_files)',\n",
       " '_32': list,\n",
       " '_i33': 'dir(list_of_files)',\n",
       " '_33': ['__add__',\n",
       "  '__class__',\n",
       "  '__contains__',\n",
       "  '__delattr__',\n",
       "  '__delitem__',\n",
       "  '__dir__',\n",
       "  '__doc__',\n",
       "  '__eq__',\n",
       "  '__format__',\n",
       "  '__ge__',\n",
       "  '__getattribute__',\n",
       "  '__getitem__',\n",
       "  '__gt__',\n",
       "  '__hash__',\n",
       "  '__iadd__',\n",
       "  '__imul__',\n",
       "  '__init__',\n",
       "  '__init_subclass__',\n",
       "  '__iter__',\n",
       "  '__le__',\n",
       "  '__len__',\n",
       "  '__lt__',\n",
       "  '__mul__',\n",
       "  '__ne__',\n",
       "  '__new__',\n",
       "  '__reduce__',\n",
       "  '__reduce_ex__',\n",
       "  '__repr__',\n",
       "  '__reversed__',\n",
       "  '__rmul__',\n",
       "  '__setattr__',\n",
       "  '__setitem__',\n",
       "  '__sizeof__',\n",
       "  '__str__',\n",
       "  '__subclasshook__',\n",
       "  'append',\n",
       "  'clear',\n",
       "  'copy',\n",
       "  'count',\n",
       "  'extend',\n",
       "  'index',\n",
       "  'insert',\n",
       "  'pop',\n",
       "  'remove',\n",
       "  'reverse',\n",
       "  'sort'],\n",
       " '_i34': 'list_of_files.append(cfg_filename1)',\n",
       " '_i35': 'list_of_files',\n",
       " '_35': ['retail-rtr.txt', 'csr1000v-1.txt'],\n",
       " '_i36': 'list_of_files.append(cfg_fn2)',\n",
       " '_i37': 'list_of_files',\n",
       " '_37': ['retail-rtr.txt', 'csr1000v-1.txt'],\n",
       " '_i38': 'list_of_files[0]',\n",
       " '_38': 'retail-rtr.txt',\n",
       " '_i39': 'mac_text',\n",
       " '_39': '\\n    0057.d21b.7d00\\n    0057.d21b.7d00\\n    a4bb.6da1.68e4\\n    0008.6600.2ae4\\n    0003.5b0a.2bdd\\n    0003.5b0a.2bdc\\n    0003.5b0a.2bdc\\n    509a.4c48.3214\\n    484d.7ee4.9ccb\\n    484d.7edc.e24b\\n    1866.da3b.99e1\\n    1866.da3b.a40a\\n    6012.8bd3.1d8f\\n    b07b.2540.514c\\n    509a.4c48.2cce\\n    509a.4c48.2cce\\n    00a7.42f6.b434\\n    ',\n",
       " '_i40': 'mac_list = mac_text.split()',\n",
       " 'mac_list': ['0057.d21b.7d00',\n",
       "  '0057.d21b.7d00',\n",
       "  'a4bb.6da1.68e4',\n",
       "  '0008.6600.2ae4',\n",
       "  '0003.5b0a.2bdd',\n",
       "  '0003.5b0a.2bdc',\n",
       "  '0003.5b0a.2bdc',\n",
       "  '509a.4c48.3214',\n",
       "  '484d.7ee4.9ccb',\n",
       "  '484d.7edc.e24b',\n",
       "  '1866.da3b.99e1',\n",
       "  '1866.da3b.a40a',\n",
       "  '6012.8bd3.1d8f',\n",
       "  'b07b.2540.514c',\n",
       "  '509a.4c48.2cce',\n",
       "  '509a.4c48.2cce',\n",
       "  '00a7.42f6.b434'],\n",
       " '_i41': 'len(mac_text)',\n",
       " '_41': 328,\n",
       " '_i42': 'len(mac_list)',\n",
       " '_42': 17,\n",
       " '_i43': 'mac_list',\n",
       " '_43': [],\n",
       " '_i44': 'mac_list[5:]',\n",
       " '_44': ['0003.5b0a.2bdc',\n",
       "  '0003.5b0a.2bdc',\n",
       "  '509a.4c48.3214',\n",
       "  '484d.7ee4.9ccb',\n",
       "  '484d.7edc.e24b',\n",
       "  '1866.da3b.99e1',\n",
       "  '1866.da3b.a40a',\n",
       "  '6012.8bd3.1d8f',\n",
       "  'b07b.2540.514c',\n",
       "  '509a.4c48.2cce',\n",
       "  '509a.4c48.2cce',\n",
       "  '00a7.42f6.b434'],\n",
       " '_i45': 'mac_list[-1]',\n",
       " '_45': '00a7.42f6.b434',\n",
       " '_i46': 'dict_of_files_brackets = {}\\ndict_of_files = dict()',\n",
       " 'dict_of_files_brackets': {},\n",
       " 'dict_of_files': {},\n",
       " '_i47': 'type(dict_of_files_brackets)',\n",
       " '_47': dict,\n",
       " '_i48': 'type(dict_of_files)',\n",
       " '_48': dict,\n",
       " '_i49': 'int_dict = {\\n    \"e1/1\": \"Peer Link1\",\\n    \"e1/2\": \"Peer Link2\",\\n    \"e1/32\": \"Keepalive\"\\n}',\n",
       " 'int_dict': {'e1/1': 'Peer Link1',\n",
       "  'e1/2': 'Peer Link2',\n",
       "  'e1/32': 'Peer Keepalive'},\n",
       " '_i50': 'int_dict.keys()',\n",
       " '_50': dict_keys(['e1/1', 'e1/2', 'e1/32']),\n",
       " '_i51': 'int_dict.values()',\n",
       " '_51': dict_values(['Peer Link1', 'Peer Link2', 'Peer Keepalive']),\n",
       " '_i52': 'int_dict[\"e1/1\"]',\n",
       " '_52': 'Peer Link1',\n",
       " '_i53': 'int_dict[\"e1/32\"] = \"Peer Keepalive\"',\n",
       " '_i54': 'int_dict',\n",
       " '_54': {'e1/1': 'Peer Link1',\n",
       "  'e1/2': 'Peer Link2',\n",
       "  'e1/32': 'Peer Keepalive'},\n",
       " '_i55': 'for key, value in int_dict.items():\\n    print(key)\\n    print(value)\\n    print()',\n",
       " 'key': 'e1/32',\n",
       " 'value': 'Peer Keepalive',\n",
       " '_i56': 'for item in int_dict:\\n    print(item)\\n    print(type(item))',\n",
       " 'item': 'e1/32',\n",
       " '_i57': 'ip_set = {\"1.1.1.1\", \"2.2.2.2\", \"1.1.1.1\"}',\n",
       " 'ip_set': {'1.1.1.1', '2.2.2.2'},\n",
       " '_i58': 'ip_set',\n",
       " '_58': {'1.1.1.1', '2.2.2.2'},\n",
       " '_i59': 'len(mac_list)',\n",
       " '_59': 17,\n",
       " '_i60': 'umac = set(mac_list)',\n",
       " 'umac': {'0000.0000.0000',\n",
       "  '0003.5b0a.2bdc',\n",
       "  '0003.5b0a.2bdd',\n",
       "  '0008.6600.2ae4',\n",
       "  '0057.d21b.7d00',\n",
       "  '00a7.42f6.b434',\n",
       "  '1866.da3b.99e1',\n",
       "  '1866.da3b.a40a',\n",
       "  '484d.7edc.e24b',\n",
       "  '484d.7ee4.9ccb',\n",
       "  '509a.4c48.2cce',\n",
       "  '509a.4c48.3214',\n",
       "  '6012.8bd3.1d8f',\n",
       "  'a4bb.6da1.68e4',\n",
       "  'b07b.2540.514c'},\n",
       " '_i61': 'len(umac)',\n",
       " '_61': 14,\n",
       " '_i62': 'umac.add(\"0000.0000.0000\")',\n",
       " '_i63': 'umac',\n",
       " '_63': {'0000.0000.0000',\n",
       "  '0003.5b0a.2bdc',\n",
       "  '0003.5b0a.2bdd',\n",
       "  '0008.6600.2ae4',\n",
       "  '0057.d21b.7d00',\n",
       "  '00a7.42f6.b434',\n",
       "  '1866.da3b.99e1',\n",
       "  '1866.da3b.a40a',\n",
       "  '484d.7edc.e24b',\n",
       "  '484d.7ee4.9ccb',\n",
       "  '509a.4c48.2cce',\n",
       "  '509a.4c48.3214',\n",
       "  '6012.8bd3.1d8f',\n",
       "  'a4bb.6da1.68e4',\n",
       "  'b07b.2540.514c'},\n",
       " '_i64': 'len(umac)',\n",
       " '_64': 15,\n",
       " '_i65': 'umac[0]',\n",
       " '_i66': 'umac[0] = \"ffff.ffff.ffff\"',\n",
       " '_i67': 'helpers = (\"1.1.1.1\", \"2.2.2.2\", \"1.1.1.1\")',\n",
       " 'helpers': ('1.1.1.1', '2.2.2.2', '1.1.1.1'),\n",
       " '_i68': 'helpers',\n",
       " '_68': ('1.1.1.1', '2.2.2.2', '1.1.1.1'),\n",
       " '_i69': 'type(helpers)',\n",
       " '_69': tuple,\n",
       " '_i70': 'helpers[0]',\n",
       " '_70': '1.1.1.1',\n",
       " '_i71': 'helpers.add(\"3.3.3.3\")',\n",
       " '_i72': 'dir(helpers)',\n",
       " '_72': ['__add__',\n",
       "  '__class__',\n",
       "  '__contains__',\n",
       "  '__delattr__',\n",
       "  '__dir__',\n",
       "  '__doc__',\n",
       "  '__eq__',\n",
       "  '__format__',\n",
       "  '__ge__',\n",
       "  '__getattribute__',\n",
       "  '__getitem__',\n",
       "  '__getnewargs__',\n",
       "  '__gt__',\n",
       "  '__hash__',\n",
       "  '__init__',\n",
       "  '__init_subclass__',\n",
       "  '__iter__',\n",
       "  '__le__',\n",
       "  '__len__',\n",
       "  '__lt__',\n",
       "  '__mul__',\n",
       "  '__ne__',\n",
       "  '__new__',\n",
       "  '__reduce__',\n",
       "  '__reduce_ex__',\n",
       "  '__repr__',\n",
       "  '__rmul__',\n",
       "  '__setattr__',\n",
       "  '__sizeof__',\n",
       "  '__str__',\n",
       "  '__subclasshook__',\n",
       "  'count',\n",
       "  'index'],\n",
       " '_i73': 'helpers.count(\"1.1.1.1\")',\n",
       " '_73': 2,\n",
       " '_i74': 'helpers.index(\"2.2.2.2\")',\n",
       " '_74': 1,\n",
       " '_i75': 'helpers[1]',\n",
       " '_75': '2.2.2.2',\n",
       " '_i76': 'help(helpers)',\n",
       " '_i77': 'password = input(\"Enter password:\")',\n",
       " 'password': 'my_password',\n",
       " '_i78': 'password',\n",
       " '_78': 'my_password',\n",
       " '_i79': '\\npasswd = getpass.getpass()',\n",
       " '_i80': 'import getpass\\npasswd = getpass.getpass()',\n",
       " 'getpass': <module 'getpass' from '/Library/Frameworks/Python.framework/Versions/3.7/lib/python3.7/getpass.py'>,\n",
       " 'passwd': 'my_password',\n",
       " '_i81': 'passwd',\n",
       " '_81': 'my_password',\n",
       " '_i82': 'passwd',\n",
       " '_82': 'my_password',\n",
       " '_i83': 'passwd',\n",
       " '_83': 'my_password',\n",
       " '_i84': 'print(\"Hello\")',\n",
       " '_i85': 'print(f\"My password is {passwd}\")',\n",
       " '_i86': 'ls',\n",
       " '_exit_code': 0,\n",
       " '_i87': 'fh = open(\"nexus_show_version.txt\")',\n",
       " 'fh': <_io.TextIOWrapper name='nexus_show_version.txt' mode='r' encoding='UTF-8'>,\n",
       " '_i88': 'print(fh)',\n",
       " '_i89': 'type(fh)',\n",
       " '_89': _io.TextIOWrapper,\n",
       " '_i90': 'dir(fh)',\n",
       " '_90': ['_CHUNK_SIZE',\n",
       "  '__class__',\n",
       "  '__del__',\n",
       "  '__delattr__',\n",
       "  '__dict__',\n",
       "  '__dir__',\n",
       "  '__doc__',\n",
       "  '__enter__',\n",
       "  '__eq__',\n",
       "  '__exit__',\n",
       "  '__format__',\n",
       "  '__ge__',\n",
       "  '__getattribute__',\n",
       "  '__getstate__',\n",
       "  '__gt__',\n",
       "  '__hash__',\n",
       "  '__init__',\n",
       "  '__init_subclass__',\n",
       "  '__iter__',\n",
       "  '__le__',\n",
       "  '__lt__',\n",
       "  '__ne__',\n",
       "  '__new__',\n",
       "  '__next__',\n",
       "  '__reduce__',\n",
       "  '__reduce_ex__',\n",
       "  '__repr__',\n",
       "  '__setattr__',\n",
       "  '__sizeof__',\n",
       "  '__str__',\n",
       "  '__subclasshook__',\n",
       "  '_checkClosed',\n",
       "  '_checkReadable',\n",
       "  '_checkSeekable',\n",
       "  '_checkWritable',\n",
       "  '_finalizing',\n",
       "  'buffer',\n",
       "  'close',\n",
       "  'closed',\n",
       "  'detach',\n",
       "  'encoding',\n",
       "  'errors',\n",
       "  'fileno',\n",
       "  'flush',\n",
       "  'isatty',\n",
       "  'line_buffering',\n",
       "  'mode',\n",
       "  'name',\n",
       "  'newlines',\n",
       "  'read',\n",
       "  'readable',\n",
       "  'readline',\n",
       "  'readlines',\n",
       "  'reconfigure',\n",
       "  'seek',\n",
       "  'seekable',\n",
       "  'tell',\n",
       "  'truncate',\n",
       "  'writable',\n",
       "  'write',\n",
       "  'write_through',\n",
       "  'writelines'],\n",
       " '_i91': 'data = fh.read()',\n",
       " 'data': ['!--- show version \\n',\n",
       "  'Cisco Nexus Operating System (NX-OS) Software\\n',\n",
       "  'TAC support: http://www.cisco.com/tac\\n',\n",
       "  'Copyright (C) 2002-2020, Cisco and/or its affiliates.\\n',\n",
       "  'All rights reserved.\\n',\n",
       "  'The copyrights to certain works contained in this software are\\n',\n",
       "  'owned by other third parties and used and distributed under their own\\n',\n",
       "  'licenses, such as open source.  This software is provided \"as is,\" and unless\\n',\n",
       "  'otherwise stated, there is no warranty, express or implied, including but not\\n',\n",
       "  'limited to warranties of merchantability and fitness for a particular purpose.\\n',\n",
       "  'Certain components of this software are licensed under\\n',\n",
       "  'the GNU General Public License (GPL) version 2.0 or \\n',\n",
       "  'GNU General Public License (GPL) version 3.0  or the GNU\\n',\n",
       "  'Lesser General Public License (LGPL) Version 2.1 or \\n',\n",
       "  'Lesser General Public License (LGPL) Version 2.0. \\n',\n",
       "  'A copy of each such license is available at\\n',\n",
       "  'http://www.opensource.org/licenses/gpl-2.0.php and\\n',\n",
       "  'http://opensource.org/licenses/gpl-3.0.html and\\n',\n",
       "  'http://www.opensource.org/licenses/lgpl-2.1.php and\\n',\n",
       "  'http://www.gnu.org/licenses/old-licenses/library.txt.\\n',\n",
       "  '\\n',\n",
       "  'Software\\n',\n",
       "  '  BIOS: version 5.3.1\\n',\n",
       "  '  NXOS: version 7.0(3)I7(8)\\n',\n",
       "  '  BIOS compile time:  06/04/2019\\n',\n",
       "  '  NXOS image file is: bootflash:///nxos.7.0.3.I7.8.bin\\n',\n",
       "  '  NXOS compile time:  3/3/2020 20:00:00 [03/03/2020 22:49:49]\\n',\n",
       "  '\\n',\n",
       "  '\\n',\n",
       "  'Hardware\\n',\n",
       "  '  cisco Nexus3500 C3548P-10GX Chassis \\n',\n",
       "  '  Intel(R) Pentium(R) CPU  @ 2.00GHz with 4031488 kB of memory.\\n',\n",
       "  '  Processor Board ID FOC2245436V\\n',\n",
       "  '\\n',\n",
       "  '  Device name: gdl-srvsw01\\n',\n",
       "  '  bootflash:    3556320 kB\\n',\n",
       "  '  usb1:               0 kB (expansion flash)\\n',\n",
       "  '  usb2:               0 kB (expansion flash)\\n',\n",
       "  '\\n',\n",
       "  'Kernel uptime is 237 day(s), 22 hour(s), 32 minute(s), 11 second(s)\\n',\n",
       "  '\\n',\n",
       "  'Last reset at 578576 usecs after Fri Jun  5 14:06:18 2020\\n',\n",
       "  '  Reason: Disruptive upgrade\\n',\n",
       "  '  System version: 6.0(2)A8(11)\\n',\n",
       "  '  Service: \\n',\n",
       "  '\\n',\n",
       "  'plugin\\n',\n",
       "  '  Core Plugin, Ethernet Plugin\\n',\n",
       "  '\\n',\n",
       "  'Active Package(s):\\n',\n",
       "  '        nxos.CSCvt39630-n9k_ALL-1.0.0-7.0.3.I7.8.lib32_n9000\\n',\n",
       "  '        '],\n",
       " '_i92': 'fh.close()',\n",
       " '_i93': 'data',\n",
       " '_93': '!--- show version \\nCisco Nexus Operating System (NX-OS) Software\\nTAC support: http://www.cisco.com/tac\\nCopyright (C) 2002-2020, Cisco and/or its affiliates.\\nAll rights reserved.\\nThe copyrights to certain works contained in this software are\\nowned by other third parties and used and distributed under their own\\nlicenses, such as open source.  This software is provided \"as is,\" and unless\\notherwise stated, there is no warranty, express or implied, including but not\\nlimited to warranties of merchantability and fitness for a particular purpose.\\nCertain components of this software are licensed under\\nthe GNU General Public License (GPL) version 2.0 or \\nGNU General Public License (GPL) version 3.0  or the GNU\\nLesser General Public License (LGPL) Version 2.1 or \\nLesser General Public License (LGPL) Version 2.0. \\nA copy of each such license is available at\\nhttp://www.opensource.org/licenses/gpl-2.0.php and\\nhttp://opensource.org/licenses/gpl-3.0.html and\\nhttp://www.opensource.org/licenses/lgpl-2.1.php and\\nhttp://www.gnu.org/licenses/old-licenses/library.txt.\\n\\nSoftware\\n  BIOS: version 5.3.1\\n  NXOS: version 7.0(3)I7(8)\\n  BIOS compile time:  06/04/2019\\n  NXOS image file is: bootflash:///nxos.7.0.3.I7.8.bin\\n  NXOS compile time:  3/3/2020 20:00:00 [03/03/2020 22:49:49]\\n\\n\\nHardware\\n  cisco Nexus3500 C3548P-10GX Chassis \\n  Intel(R) Pentium(R) CPU  @ 2.00GHz with 4031488 kB of memory.\\n  Processor Board ID FOC2245436V\\n\\n  Device name: gdl-srvsw01\\n  bootflash:    3556320 kB\\n  usb1:               0 kB (expansion flash)\\n  usb2:               0 kB (expansion flash)\\n\\nKernel uptime is 237 day(s), 22 hour(s), 32 minute(s), 11 second(s)\\n\\nLast reset at 578576 usecs after Fri Jun  5 14:06:18 2020\\n  Reason: Disruptive upgrade\\n  System version: 6.0(2)A8(11)\\n  Service: \\n\\nplugin\\n  Core Plugin, Ethernet Plugin\\n\\nActive Package(s):\\n        nxos.CSCvt39630-n9k_ALL-1.0.0-7.0.3.I7.8.lib32_n9000\\n        ',\n",
       " '_i94': 'for line in fh:\\n    print(line)',\n",
       " '_i95': 'fh = open(\"nexus_show_version.txt\")',\n",
       " '_i96': 'for line in fh:\\n    print(line)',\n",
       " 'line': '00a7.42f6.b434',\n",
       " '_i97': 'file_name = \"nexus_show_version.txt\"\\n# By default the file is opened as read only\\n# open(file_name) translates to open(file_name, \"r\")\\nwith open(file_name) as file:  \\n    data = file.readlines() ',\n",
       " 'file_name': 'nexus_show_version.txt',\n",
       " 'file': <_io.TextIOWrapper name='my_mac_data.txt' mode='w' encoding='UTF-8'>,\n",
       " '_i98': 'type(data)',\n",
       " '_98': list,\n",
       " '_i99': 'len(data)',\n",
       " '_99': 52,\n",
       " '_i100': 'for line in data:\\n    print(line)',\n",
       " '_i101': 'data[0]',\n",
       " '_101': '!--- show version \\n',\n",
       " '_i102': 'type(data[0])',\n",
       " '_102': str,\n",
       " '_i103': 'dir(data[0])',\n",
       " '_103': ['__add__',\n",
       "  '__class__',\n",
       "  '__contains__',\n",
       "  '__delattr__',\n",
       "  '__dir__',\n",
       "  '__doc__',\n",
       "  '__eq__',\n",
       "  '__format__',\n",
       "  '__ge__',\n",
       "  '__getattribute__',\n",
       "  '__getitem__',\n",
       "  '__getnewargs__',\n",
       "  '__gt__',\n",
       "  '__hash__',\n",
       "  '__init__',\n",
       "  '__init_subclass__',\n",
       "  '__iter__',\n",
       "  '__le__',\n",
       "  '__len__',\n",
       "  '__lt__',\n",
       "  '__mod__',\n",
       "  '__mul__',\n",
       "  '__ne__',\n",
       "  '__new__',\n",
       "  '__reduce__',\n",
       "  '__reduce_ex__',\n",
       "  '__repr__',\n",
       "  '__rmod__',\n",
       "  '__rmul__',\n",
       "  '__setattr__',\n",
       "  '__sizeof__',\n",
       "  '__str__',\n",
       "  '__subclasshook__',\n",
       "  'capitalize',\n",
       "  'casefold',\n",
       "  'center',\n",
       "  'count',\n",
       "  'encode',\n",
       "  'endswith',\n",
       "  'expandtabs',\n",
       "  'find',\n",
       "  'format',\n",
       "  'format_map',\n",
       "  'index',\n",
       "  'isalnum',\n",
       "  'isalpha',\n",
       "  'isascii',\n",
       "  'isdecimal',\n",
       "  'isdigit',\n",
       "  'isidentifier',\n",
       "  'islower',\n",
       "  'isnumeric',\n",
       "  'isprintable',\n",
       "  'isspace',\n",
       "  'istitle',\n",
       "  'isupper',\n",
       "  'join',\n",
       "  'ljust',\n",
       "  'lower',\n",
       "  'lstrip',\n",
       "  'maketrans',\n",
       "  'partition',\n",
       "  'replace',\n",
       "  'rfind',\n",
       "  'rindex',\n",
       "  'rjust',\n",
       "  'rpartition',\n",
       "  'rsplit',\n",
       "  'rstrip',\n",
       "  'split',\n",
       "  'splitlines',\n",
       "  'startswith',\n",
       "  'strip',\n",
       "  'swapcase',\n",
       "  'title',\n",
       "  'translate',\n",
       "  'upper',\n",
       "  'zfill'],\n",
       " '_i104': 'data',\n",
       " '_104': ['!--- show version \\n',\n",
       "  'Cisco Nexus Operating System (NX-OS) Software\\n',\n",
       "  'TAC support: http://www.cisco.com/tac\\n',\n",
       "  'Copyright (C) 2002-2020, Cisco and/or its affiliates.\\n',\n",
       "  'All rights reserved.\\n',\n",
       "  'The copyrights to certain works contained in this software are\\n',\n",
       "  'owned by other third parties and used and distributed under their own\\n',\n",
       "  'licenses, such as open source.  This software is provided \"as is,\" and unless\\n',\n",
       "  'otherwise stated, there is no warranty, express or implied, including but not\\n',\n",
       "  'limited to warranties of merchantability and fitness for a particular purpose.\\n',\n",
       "  'Certain components of this software are licensed under\\n',\n",
       "  'the GNU General Public License (GPL) version 2.0 or \\n',\n",
       "  'GNU General Public License (GPL) version 3.0  or the GNU\\n',\n",
       "  'Lesser General Public License (LGPL) Version 2.1 or \\n',\n",
       "  'Lesser General Public License (LGPL) Version 2.0. \\n',\n",
       "  'A copy of each such license is available at\\n',\n",
       "  'http://www.opensource.org/licenses/gpl-2.0.php and\\n',\n",
       "  'http://opensource.org/licenses/gpl-3.0.html and\\n',\n",
       "  'http://www.opensource.org/licenses/lgpl-2.1.php and\\n',\n",
       "  'http://www.gnu.org/licenses/old-licenses/library.txt.\\n',\n",
       "  '\\n',\n",
       "  'Software\\n',\n",
       "  '  BIOS: version 5.3.1\\n',\n",
       "  '  NXOS: version 7.0(3)I7(8)\\n',\n",
       "  '  BIOS compile time:  06/04/2019\\n',\n",
       "  '  NXOS image file is: bootflash:///nxos.7.0.3.I7.8.bin\\n',\n",
       "  '  NXOS compile time:  3/3/2020 20:00:00 [03/03/2020 22:49:49]\\n',\n",
       "  '\\n',\n",
       "  '\\n',\n",
       "  'Hardware\\n',\n",
       "  '  cisco Nexus3500 C3548P-10GX Chassis \\n',\n",
       "  '  Intel(R) Pentium(R) CPU  @ 2.00GHz with 4031488 kB of memory.\\n',\n",
       "  '  Processor Board ID FOC2245436V\\n',\n",
       "  '\\n',\n",
       "  '  Device name: gdl-srvsw01\\n',\n",
       "  '  bootflash:    3556320 kB\\n',\n",
       "  '  usb1:               0 kB (expansion flash)\\n',\n",
       "  '  usb2:               0 kB (expansion flash)\\n',\n",
       "  '\\n',\n",
       "  'Kernel uptime is 237 day(s), 22 hour(s), 32 minute(s), 11 second(s)\\n',\n",
       "  '\\n',\n",
       "  'Last reset at 578576 usecs after Fri Jun  5 14:06:18 2020\\n',\n",
       "  '  Reason: Disruptive upgrade\\n',\n",
       "  '  System version: 6.0(2)A8(11)\\n',\n",
       "  '  Service: \\n',\n",
       "  '\\n',\n",
       "  'plugin\\n',\n",
       "  '  Core Plugin, Ethernet Plugin\\n',\n",
       "  '\\n',\n",
       "  'Active Package(s):\\n',\n",
       "  '        nxos.CSCvt39630-n9k_ALL-1.0.0-7.0.3.I7.8.lib32_n9000\\n',\n",
       "  '        '],\n",
       " '_i105': 'mac_text',\n",
       " '_105': '\\n    0057.d21b.7d00\\n    0057.d21b.7d00\\n    a4bb.6da1.68e4\\n    0008.6600.2ae4\\n    0003.5b0a.2bdd\\n    0003.5b0a.2bdc\\n    0003.5b0a.2bdc\\n    509a.4c48.3214\\n    484d.7ee4.9ccb\\n    484d.7edc.e24b\\n    1866.da3b.99e1\\n    1866.da3b.a40a\\n    6012.8bd3.1d8f\\n    b07b.2540.514c\\n    509a.4c48.2cce\\n    509a.4c48.2cce\\n    00a7.42f6.b434\\n    ',\n",
       " '_i106': 'with open(\"my_mac_data.txt\", \"w\") as file:  \\n    file.write(mac_text) ',\n",
       " '_i107': 'ls',\n",
       " '_i108': 'if mac_text:\\n    print(\"There is data in mac_text...remember to save!\")\\nelse:\\n    print(\"No data in mac_text.  No need to save.\")',\n",
       " '_i109': 'for line in mac_list:\\n    print(line)',\n",
       " '_i110': 'while mac_list:\\n    print(mac_list.pop())',\n",
       " '_i111': 'mac_list',\n",
       " '_111': [],\n",
       " '_i112': '\"7d00\" in mac_text',\n",
       " '_112': True,\n",
       " '_i113': 'mac_list = mac_text.split()',\n",
       " '_i114': 'if \"7d00\" in mac_list:\\n    print(\"\\\\nfound 7d00 in list\")',\n",
       " '_i115': 'if \"7d00\" in mac_list:\\n    print(\"\\\\nfound 7d00 in list\")',\n",
       " '_i116': 'for mac in mac_list:\\n    if \"7d00\" in mac:\\n        print(\"\\\\nFound mac with 7d00\")\\n        print(mac)',\n",
       " 'mac': '00a7.42f6.b434',\n",
       " '_i117': 'my_num = 0',\n",
       " 'my_num': 0,\n",
       " '_i118': 'bool(my_num)',\n",
       " '_118': False,\n",
       " '_i119': 'bool(files_exist)',\n",
       " '_119': True,\n",
       " '_i120': 'if files_exist:\\n    print(\"If file_exists is true print out dict_of_files\")\\n    print(dict_of_files)',\n",
       " '_i121': 'bool(dict_of_files)',\n",
       " '_121': False,\n",
       " '_i122': 'if dict_of_files:\\n    print(dict_of_files)\\nelse:\\n    print(\"Dictionary of files is empty and therefore False\")',\n",
       " '_i123': 'ip = \"\"',\n",
       " 'ip': '',\n",
       " '_i124': 'bool(ip)',\n",
       " '_124': False,\n",
       " '_i125': 'locals()'}"
      ]
     },
     "execution_count": 125,
     "metadata": {},
     "output_type": "execute_result"
    }
   ],
   "source": [
    "locals()"
   ]
  },
  {
   "cell_type": "markdown",
   "metadata": {},
   "source": [
    "---"
   ]
  },
  {
   "cell_type": "markdown",
   "metadata": {},
   "source": [
    "---"
   ]
  },
  {
   "attachments": {},
   "cell_type": "markdown",
   "metadata": {},
   "source": [
    "## Quick Start\n",
    "\n",
    "1. Move to a folder or directory where you can clone a repository (this will create a new folder with the name of the repository)\n",
    "\n",
    "2. Clone the Section 3 Part 4 repository\n",
    "\n",
    "`git clone https://github.com/claudia-codered/sec03-4_Language_Basics.git`\n",
    "\n",
    "3. Change directory (**cd**) into the new **sec03-4_Language_Basics** directory\n",
    "\n",
    "`cd sec03-4_Language_Basics`\n",
    "\n",
    "4. Create a Virtual Environment called venv (or any other name you like)\n",
    "\n",
    "`python -m venv venv`\n",
    "\n",
    "5. Activate your new virtual environment\n",
    "\n",
    "On Mac/Linux\n",
    "`source venv/bin/activate`\n",
    "\n",
    "On Windows\n",
    "`Source\\bin\\activate`\n",
    "\n",
    "Notice your command line prompt changes to indicate your virtual environment is active\n",
    "Example:\n",
    "`(venv) claudia@Claudias-iMac Clones %`\n",
    "\n",
    "\n",
    "6. Install two modules\n",
    "    \n",
    "`pip install jupyter`\n",
    "`pip install requests`\n",
    "\n",
    "7. Launch the Jupyter Notebook\n",
    "\n",
    "`jupyter notebook`\n",
    "\n",
    "This will launch a browser window and display the contents of the repository.  \n",
    "Click on the ***Python_Refresher_Notebook.ipynb*** Jupyter Notebook to launch your copy of this notebook.\n",
    "\n",
    "Remember to do all of this from your repository directory using Python version 3.\n",
    "\n",
    "To quit the notebook, return to your command line (where you launched \"jupyter notebood\" and enter <CTRL-C> and answer **y** to quite the notebook.\n"
   ]
  }
 ],
 "metadata": {
  "kernelspec": {
   "display_name": "Python 3",
   "language": "python",
   "name": "python3"
  },
  "language_info": {
   "codemirror_mode": {
    "name": "ipython",
    "version": 3
   },
   "file_extension": ".py",
   "mimetype": "text/x-python",
   "name": "python",
   "nbconvert_exporter": "python",
   "pygments_lexer": "ipython3",
   "version": "3.7.4"
  }
 },
 "nbformat": 4,
 "nbformat_minor": 4
}
