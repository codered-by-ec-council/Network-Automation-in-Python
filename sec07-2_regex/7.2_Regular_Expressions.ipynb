{
 "cells": [
  {
   "cell_type": "markdown",
   "id": "9d5306f3",
   "metadata": {},
   "source": [
    "# The language of pattern matching\n",
    "## Regular Expressions"
   ]
  },
  {
   "cell_type": "markdown",
   "id": "aad7145c",
   "metadata": {},
   "source": [
    "### Cheat Sheet\n",
    "\n",
    "\n",
    "\n",
    "| Symbol | Meaning                                                 |\n",
    "| ------ | ------------------------------------------------------- |\n",
    "|   --   | ---------------- Metacharacters                         |\n",
    "|        |  `. ^ $ * + ? { } [ ] \\ | ( )`            |\n",
    "|   --   | ---------------- Anchors                                |\n",
    "| ^      | string starts with                                      |\n",
    "| $      | string ends with                                        |\n",
    "|   --   | ---------------- Boundaries                             |\n",
    "| \\b     | word boundary                                           |\n",
    "| \\B     | not a word boundary                                     |\n",
    "|        |  ---------------- Quantifiers                           |\n",
    "| ?      | zero or one                                             |\n",
    "| *      | zero or more                                            |\n",
    "| +      | one or more                                             |\n",
    "| {2}    | two occurrences                                         |\n",
    "| {4,}   | four or more occurrences                                |\n",
    "| {1,4}  | at least one and up to 4 occurrences                    |\n",
    "|  --    |  ---------------- Character Class                       |\n",
    "| [abc]  | character that is a,b, or c                             |\n",
    "| [^abc] | any character that is not a,b, or c                     |\n",
    "| [a-z]  | any character in the range a through z (lower case)     |\n",
    "| [^a-z] | any character not in the range a through z (lower case) |\n",
    "|  --    |  ---------------- Characters                        |\n",
    "|  .     | any character except a line break (Note. a period will need to be escaped \\\\.)|\n",
    "| \\d     | any digit (roughly [0-9])                               |\n",
    "| \\w     | any word (roughly [a-zA-Z0-9])                          |\n",
    "| \\s     | any whitespace (rougly [\\f\\n\\r\\t\\v])                    |\n",
    "| \\D     | any non digit                                           |\n",
    "| \\W     | any non word                                            |\n",
    "| \\S     | any non whitespace                                      |\n",
    "| --     |  ---------------- Logic                                 |\n",
    "| x\\|y   | either x or y                                           |\n",
    "| ()     | capture                                                 |\n",
    "|        |                                                         |\n",
    "\n"
   ]
  },
  {
   "cell_type": "code",
   "execution_count": 1,
   "metadata": {},
   "outputs": [],
   "source": [
    "import re"
   ]
  },
  {
   "cell_type": "markdown",
   "metadata": {},
   "source": [
    "The Python built in re module.\n",
    "\n",
    "As a network engineer, and always preferring built in modules if possible, more often that not, **re** is all you need, particularly if you are searching specific values (vs a long string of text).\n"
   ]
  },
  {
   "cell_type": "code",
   "execution_count": 2,
   "metadata": {},
   "outputs": [
    {
     "ename": "ModuleNotFoundError",
     "evalue": "No module named 'regex'",
     "output_type": "error",
     "traceback": [
      "\u001B[0;31m---------------------------------------------------------------------------\u001B[0m",
      "\u001B[0;31mModuleNotFoundError\u001B[0m                       Traceback (most recent call last)",
      "\u001B[0;32m/var/folders/vt/xfhvc3690wz75cm9cjd6mpxr0000gn/T/ipykernel_10867/1889825413.py\u001B[0m in \u001B[0;36m<module>\u001B[0;34m\u001B[0m\n\u001B[0;32m----> 1\u001B[0;31m \u001B[0;32mimport\u001B[0m \u001B[0mregex\u001B[0m\u001B[0;34m\u001B[0m\u001B[0;34m\u001B[0m\u001B[0m\n\u001B[0m\u001B[1;32m      2\u001B[0m \u001B[0;34m\u001B[0m\u001B[0m\n",
      "\u001B[0;31mModuleNotFoundError\u001B[0m: No module named 'regex'"
     ]
    }
   ],
   "source": [
    "import regex"
   ]
  },
  {
   "cell_type": "markdown",
   "metadata": {},
   "source": [
    "The third-party **regex** module, better at unicode and more advanced features. "
   ]
  },
  {
   "cell_type": "code",
   "execution_count": null,
   "id": "1b865899",
   "metadata": {},
   "outputs": [],
   "source": [
    "semiform = \"\"\"\n",
    "oceans-cs01#show int status | i connected\n",
    "Gi1/0/1                      connected    1          a-full  a-100 10/100/1000BaseTX\n",
    "Gi1/0/3                      connected    1          a-half   a-10 10/100/1000BaseTX\n",
    "Gi1/0/7                      connected    1          a-full  a-100 10/100/1000BaseTX\n",
    "Gi1/0/14                     connected    1          a-full   a-10 10/100/1000BaseTX\n",
    "Gi1/0/23                     connected    1          a-full a-1000 10/100/1000BaseTX\n",
    "Gi1/0/46                     connected    1          a-full a-1000 10/100/1000BaseTX\n",
    "Gi1/1/4                      connected    1          a-full a-1000 10/100/1000BaseTX SFP\n",
    "Gi2/0/2                      connected    1          a-full   a-10 10/100/1000BaseTX\n",
    "Gi2/1/1                      connected    1          a-full a-1000 10/100/1000BaseTX\n",
    "Gi3/0/31                     connected    1          a-full a-1000 10/100/1000BaseTX SFP\n",
    "Te4/1/1                      connected    1          a-full a-1000 10/100/1000BaseTX SFP\n",
    "Fa0                          connected    routed     a-full  a-100 10/100BaseTX\n",
    "oceans-cs01#\n",
    "\"\"\""
   ]
  },
  {
   "cell_type": "markdown",
   "metadata": {},
   "source": [
    "*Avoid searching one big block of text, particularly if its semi-formatted text*"
   ]
  },
  {
   "cell_type": "code",
   "execution_count": null,
   "metadata": {},
   "outputs": [],
   "source": [
    "semiform_lines = semiform.split(\"\\n\")\n",
    "itemized_lines = []\n",
    "for line in semiform_lines:\n",
    "    # Make sure line has something in it so you don't wind up with an empty list!\n",
    "    if line:\n",
    "        itemized_lines.append(line.strip().split())"
   ]
  },
  {
   "cell_type": "code",
   "execution_count": null,
   "metadata": {},
   "outputs": [],
   "source": [
    "len(semiform_lines)"
   ]
  },
  {
   "cell_type": "code",
   "execution_count": null,
   "metadata": {},
   "outputs": [],
   "source": [
    "itemized_lines"
   ]
  },
  {
   "cell_type": "code",
   "execution_count": null,
   "metadata": {},
   "outputs": [],
   "source": [
    "for line in itemized_lines:\n",
    "    print(line[0])\n",
    "    if re.search(r\"^Gi\\d/0/\\d{1,2}$\", line[0]):\n",
    "        print(line)\n",
    "    else: \n",
    "        print(f\"\\tPattern not found!\")\n",
    "    print()"
   ]
  },
  {
   "cell_type": "code",
   "execution_count": null,
   "metadata": {},
   "outputs": [],
   "source": [
    "for line in semiform_lines:\n",
    "    if re.search(r\"^(Gi|Te)\\d/(0|1)/\\d\", line):\n",
    "        print(line)\n",
    "    print()"
   ]
  },
  {
   "cell_type": "code",
   "execution_count": null,
   "metadata": {},
   "outputs": [],
   "source": [
    "for line in semiform_lines:\n",
    "    \n",
    "    if re.search(r\"^(Gi|Te)\\d/1/\\d{1}\", line):\n",
    "        print(line)"
   ]
  },
  {
   "cell_type": "code",
   "execution_count": null,
   "metadata": {},
   "outputs": [],
   "source": [
    "print(semiform_lines[2])\n",
    "intf = re.search(r\"^(Gi\\d/(0|1)/\\d{1})\", semiform_lines[2])"
   ]
  },
  {
   "cell_type": "code",
   "execution_count": null,
   "metadata": {},
   "outputs": [],
   "source": [
    "intf"
   ]
  },
  {
   "cell_type": "code",
   "execution_count": null,
   "metadata": {},
   "outputs": [],
   "source": [
    "dir(intf)"
   ]
  },
  {
   "cell_type": "code",
   "execution_count": null,
   "metadata": {},
   "outputs": [],
   "source": [
    "intf.group()"
   ]
  },
  {
   "cell_type": "code",
   "execution_count": null,
   "metadata": {},
   "outputs": [],
   "source": [
    "intf.groups()"
   ]
  },
  {
   "cell_type": "code",
   "execution_count": null,
   "metadata": {},
   "outputs": [],
   "source": []
  }
 ],
 "metadata": {
  "kernelspec": {
   "display_name": "Python 3",
   "language": "python",
   "name": "python3"
  },
  "language_info": {
   "codemirror_mode": {
    "name": "ipython",
    "version": 3
   },
   "file_extension": ".py",
   "mimetype": "text/x-python",
   "name": "python",
   "nbconvert_exporter": "python",
   "pygments_lexer": "ipython3",
   "version": "3.7.4"
  }
 },
 "nbformat": 4,
 "nbformat_minor": 5
}