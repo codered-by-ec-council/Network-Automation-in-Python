{
 "cells": [
  {
   "cell_type": "markdown",
   "id": "370b6032",
   "metadata": {},
   "source": [
    "# Parsing Show Command Output with TextFSM Python Module"
   ]
  },
  {
   "cell_type": "markdown",
   "id": "5460580e",
   "metadata": {},
   "source": [
    "Given a text file with show command output, parse the output using a TextFSM template.  This will get all the show command data into a Python structure that can be used to make decisions.\n",
    "Remember to install textfsm into your virtual environment\n",
    "\n",
    "`pip install textfsm`"
   ]
  },
  {
   "cell_type": "code",
   "execution_count": 1,
   "id": "4c1b9ba8",
   "metadata": {},
   "outputs": [],
   "source": [
    "import textfsm\n",
    "import os"
   ]
  },
  {
   "cell_type": "code",
   "execution_count": null,
   "id": "89036d9c",
   "metadata": {},
   "outputs": [],
   "source": [
    "pwd"
   ]
  },
  {
   "cell_type": "code",
   "execution_count": 2,
   "id": "fa1e329b",
   "metadata": {},
   "outputs": [
    {
     "name": "stdout",
     "output_type": "stream",
     "text": [
      "TextFSM_Sandbox.ipynb\r\n",
      "TextFSM_Sandbox.py\r\n",
      "arista_eos_show_ip_interface_brief.textfsm\r\n",
      "arista_sw01_show_ip_int_br_output.txt\r\n",
      "python_script_template.py\r\n"
     ]
    }
   ],
   "source": [
    "ls"
   ]
  },
  {
   "cell_type": "markdown",
   "id": "02e7732f",
   "metadata": {},
   "source": [
    "### Safely Opening a File is something that you will need to do alot!\n",
    "Lets see what it takes to create a reusable function we could use for this"
   ]
  },
  {
   "cell_type": "code",
   "execution_count": 3,
   "id": "79c02ebe",
   "metadata": {},
   "outputs": [],
   "source": [
    "def open_file(file_path):\n",
    "    \"\"\"\n",
    "    Given a file path, this function verifies that the file path is valid\n",
    "    and points to a file and then attempts to open the file and read\n",
    "    in its contents as a string.\n",
    "    \n",
    "    file_path: File path to file.\n",
    "    \n",
    "    return: file_data_string: Function will retur the contents of the file\n",
    "    in a string if sucessful, otherwise it will return an empty string.\n",
    "    \n",
    "    \"\"\"\n",
    "    print(f\"Attempting to open file {file_path}\")\n",
    "    if os.path.isfile(file_path):\n",
    "        # TODO: Put this in a try/except block to really error proof \n",
    "        with open(file_path) as f:\n",
    "            file_data_string = f.read()\n",
    "    else:\n",
    "        print(f\"\\nERROR! File path provided is invalid. Verify that the file exists at the path provided.\\nFailed to open {file_path}\")\n",
    "        file_data_string = \"\"\n",
    "          \n",
    "    return file_data_string"
   ]
  },
  {
   "cell_type": "code",
   "execution_count": 4,
   "id": "5b0f3988",
   "metadata": {},
   "outputs": [
    {
     "ename": "FileNotFoundError",
     "evalue": "[Errno 2] No such file or directory: 'TestFailure.txt'",
     "output_type": "error",
     "traceback": [
      "\u001b[0;31m---------------------------------------------------------------------------\u001b[0m",
      "\u001b[0;31mFileNotFoundError\u001b[0m                         Traceback (most recent call last)",
      "\u001b[0;32m/var/folders/vt/xfhvc3690wz75cm9cjd6mpxr0000gn/T/ipykernel_17105/3341587729.py\u001b[0m in \u001b[0;36m<module>\u001b[0;34m\u001b[0m\n\u001b[0;32m----> 1\u001b[0;31m \u001b[0;32mwith\u001b[0m \u001b[0mopen\u001b[0m\u001b[0;34m(\u001b[0m\u001b[0;34m\"TestFailure.txt\"\u001b[0m\u001b[0;34m)\u001b[0m \u001b[0;32mas\u001b[0m \u001b[0mf\u001b[0m\u001b[0;34m:\u001b[0m\u001b[0;34m\u001b[0m\u001b[0;34m\u001b[0m\u001b[0m\n\u001b[0m\u001b[1;32m      2\u001b[0m     \u001b[0mfile_data_string\u001b[0m \u001b[0;34m=\u001b[0m \u001b[0mf\u001b[0m\u001b[0;34m.\u001b[0m\u001b[0mread\u001b[0m\u001b[0;34m(\u001b[0m\u001b[0;34m)\u001b[0m\u001b[0;34m\u001b[0m\u001b[0;34m\u001b[0m\u001b[0m\n",
      "\u001b[0;31mFileNotFoundError\u001b[0m: [Errno 2] No such file or directory: 'TestFailure.txt'"
     ]
    }
   ],
   "source": [
    "with open(\"TestFailure.txt\") as f:\n",
    "    file_data_string = f.read()"
   ]
  },
  {
   "cell_type": "code",
   "execution_count": 5,
   "id": "7eb20ec5",
   "metadata": {},
   "outputs": [
    {
     "name": "stdout",
     "output_type": "stream",
     "text": [
      "Attempting to open file TestFailure.txt\n",
      "\n",
      "ERROR! File path provided is invalid. Verify that the file exists at the path provided.\n",
      "Failed to open TestFailure.txt\n"
     ]
    },
    {
     "data": {
      "text/plain": [
       "''"
      ]
     },
     "execution_count": 5,
     "metadata": {},
     "output_type": "execute_result"
    }
   ],
   "source": [
    "open_file(\"TestFailure.txt\")"
   ]
  },
  {
   "cell_type": "code",
   "execution_count": 6,
   "id": "16c6cff1",
   "metadata": {},
   "outputs": [
    {
     "name": "stdout",
     "output_type": "stream",
     "text": [
      "Attempting to open file arista_sw01_show_ip_int_br_output.txt\n"
     ]
    }
   ],
   "source": [
    "my_data = open_file(\"arista_sw01_show_ip_int_br_output.txt\")"
   ]
  },
  {
   "cell_type": "code",
   "execution_count": 7,
   "id": "9a1007b0",
   "metadata": {},
   "outputs": [
    {
     "data": {
      "text/plain": [
       "'sw02#show ip int br\\n                                                                         Address\\nInterface       IP Address            Status     Protocol         MTU    Owner\\n--------------- --------------------- ---------- ------------- --------- -------\\nEthernet1       192.168.56.107/24     up         up              1500\\nEthernet2       192.168.194.10/24     up         up              1500\\nEthernet3       192.168.62.10/24      up         up              1500\\nManagement1     10.1.10.55/24         up         up              1500\\n\\nsw02#\\nsw02#\\n\\n'"
      ]
     },
     "execution_count": 7,
     "metadata": {},
     "output_type": "execute_result"
    }
   ],
   "source": [
    "my_data"
   ]
  },
  {
   "cell_type": "markdown",
   "id": "406eea60",
   "metadata": {},
   "source": [
    "### Parsing show command output with TextFMS is something else that will happen often\n",
    "Lets see what it takes to create another reusable function we could use for this"
   ]
  },
  {
   "cell_type": "code",
   "execution_count": 9,
   "id": "65ee53e1",
   "metadata": {},
   "outputs": [],
   "source": [
    "def textfsm_parser(template_fp, data_to_parse):\n",
    "\n",
    "    \"\"\"\n",
    "    This function uses the provided template file path, template_fp, to parse the provided string of data, \n",
    "    data_to_parse.\n",
    "    \n",
    "    template_fp: The full file path to the template file or a template file in the local directory with this script.\n",
    "    \n",
    "    data_to_parse: String of data to parse. Typically the output of the show command which corresponds to the \n",
    "    TextFMS template being used.\n",
    "    \n",
    "    returns: fsm: The resulting parsed TextFSM object.\n",
    "    \n",
    "    Tip:  \n",
    "    fsm.header provides the column headers for each \"column\" of data (positional element in the list)\n",
    "    fsm._results provides the resulting list (same value as the variable result below)\n",
    "    fsm.values provides the template values to parse out of the data (the regex for each column header)\n",
    "    \n",
    "    \"\"\"\n",
    "    \n",
    "    if os.path.isfile(template_fp):\n",
    "        print(f\"Using TextFSM Template {template_fp}\")\n",
    "        with open(template_fp) as template_fh:\n",
    "            # TextFSM method needs a file handle which is why we are not using our open_file function\n",
    "            fsm = textfsm.TextFSM(template_fh)\n",
    "            result = fsm.ParseText(my_data)\n",
    "    else:\n",
    "        print(f\"ERROR! {template_fp} is not a valid file or not in the given path!\")\n",
    "        fsm = \"\"\n",
    "\n",
    "    print(f\"FSM Object fsm (basically the parsing template to use):\\n{fsm}\\n\")\n",
    "    print(f\"FSM Object fsm.header:\\n{fsm.header}\\n\")\n",
    "    print(f\"FSM Object fsm.values:\\n{fsm.values}\\n\")\n",
    "    print(f\"FSM Object fsm._result:\\n{fsm._result}\\n\")\n",
    "    print(f\"The contents of the result variable (same as fsm._result): \\n{result}\\n\")\n",
    "    print(f\"FSM Object fsm.value_map:\\n{fsm.value_map}\\n\")\n",
    "    print(\"\\ndir of fsm dir(fsm) to look at available methods from the TextFSM Object.\")\n",
    "    print(dir(fsm))\n",
    "    \n",
    "    # Returning the fsm object.  We could return result but that does not have a header.\n",
    "    # The fsm object has the header in fsm.header and the results in fsm._result\n",
    "    return fsm"
   ]
  },
  {
   "cell_type": "markdown",
   "id": "6e946cf5",
   "metadata": {},
   "source": [
    "### Lets parse our Arista show ip int brief output with the *arista_eos_show_ip_interface_brief.textfsm* TextFMS template"
   ]
  },
  {
   "cell_type": "code",
   "execution_count": 10,
   "id": "6b267769",
   "metadata": {},
   "outputs": [
    {
     "name": "stdout",
     "output_type": "stream",
     "text": [
      "Using TextFSM Template arista_eos_show_ip_interface_brief.textfsm\n",
      "FSM Object fsm (basically the parsing template to use):\n",
      "Value INTERFACE (\\S+)\n",
      "Value IP (\\S+)\n",
      "Value STATUS (\\S+)\n",
      "Value PROTOCOL (\\S+)\n",
      "Value MTU (\\d+)\n",
      "\n",
      "Start\n",
      "  ^${INTERFACE}\\s+${IP}\\s+${STATUS}\\s+${PROTOCOL}\\s+${MTU} -> Record\n",
      "\n",
      "\n",
      "FSM Object fsm.header:\n",
      "['INTERFACE', 'IP', 'STATUS', 'PROTOCOL', 'MTU']\n",
      "\n",
      "FSM Object fsm.values:\n",
      "[<textfsm.parser.TextFSMValue object at 0x7fba1806fd90>, <textfsm.parser.TextFSMValue object at 0x7fba7839fd50>, <textfsm.parser.TextFSMValue object at 0x7fba1806fbd0>, <textfsm.parser.TextFSMValue object at 0x7fba1806fe10>, <textfsm.parser.TextFSMValue object at 0x7fba18080290>]\n",
      "\n",
      "FSM Object fsm._result:\n",
      "[['Ethernet1', '192.168.56.107/24', 'up', 'up', '1500'], ['Ethernet2', '192.168.194.10/24', 'up', 'up', '1500'], ['Ethernet3', '192.168.62.10/24', 'up', 'up', '1500'], ['Management1', '10.1.10.55/24', 'up', 'up', '1500']]\n",
      "\n",
      "The contents of the result variable (same as fsm._result): \n",
      "[['Ethernet1', '192.168.56.107/24', 'up', 'up', '1500'], ['Ethernet2', '192.168.194.10/24', 'up', 'up', '1500'], ['Ethernet3', '192.168.62.10/24', 'up', 'up', '1500'], ['Management1', '10.1.10.55/24', 'up', 'up', '1500']]\n",
      "\n",
      "FSM Object fsm.value_map:\n",
      "{'INTERFACE': '(?P<INTERFACE>\\\\S+)', 'IP': '(?P<IP>\\\\S+)', 'STATUS': '(?P<STATUS>\\\\S+)', 'PROTOCOL': '(?P<PROTOCOL>\\\\S+)', 'MTU': '(?P<MTU>\\\\d+)'}\n",
      "\n",
      "\n",
      "dir of fsm dir(fsm) to look at available methods from the TextFSM Object.\n",
      "['GetValuesByAttrib', 'MAX_NAME_LEN', 'ParseText', 'ParseTextToDicts', 'Reset', '_AppendRecord', '_AssignVar', '_CheckLine', '_CheckRule', '_ClearAllRecord', '_ClearRecord', '_DEFAULT_OPTIONS', '_GetHeader', '_GetValue', '_Operations', '_Parse', '_ParseFSMState', '_ParseFSMVariables', '_ValidateFSM', '_ValidateOptions', '__class__', '__delattr__', '__dict__', '__dir__', '__doc__', '__eq__', '__format__', '__ge__', '__getattribute__', '__gt__', '__hash__', '__init__', '__init_subclass__', '__le__', '__lt__', '__module__', '__ne__', '__new__', '__reduce__', '__reduce_ex__', '__repr__', '__setattr__', '__sizeof__', '__str__', '__subclasshook__', '__weakref__', '_cur_state', '_cur_state_name', '_line_num', '_options_cls', '_result', 'comment_regex', 'header', 'state_list', 'state_name_re', 'states', 'value_map', 'values']\n"
     ]
    }
   ],
   "source": [
    "ip_table = textfsm_parser(\"arista_eos_show_ip_interface_brief.textfsm\", my_data)"
   ]
  },
  {
   "cell_type": "code",
   "execution_count": 11,
   "id": "fa0de9ed",
   "metadata": {},
   "outputs": [
    {
     "data": {
      "text/plain": [
       "['GetValuesByAttrib',\n",
       " 'MAX_NAME_LEN',\n",
       " 'ParseText',\n",
       " 'ParseTextToDicts',\n",
       " 'Reset',\n",
       " '_AppendRecord',\n",
       " '_AssignVar',\n",
       " '_CheckLine',\n",
       " '_CheckRule',\n",
       " '_ClearAllRecord',\n",
       " '_ClearRecord',\n",
       " '_DEFAULT_OPTIONS',\n",
       " '_GetHeader',\n",
       " '_GetValue',\n",
       " '_Operations',\n",
       " '_Parse',\n",
       " '_ParseFSMState',\n",
       " '_ParseFSMVariables',\n",
       " '_ValidateFSM',\n",
       " '_ValidateOptions',\n",
       " '__class__',\n",
       " '__delattr__',\n",
       " '__dict__',\n",
       " '__dir__',\n",
       " '__doc__',\n",
       " '__eq__',\n",
       " '__format__',\n",
       " '__ge__',\n",
       " '__getattribute__',\n",
       " '__gt__',\n",
       " '__hash__',\n",
       " '__init__',\n",
       " '__init_subclass__',\n",
       " '__le__',\n",
       " '__lt__',\n",
       " '__module__',\n",
       " '__ne__',\n",
       " '__new__',\n",
       " '__reduce__',\n",
       " '__reduce_ex__',\n",
       " '__repr__',\n",
       " '__setattr__',\n",
       " '__sizeof__',\n",
       " '__str__',\n",
       " '__subclasshook__',\n",
       " '__weakref__',\n",
       " '_cur_state',\n",
       " '_cur_state_name',\n",
       " '_line_num',\n",
       " '_options_cls',\n",
       " '_result',\n",
       " 'comment_regex',\n",
       " 'header',\n",
       " 'state_list',\n",
       " 'state_name_re',\n",
       " 'states',\n",
       " 'value_map',\n",
       " 'values']"
      ]
     },
     "execution_count": 11,
     "metadata": {},
     "output_type": "execute_result"
    }
   ],
   "source": [
    "dir(ip_table)"
   ]
  },
  {
   "cell_type": "code",
   "execution_count": 12,
   "id": "2d35a219",
   "metadata": {},
   "outputs": [
    {
     "name": "stdout",
     "output_type": "stream",
     "text": [
      "Help on TextFSM in module textfsm.parser object:\n",
      "\n",
      "class TextFSM(builtins.object)\n",
      " |  TextFSM(template, options_class=<class 'textfsm.parser.TextFSMOptions'>)\n",
      " |  \n",
      " |  Parses template and creates Finite State Machine (FSM).\n",
      " |  \n",
      " |  Attributes:\n",
      " |    states: (str), Dictionary of FSMState objects.\n",
      " |    values: (str), List of FSMVariables.\n",
      " |    value_map: (map), For substituting values for names in the expressions.\n",
      " |    header: Ordered list of values.\n",
      " |    state_list: Ordered list of valid states.\n",
      " |  \n",
      " |  Methods defined here:\n",
      " |  \n",
      " |  GetValuesByAttrib(self, attribute)\n",
      " |      Returns the list of values that have a particular attribute.\n",
      " |  \n",
      " |  ParseText(self, text, eof=True)\n",
      " |      Passes CLI output through FSM and returns list of tuples.\n",
      " |      \n",
      " |      First tuple is the header, every subsequent tuple is a row.\n",
      " |      \n",
      " |      Args:\n",
      " |        text: (str), Text to parse with embedded newlines.\n",
      " |        eof: (boolean), Set to False if we are parsing only part of the file.\n",
      " |              Suppresses triggering EOF state.\n",
      " |      \n",
      " |      Raises:\n",
      " |        TextFSMError: An error occurred within the FSM.\n",
      " |      \n",
      " |      Returns:\n",
      " |        List of Lists.\n",
      " |  \n",
      " |  ParseTextToDicts(self, *args, **kwargs)\n",
      " |      Calls ParseText and turns the result into list of dicts.\n",
      " |      \n",
      " |      List items are dicts of rows, dict key is column header and value is column\n",
      " |      value.\n",
      " |      \n",
      " |      Args:\n",
      " |        text: (str), Text to parse with embedded newlines.\n",
      " |        eof: (boolean), Set to False if we are parsing only part of the file.\n",
      " |              Suppresses triggering EOF state.\n",
      " |      \n",
      " |      Raises:\n",
      " |        TextFSMError: An error occurred within the FSM.\n",
      " |      \n",
      " |      Returns:\n",
      " |        List of dicts.\n",
      " |  \n",
      " |  Reset(self)\n",
      " |      Preserves FSM but resets starting state and current record.\n",
      " |  \n",
      " |  __init__(self, template, options_class=<class 'textfsm.parser.TextFSMOptions'>)\n",
      " |      Initialises and also parses the template file.\n",
      " |  \n",
      " |  __str__(self)\n",
      " |      Returns the FSM template, mimicing the input file.\n",
      " |  \n",
      " |  ----------------------------------------------------------------------\n",
      " |  Data descriptors defined here:\n",
      " |  \n",
      " |  __dict__\n",
      " |      dictionary for instance variables (if defined)\n",
      " |  \n",
      " |  __weakref__\n",
      " |      list of weak references to the object (if defined)\n",
      " |  \n",
      " |  header\n",
      " |      Returns header.\n",
      " |  \n",
      " |  ----------------------------------------------------------------------\n",
      " |  Data and other attributes defined here:\n",
      " |  \n",
      " |  MAX_NAME_LEN = 48\n",
      " |  \n",
      " |  comment_regex = re.compile('^\\\\s*#')\n",
      " |  \n",
      " |  state_name_re = re.compile('^(\\\\w+)$')\n",
      "\n"
     ]
    }
   ],
   "source": [
    "help(ip_table)"
   ]
  },
  {
   "cell_type": "code",
   "execution_count": 13,
   "id": "a56821fb",
   "metadata": {},
   "outputs": [
    {
     "data": {
      "text/plain": [
       "['INTERFACE', 'IP', 'STATUS', 'PROTOCOL', 'MTU']"
      ]
     },
     "execution_count": 13,
     "metadata": {},
     "output_type": "execute_result"
    }
   ],
   "source": [
    "ip_table.header"
   ]
  },
  {
   "cell_type": "code",
   "execution_count": 14,
   "id": "7269fbc1",
   "metadata": {},
   "outputs": [
    {
     "data": {
      "text/plain": [
       "[['Ethernet1', '192.168.56.107/24', 'up', 'up', '1500'],\n",
       " ['Ethernet2', '192.168.194.10/24', 'up', 'up', '1500'],\n",
       " ['Ethernet3', '192.168.62.10/24', 'up', 'up', '1500'],\n",
       " ['Management1', '10.1.10.55/24', 'up', 'up', '1500']]"
      ]
     },
     "execution_count": 14,
     "metadata": {},
     "output_type": "execute_result"
    }
   ],
   "source": [
    "ip_table._result"
   ]
  },
  {
   "cell_type": "code",
   "execution_count": null,
   "id": "01fb7054",
   "metadata": {},
   "outputs": [],
   "source": [
    "ip_table.values"
   ]
  },
  {
   "cell_type": "code",
   "execution_count": null,
   "id": "b7ae3f0a",
   "metadata": {},
   "outputs": [],
   "source": [
    "table_value_list = ip_table.values"
   ]
  },
  {
   "cell_type": "code",
   "execution_count": null,
   "id": "7b9e9123",
   "metadata": {},
   "outputs": [],
   "source": [
    "len(table_value_list)"
   ]
  },
  {
   "cell_type": "code",
   "execution_count": null,
   "id": "a122c557",
   "metadata": {},
   "outputs": [],
   "source": [
    "for line in table_value_list:\n",
    "    print(line)"
   ]
  },
  {
   "cell_type": "markdown",
   "id": "58dc715b",
   "metadata": {},
   "source": [
    "---\n",
    "### Lets look at the ParseTextToDicts Method"
   ]
  },
  {
   "cell_type": "code",
   "execution_count": 15,
   "id": "08fbc6ff",
   "metadata": {},
   "outputs": [],
   "source": [
    "with open(\"arista_eos_show_ip_interface_brief.textfsm\") as template_fh:\n",
    "    # TextFSM method needs a file handle which is why we are not using our open_file function\n",
    "    fsm = textfsm.TextFSM(template_fh)\n",
    "    result_dict = fsm.ParseTextToDicts(my_data)"
   ]
  },
  {
   "cell_type": "code",
   "execution_count": 16,
   "id": "df93baa5",
   "metadata": {},
   "outputs": [
    {
     "data": {
      "text/plain": [
       "[{'INTERFACE': 'Ethernet1',\n",
       "  'IP': '192.168.56.107/24',\n",
       "  'STATUS': 'up',\n",
       "  'PROTOCOL': 'up',\n",
       "  'MTU': '1500'},\n",
       " {'INTERFACE': 'Ethernet2',\n",
       "  'IP': '192.168.194.10/24',\n",
       "  'STATUS': 'up',\n",
       "  'PROTOCOL': 'up',\n",
       "  'MTU': '1500'},\n",
       " {'INTERFACE': 'Ethernet3',\n",
       "  'IP': '192.168.62.10/24',\n",
       "  'STATUS': 'up',\n",
       "  'PROTOCOL': 'up',\n",
       "  'MTU': '1500'},\n",
       " {'INTERFACE': 'Management1',\n",
       "  'IP': '10.1.10.55/24',\n",
       "  'STATUS': 'up',\n",
       "  'PROTOCOL': 'up',\n",
       "  'MTU': '1500'}]"
      ]
     },
     "execution_count": 16,
     "metadata": {},
     "output_type": "execute_result"
    }
   ],
   "source": [
    "result_dict"
   ]
  },
  {
   "cell_type": "code",
   "execution_count": 17,
   "id": "2c92f33c",
   "metadata": {},
   "outputs": [
    {
     "data": {
      "text/plain": [
       "dict_keys(['INTERFACE', 'IP', 'STATUS', 'PROTOCOL', 'MTU'])"
      ]
     },
     "execution_count": 17,
     "metadata": {},
     "output_type": "execute_result"
    }
   ],
   "source": [
    "result_dict[0].keys()"
   ]
  },
  {
   "cell_type": "code",
   "execution_count": null,
   "id": "3aaa1aa3",
   "metadata": {},
   "outputs": [],
   "source": []
  },
  {
   "cell_type": "code",
   "execution_count": null,
   "id": "4c08a8b4",
   "metadata": {},
   "outputs": [],
   "source": []
  }
 ],
 "metadata": {
  "kernelspec": {
   "display_name": "Python 3 (ipykernel)",
   "language": "python",
   "name": "python3"
  },
  "language_info": {
   "codemirror_mode": {
    "name": "ipython",
    "version": 3
   },
   "file_extension": ".py",
   "mimetype": "text/x-python",
   "name": "python",
   "nbconvert_exporter": "python",
   "pygments_lexer": "ipython3",
   "version": "3.7.4"
  }
 },
 "nbformat": 4,
 "nbformat_minor": 5
}
