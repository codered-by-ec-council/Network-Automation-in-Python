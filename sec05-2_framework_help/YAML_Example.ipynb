{
 "cells": [
  {
   "cell_type": "code",
   "execution_count": 32,
   "id": "3c9f67d5",
   "metadata": {},
   "outputs": [],
   "source": [
    "# pip install pyyaml\n",
    "import yaml"
   ]
  },
  {
   "cell_type": "code",
   "execution_count": 33,
   "id": "a6a53a71",
   "metadata": {},
   "outputs": [],
   "source": [
    "file = \"The Official YAML Web Site.txt\""
   ]
  },
  {
   "cell_type": "code",
   "execution_count": 34,
   "id": "af775232",
   "metadata": {},
   "outputs": [],
   "source": [
    "with open(file) as f:\n",
    "    yaml_data = yaml.full_load(f)"
   ]
  },
  {
   "cell_type": "code",
   "execution_count": 21,
   "id": "cddaa513",
   "metadata": {},
   "outputs": [
    {
     "data": {
      "text/plain": [
       "{'YAML': \"YAML Ain't Markup Languageª\",\n",
       " 'What It Is': 'YAML is a human friendly data serialization language for all programming languages.',\n",
       " 'YAML Resources': {'YAML Specifications': [{'YAML 1.2': ['Revision 1.2.2',\n",
       "     'Revision 1.2.1',\n",
       "     'Revision 1.2.0']},\n",
       "   'YAML 1.1',\n",
       "   'YAML 1.0'],\n",
       "  'YAML Matrix Chat': '#chat:yaml.io',\n",
       "  'YAML IRC Channel': 'libera.chat#yaml',\n",
       "  'YAML News': 'twitter.com/yamlnews',\n",
       "  'YAML Mailing List': 'yaml-core',\n",
       "  'YAML on GitHub': {'YAML Specs': 'yaml-spec/',\n",
       "   'YAML 1.2 Grammar': 'yaml-grammar/',\n",
       "   'YAML Test Suite': 'yaml-test-suite/',\n",
       "   'YAML Issues': 'issues/'},\n",
       "  'YAML Reference Parsers': ['Generated Reference Parsers',\n",
       "   'YPaste Interactive Parser'],\n",
       "  'YAML Test Matrix': 'matrix.yaml.io'},\n",
       " 'YAML Frameworks and Tools': {'C/C++': ['libfyaml',\n",
       "   'libyaml',\n",
       "   'libcyaml',\n",
       "   'yaml-cpp'],\n",
       "  'Crystal': ['YAML'],\n",
       "  'C#/.NET': ['YamlDotNet', 'yaml-net'],\n",
       "  'D': ['D-YAML'],\n",
       "  'Dart': ['yaml'],\n",
       "  'Delphi': ['Neslib.Yaml'],\n",
       "  'Golang': ['Go-yaml', 'Go-gypsy', 'goccy/go-yaml'],\n",
       "  'Haskell': ['HsYAML', 'YamlReference', 'yaml'],\n",
       "  'Java': ['SnakeYAML', 'YamlBeans', 'eo-yaml', 'Chronicle-Wire'],\n",
       "  'JavaScript': ['yaml', 'js-yaml'],\n",
       "  'Nim': ['NimYAML'],\n",
       "  'OCaml': ['ocaml-yaml', 'ocaml-syck'],\n",
       "  'Perl Modules': ['YAML', 'YAML::XS', 'YAML::Syck', 'YAML::Tiny', 'YAML::PP'],\n",
       "  'PHP': ['The Yaml Component', 'php-yaml', 'syck', 'spyc'],\n",
       "  'Python': ['PyYAML', 'ruamel.yaml', 'PySyck', 'strictyaml'],\n",
       "  'R': ['R YAML'],\n",
       "  'Raku': ['YAMLish', 'YAML::Parser::LibYAML'],\n",
       "  'Ruby': ['psych', 'RbYaml', 'yaml4r'],\n",
       "  'Rust': ['yaml-rust', 'serde-yaml'],\n",
       "  'Shell': ['parse_yaml', 'shyaml'],\n",
       "  'Swift': ['Yams'],\n",
       "  'Others': ['yamlvim']},\n",
       " 'Related Projects': ['Rx',\n",
       "  'Kwalify',\n",
       "  'pyKwalify',\n",
       "  'yatools.net',\n",
       "  'JSON',\n",
       "  'Pygments',\n",
       "  'yamllint',\n",
       "  'YAML Diff',\n",
       "  'JSON Schema']}"
      ]
     },
     "execution_count": 21,
     "metadata": {},
     "output_type": "execute_result"
    }
   ],
   "source": [
    "yaml_data"
   ]
  },
  {
   "cell_type": "code",
   "execution_count": 35,
   "id": "79a39a6a",
   "metadata": {},
   "outputs": [
    {
     "data": {
      "text/plain": [
       "dict"
      ]
     },
     "execution_count": 35,
     "metadata": {},
     "output_type": "execute_result"
    }
   ],
   "source": [
    "type(yaml_data)"
   ]
  },
  {
   "cell_type": "code",
   "execution_count": 36,
   "id": "b5ea01b8",
   "metadata": {},
   "outputs": [
    {
     "data": {
      "text/plain": [
       "dict_keys(['YAML', 'What It Is', 'YAML Resources', 'YAML Frameworks and Tools', 'Related Projects'])"
      ]
     },
     "execution_count": 36,
     "metadata": {},
     "output_type": "execute_result"
    }
   ],
   "source": [
    "yaml_data.keys()"
   ]
  },
  {
   "cell_type": "code",
   "execution_count": 37,
   "id": "d6539828",
   "metadata": {},
   "outputs": [
    {
     "data": {
      "text/plain": [
       "'YAML is a human friendly data serialization language for all programming languages.'"
      ]
     },
     "execution_count": 37,
     "metadata": {},
     "output_type": "execute_result"
    }
   ],
   "source": [
    "yaml_data['What It Is']"
   ]
  },
  {
   "cell_type": "code",
   "execution_count": 26,
   "id": "b6eac377",
   "metadata": {},
   "outputs": [],
   "source": [
    "hosts_file = \"hosts.yml\""
   ]
  },
  {
   "cell_type": "code",
   "execution_count": 38,
   "id": "243bd727",
   "metadata": {},
   "outputs": [],
   "source": [
    "with open(hosts_file) as f:\n",
    "    hfile = yaml.full_load(f)"
   ]
  },
  {
   "cell_type": "code",
   "execution_count": 39,
   "id": "530c2abb",
   "metadata": {},
   "outputs": [
    {
     "data": {
      "text/plain": [
       "{'all': {'hosts': {'mail.example.com': None},\n",
       "  'children': {'webservers': {'hosts': {'foo.example.com': None,\n",
       "     'bar.example.com': None}},\n",
       "   'dbservers': {'hosts': {'one.example.com': None,\n",
       "     'two.example.com': None,\n",
       "     'three.example.com': None}},\n",
       "   'east': {'hosts': {'foo.example.com': None,\n",
       "     'one.example.com': None,\n",
       "     'two.example.com': None}},\n",
       "   'west': {'hosts': {'bar.example.com': None, 'three.example.com': None}},\n",
       "   'prod': {'children': {'east': None}},\n",
       "   'test': {'children': {'west': None}}}}}"
      ]
     },
     "execution_count": 39,
     "metadata": {},
     "output_type": "execute_result"
    }
   ],
   "source": [
    "hfile"
   ]
  },
  {
   "cell_type": "code",
   "execution_count": 29,
   "id": "4fff16c8",
   "metadata": {},
   "outputs": [
    {
     "name": "stdout",
     "output_type": "stream",
     "text": [
      "---\r\n",
      "all:\r\n",
      "  hosts:\r\n",
      "    mail.example.com:\r\n",
      "  children:\r\n",
      "    webservers:\r\n",
      "      hosts:\r\n",
      "        foo.example.com:\r\n",
      "        bar.example.com:\r\n",
      "    dbservers:\r\n",
      "      hosts:\r\n",
      "        one.example.com:\r\n",
      "        two.example.com:\r\n",
      "        three.example.com:\r\n",
      "    east:\r\n",
      "      hosts:\r\n",
      "        foo.example.com:\r\n",
      "        one.example.com:\r\n",
      "        two.example.com:\r\n",
      "    west:\r\n",
      "      hosts:\r\n",
      "        bar.example.com:\r\n",
      "        three.example.com:\r\n",
      "    prod:\r\n",
      "      children:\r\n",
      "        east:\r\n",
      "    test:\r\n",
      "      children:\r\n",
      "        west:\r\n"
     ]
    }
   ],
   "source": [
    "cat hosts.yml"
   ]
  },
  {
   "cell_type": "code",
   "execution_count": null,
   "id": "aa22293c",
   "metadata": {},
   "outputs": [],
   "source": []
  },
  {
   "cell_type": "code",
   "execution_count": null,
   "id": "c6d72530",
   "metadata": {},
   "outputs": [],
   "source": []
  }
 ],
 "metadata": {
  "kernelspec": {
   "display_name": "Python 3 (ipykernel)",
   "language": "python",
   "name": "python3"
  },
  "language_info": {
   "codemirror_mode": {
    "name": "ipython",
    "version": 3
   },
   "file_extension": ".py",
   "mimetype": "text/x-python",
   "name": "python",
   "nbconvert_exporter": "python",
   "pygments_lexer": "ipython3",
   "version": "3.7.4"
  }
 },
 "nbformat": 4,
 "nbformat_minor": 5
}
