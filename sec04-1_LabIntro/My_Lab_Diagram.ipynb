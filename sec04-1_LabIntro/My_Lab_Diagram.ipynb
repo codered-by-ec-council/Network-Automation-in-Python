{
 "cells": [
  {
   "cell_type": "markdown",
   "metadata": {},
   "source": []
  },
  {
   "cell_type": "markdown",
   "metadata": {},
   "source": [
    "diagrams.generic.network.Firewall\n",
    "diagrams.generic.network.Router\n",
    "diagrams.generic.network.Subnet\n",
    "diagrams.generic.network.Switch\n",
    "diagrams.generic.network.VPN\n",
    "\n",
    "diagrams.generic.virtualization.Virtualbox\n",
    "\n",
    "diagrams.generic.os.Windows"
   ]
  },
  {
   "cell_type": "code",
   "execution_count": 1,
   "metadata": {},
   "outputs": [],
   "source": [
    "from diagrams import Cluster, Diagram\n",
    "from diagrams.generic.network import Firewall\n",
    "from diagrams.generic.network import Router\n",
    "from diagrams.generic.network import Subnet\n",
    "from diagrams.generic.network import Switch\n",
    "from diagrams.generic.virtualization import Virtualbox\n",
    "from diagrams.generic.os import Windows"
   ]
  },
  {
   "cell_type": "code",
   "execution_count": 11,
   "metadata": {},
   "outputs": [],
   "source": [
    "graph_attr = {\n",
    "    \"fontsize\": \"28\",\n",
    "    \"bgcolor\": \"grey\"\n",
    "}\n",
    "\n",
    "with Diagram(\"My Network Automation with Python Lab\", filename=\"MyLab\", outformat=\"jpg\", graph_attr=graph_attr, show=True):\n",
    "    my_computer = Windows(\"My Computer\")\n",
    "    my_home_subnet = Subnet(\"My Home Subnet\")\n",
    "    \n",
    "    \n",
    "    with Cluster(\"Virtualbox\"):\n",
    "        lab_devs = [Switch(\"sw01\"),\n",
    "                     Switch(\"sw02\"),\n",
    "                     Switch(\"sw03 optional\")]\n",
    "\n",
    "    my_computer >> my_home_subnet >> lab_devs"
   ]
  },
  {
   "cell_type": "code",
   "execution_count": 6,
   "metadata": {},
   "outputs": [
    {
     "name": "stdout",
     "output_type": "stream",
     "text": [
      "MyLab.jpg       Untitled.ipynb  my_lab.png\r\n"
     ]
    }
   ],
   "source": [
    "ls"
   ]
  },
  {
   "cell_type": "code",
   "execution_count": 7,
   "metadata": {},
   "outputs": [],
   "source": [
    "rm my_lab.png"
   ]
  },
  {
   "cell_type": "code",
   "execution_count": 8,
   "metadata": {},
   "outputs": [
    {
     "name": "stdout",
     "output_type": "stream",
     "text": [
      "MyLab.jpg       Untitled.ipynb\r\n"
     ]
    }
   ],
   "source": [
    "ls"
   ]
  },
  {
   "cell_type": "code",
   "execution_count": null,
   "metadata": {},
   "outputs": [],
   "source": []
  }
 ],
 "metadata": {
  "kernelspec": {
   "display_name": "Python 3",
   "language": "python",
   "name": "python3"
  },
  "language_info": {
   "codemirror_mode": {
    "name": "ipython",
    "version": 3
   },
   "file_extension": ".py",
   "mimetype": "text/x-python",
   "name": "python",
   "nbconvert_exporter": "python",
   "pygments_lexer": "ipython3",
   "version": "3.7.4"
  }
 },
 "nbformat": 4,
 "nbformat_minor": 4
}
