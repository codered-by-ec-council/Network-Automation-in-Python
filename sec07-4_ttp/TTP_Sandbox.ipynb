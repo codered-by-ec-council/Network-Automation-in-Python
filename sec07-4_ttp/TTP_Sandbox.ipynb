{
 "cells": [
  {
   "cell_type": "markdown",
   "id": "370b6032",
   "metadata": {},
   "source": [
    "# Parsing Show Command Output with TTP Python Module"
   ]
  },
  {
   "cell_type": "markdown",
   "id": "5460580e",
   "metadata": {},
   "source": [
    "#### Given a text file with show command output, parse the output using a TTP template.  This will get all the show command data into a Python structure that can be used to make decisions.\n",
    "\n",
    "Remember to install ttp into your virtual environment!\n",
    "\n",
    "`pip install ttp`"
   ]
  },
  {
   "cell_type": "code",
   "execution_count": 1,
   "id": "4c1b9ba8",
   "metadata": {},
   "outputs": [],
   "source": [
    "import ttp\n",
    "import os"
   ]
  },
  {
   "cell_type": "code",
   "execution_count": 2,
   "id": "fa1e329b",
   "metadata": {},
   "outputs": [
    {
     "name": "stdout",
     "output_type": "stream",
     "text": [
      "TTP_Sandbox.ipynb\r\n",
      "arista_eos_show_ip_interface_brief_template.ttp\r\n",
      "arista_sw01_show_ip_int_br_output.txt\r\n"
     ]
    }
   ],
   "source": [
    "ls"
   ]
  },
  {
   "cell_type": "markdown",
   "id": "02e7732f",
   "metadata": {},
   "source": [
    "### Reuse your open_file function to safely open a file"
   ]
  },
  {
   "cell_type": "code",
   "execution_count": 3,
   "id": "79c02ebe",
   "metadata": {},
   "outputs": [],
   "source": [
    "def open_file(file_path):\n",
    "    \"\"\"\n",
    "    Given a file path, this function verifies that the file path is valid\n",
    "    and points to a file and then attempts to open the file and read\n",
    "    in its contents as a string.\n",
    "    \n",
    "    file_path: File path to file.\n",
    "    \n",
    "    return: file_data_string: Function will retur the contents of the file\n",
    "    in a string if sucessful, otherwise it will return an empty string.\n",
    "    \n",
    "    \"\"\"\n",
    "    print(f\"Attempting to open file {file_path}\")\n",
    "    if os.path.isfile(file_path):\n",
    "        # TODO: Put this in a try/except block to really error proof \n",
    "        with open(file_path) as f:\n",
    "            file_data_string = f.read()\n",
    "    else:\n",
    "        print(f\"\\nERROR! File path provided is invalid. Verify that the file exists at the path provided.\\nFailed to open {file_path}\")\n",
    "        file_data_string = \"\"\n",
    "          \n",
    "    return file_data_string"
   ]
  },
  {
   "cell_type": "markdown",
   "id": "8d84cff5",
   "metadata": {},
   "source": [
    "### Load your data into a string from your text file"
   ]
  },
  {
   "cell_type": "code",
   "execution_count": 4,
   "id": "16c6cff1",
   "metadata": {},
   "outputs": [
    {
     "name": "stdout",
     "output_type": "stream",
     "text": [
      "Attempting to open file arista_sw01_show_ip_int_br_output.txt\n"
     ]
    }
   ],
   "source": [
    "my_data = open_file(\"arista_sw01_show_ip_int_br_output.txt\")"
   ]
  },
  {
   "cell_type": "code",
   "execution_count": 5,
   "id": "9a1007b0",
   "metadata": {},
   "outputs": [
    {
     "data": {
      "text/plain": [
       "'sw02#show ip int br\\n                                                                         Address\\nInterface       IP Address            Status     Protocol         MTU    Owner\\n--------------- --------------------- ---------- ------------- --------- -------\\nEthernet1       192.168.56.107/24     up         up              1500\\nEthernet2       192.168.194.10/24     up         up              1500\\nEthernet3       192.168.62.10/24      up         up              1500\\nManagement1     10.1.10.55/24         up         up              1500\\n\\nsw02#\\nsw02#\\n\\n'"
      ]
     },
     "execution_count": 5,
     "metadata": {},
     "output_type": "execute_result"
    }
   ],
   "source": [
    "my_data"
   ]
  },
  {
   "cell_type": "markdown",
   "id": "406eea60",
   "metadata": {},
   "source": [
    "### Parsing show command output with a TTP Template we create"
   ]
  },
  {
   "cell_type": "markdown",
   "id": "9eeed5b5",
   "metadata": {},
   "source": [
    "#### Create the Arista show ip interface brief template and save to a file or to a variable."
   ]
  },
  {
   "cell_type": "code",
   "execution_count": 6,
   "id": "d48ff465",
   "metadata": {},
   "outputs": [],
   "source": [
    "ttp_template_string = \"\"\"\n",
    "{{ interface }} {{ ip_address }} {{ status }} {{ protocol }} {{mtu}}\n",
    "\"\"\""
   ]
  },
  {
   "cell_type": "markdown",
   "id": "9e975b3c",
   "metadata": {},
   "source": [
    "####  Instantiate the TTP parser object"
   ]
  },
  {
   "cell_type": "code",
   "execution_count": 8,
   "id": "e6572c1d",
   "metadata": {},
   "outputs": [],
   "source": [
    "ttp_parser_obj = ttp.ttp(data=my_data, template=ttp_template_string)"
   ]
  },
  {
   "cell_type": "code",
   "execution_count": 10,
   "id": "9a4f0079",
   "metadata": {},
   "outputs": [
    {
     "data": {
      "text/plain": [
       "[[]]"
      ]
     },
     "execution_count": 10,
     "metadata": {},
     "output_type": "execute_result"
    }
   ],
   "source": [
    "# This should be an empty list of lists because \n",
    "# we've not actually parsed the data yet with obj.parse()\n",
    "ttp_parser_obj.result()"
   ]
  },
  {
   "cell_type": "markdown",
   "id": "4cfc6946",
   "metadata": {},
   "source": [
    "#### Parse the data"
   ]
  },
  {
   "cell_type": "code",
   "execution_count": 11,
   "id": "fc45400d",
   "metadata": {},
   "outputs": [],
   "source": [
    "ttp_parser_obj.parse()"
   ]
  },
  {
   "cell_type": "markdown",
   "id": "d4e831eb",
   "metadata": {},
   "source": [
    "#### Now view the results"
   ]
  },
  {
   "cell_type": "code",
   "execution_count": 12,
   "id": "e5ed6699",
   "metadata": {},
   "outputs": [
    {
     "data": {
      "text/plain": [
       "[[[{'interface': 'Ethernet1',\n",
       "    'ip_address': '192.168.56.107/24',\n",
       "    'status': 'up',\n",
       "    'protocol': 'up',\n",
       "    'mtu': '1500'},\n",
       "   {'interface': 'Ethernet2',\n",
       "    'ip_address': '192.168.194.10/24',\n",
       "    'status': 'up',\n",
       "    'protocol': 'up',\n",
       "    'mtu': '1500'},\n",
       "   {'interface': 'Ethernet3',\n",
       "    'ip_address': '192.168.62.10/24',\n",
       "    'status': 'up',\n",
       "    'protocol': 'up',\n",
       "    'mtu': '1500'},\n",
       "   {'interface': 'Management1',\n",
       "    'ip_address': '10.1.10.55/24',\n",
       "    'status': 'up',\n",
       "    'protocol': 'up',\n",
       "    'mtu': '1500'}]]]"
      ]
     },
     "execution_count": 12,
     "metadata": {},
     "output_type": "execute_result"
    }
   ],
   "source": [
    "ttp_parser_obj.result()"
   ]
  },
  {
   "cell_type": "code",
   "execution_count": 13,
   "id": "77c4f4ef",
   "metadata": {},
   "outputs": [
    {
     "name": "stdout",
     "output_type": "stream",
     "text": [
      "Help on ttp in module ttp.ttp object:\n",
      "\n",
      "class ttp(builtins.object)\n",
      " |  ttp(data='', template='', log_level='WARNING', log_file=None, base_path='', vars={})\n",
      " |  \n",
      " |  Template Text Parser main class to load data, templates, lookups, variables\n",
      " |  and dispatch data to parser object to parse in single or multiple processes,\n",
      " |  construct final results and run outputs.\n",
      " |  \n",
      " |  **Parameters**\n",
      " |  \n",
      " |  * ``data`` file object or OS path to text file or directory with text files with data to parse\n",
      " |  * ``template`` file object or OS path to text file with template or template text string\n",
      " |  * ``base_path`` (str) base OS path prefix to load data from for template's inputs\n",
      " |  * ``log_level`` (str) level of logging \"DEBUG\", \"INFO\", \"WARNING\", \"ERROR\", \"CRITICAL\"\n",
      " |  * ``log_file`` (str) path where to save log file\n",
      " |  * ``vars`` dictionary of variables to make available to ttp parser\n",
      " |  \n",
      " |  Example::\n",
      " |  \n",
      " |      from ttp import ttp\n",
      " |      parser = ttp(data=\"/os/path/to/data/dir/\", template=\"/os/path/to/template.txt\")\n",
      " |      parser.parse()\n",
      " |      result = parser.result(format=\"json\")\n",
      " |      print(result[0])\n",
      " |  \n",
      " |  Methods defined here:\n",
      " |  \n",
      " |  __init__(self, data='', template='', log_level='WARNING', log_file=None, base_path='', vars={})\n",
      " |      Initialize self.  See help(type(self)) for accurate signature.\n",
      " |  \n",
      " |  add_function(self, fun, scope, name=None, add_ttp=False)\n",
      " |      Method to add custom function in ``_ttp_`` dictionary.\n",
      " |      Function can be referenced in template depending on scope.\n",
      " |      \n",
      " |      **Parameters**\n",
      " |      \n",
      " |      * ``fun`` - function reference\n",
      " |      * ``scope`` - scope to add function to\n",
      " |      * ``name`` - optional, name to use within templates, by default equal to function ``__name__``\n",
      " |      * ``add_ttp`` - boolean, on True will add ``_ttp_`` dictionary in function's global scope\n",
      " |      \n",
      " |      **scope options**\n",
      " |      \n",
      " |      * ``match`` - used for match variables\n",
      " |      * ``group`` - used for groups\n",
      " |      * ``input`` - used for inputs\n",
      " |      * ``output`` - used for outputs\n",
      " |      * ``returners`` - used for output returners\n",
      " |      * ``formatters`` - used for output returners\n",
      " |      * ``variable`` - used as template variable getter\n",
      " |      * ``macro`` - used as macro function\n",
      " |      \n",
      " |      .. warning:: add_function should be called before template loaded in parser\n",
      " |      \n",
      " |      Custom functions should use first argument to hold data to process, additional\n",
      " |      args and kwargs will be supplied to function if provided in template.\n",
      " |      \n",
      " |      TTP passes output tag attributes to ``returner`` and ``formatter`` functions,\n",
      " |      attributes need to be unpacked using, for instance, ``**kwargs``.\n",
      " |      \n",
      " |      For ``template variable`` getters functions first argument supplied is an\n",
      " |      input text data, second argument is datum name, equal to filename if loaded\n",
      " |      from file\n",
      " |      \n",
      " |      Function return content differ depending on scope:\n",
      " |      \n",
      " |      * ``match`` - must return tuple of two items\n",
      " |      * ``group`` - must return tuple of two items\n",
      " |      * ``input`` - must return tuple of two items\n",
      " |      * ``output`` - must return single element containing processing results\n",
      " |      * ``returners`` - not returns expected\n",
      " |      * ``formatters`` - must return single element containing processing results\n",
      " |      * ``variable`` - must return single element to assign to variable\n",
      " |      * ``macro`` - can return processing results, True or False\n",
      " |      \n",
      " |      For ``match``, ``group`` and ``input`` functions TTP expects in return tuple\n",
      " |      of two elements where first element should contain processing results, second\n",
      " |      element can be True, False, None or dictionary. Second item can influence\n",
      " |      processing logic following these rules:\n",
      " |      \n",
      " |      * if second item is False - results invalidated and discarded\n",
      " |      * if second item is True or None - first item replaces originally supplied data, processing continues\n",
      " |      * if second item is dictionary - supported by ``match`` scope only, dictionary merged with results\n",
      " |      \n",
      " |      Example::\n",
      " |      \n",
      " |          def group_cust_fun(data, *args, **kwargs):\n",
      " |              if kwargs.get(\"upper\") == True:\n",
      " |                  data[\"description\"] = data[\"description\"].upper()\n",
      " |              return data, None\n",
      " |      \n",
      " |          template = '''\n",
      " |          <input load=\"text\">\n",
      " |          interface Lo1\n",
      " |           description this interface has description\n",
      " |           ip address 1.1.1.1 32\n",
      " |          </input>\n",
      " |      \n",
      " |          <group myFun=\"upper=True\">\n",
      " |          interface {{ interface }}\n",
      " |           description {{ description | ORPHRASE }}\n",
      " |           ip address {{ ip }} {{ mask }}\n",
      " |          </group>\n",
      " |          '''\n",
      " |      \n",
      " |          parser = ttp()\n",
      " |          parser.add_function(group_cust_fun, scope=\"group\", name=\"myFun\")\n",
      " |          parser.add_template(template)\n",
      " |          parser.parse()\n",
      " |  \n",
      " |  add_input(self, data, input_name='Default_Input', template_name='_root_template_', groups=['all'])\n",
      " |      Method to load data to be parsed. Data associated with certain\n",
      " |      input of ``input_name`` and template of ``template_name``.\n",
      " |      \n",
      " |      .. warning:: ``add_input`` should be called only after templates added\n",
      " |      \n",
      " |      **Parameters**\n",
      " |      \n",
      " |      * ``data`` text data or OS path to text file or directory with text files with data to parse.\n",
      " |        Also can be structured data - list or dictionary - will be passed to input as is, so that\n",
      " |        it can be pre-processed using input macro function(s)\n",
      " |      * ``input_name`` (str) name of the input to put data in, default is *Default_Input*\n",
      " |      * ``groups`` (list) list of group names to use to parse this input data\n",
      " |      * ``template_name`` (str) name of the template to add input for\n",
      " |  \n",
      " |  add_lookup(self, name, text_data='', include=None, load='python', key=None)\n",
      " |      Method to add lookup table data to all templates loaded so far. Lookup is a\n",
      " |      text representation of structure that can be loaded into python dictionary using one\n",
      " |      of the available loaders - python, csv, ini, yaml, json.\n",
      " |      \n",
      " |      **Parameters**\n",
      " |      \n",
      " |      * ``name`` (str) name to assign this lookup table for referencing\n",
      " |      * ``text_data`` (str) text to load lookup table/dictionary from\n",
      " |      * ``include`` (str) absolute or relative /os/path/to/lookup/table/file.txt\n",
      " |      * ``load`` (str) name of TTP loader to use to load table data\n",
      " |      * ``key`` (str) specify key column for csv loader to construct dictionary\n",
      " |      \n",
      " |      ``include`` can accept relative OS path - relative to the directory where TTP will be\n",
      " |      invoked either using CLI tool or as a module\n",
      " |  \n",
      " |  add_template(self, template, template_name='_root_template_', filters=[])\n",
      " |      Method to load TTP templates into the parser.\n",
      " |      \n",
      " |      **Parameters**\n",
      " |      \n",
      " |      * ``template`` file object or OS path to text file with template\n",
      " |      * ``template_name`` (str) name of the template\n",
      " |      * ``filters`` (list) list of templates' names to load,\n",
      " |      \n",
      " |      ``filters`` attribute allow to filter the list of template names that\n",
      " |      should be loaded. Checks done against child templates as well. For\n",
      " |      templates specified in filter list, groups/macro/inputs/etc. will not\n",
      " |      be loaded and no results produced.\n",
      " |  \n",
      " |  add_vars(self, vars)\n",
      " |      Method to add variables to ttp and its templates to reference during parsing\n",
      " |      \n",
      " |      **Parameters**\n",
      " |      \n",
      " |      * ``vars`` dictionary of variables to make available to ttp parser\n",
      " |  \n",
      " |  clear_input(self, template_name='_all_')\n",
      " |      Method to delete all input data for all or some templates, can be used prior to adding new\n",
      " |      set of data to parse with same templates, instead of re-initializing ttp object.\n",
      " |      \n",
      " |      **Parameters**\n",
      " |      \n",
      " |      * ``template_name`` (str) name of the template to clear input for, clears for all templates\n",
      " |        by default\n",
      " |  \n",
      " |  clear_result(self, templates=[])\n",
      " |      Method to clear parsing results for templates.\n",
      " |      \n",
      " |      **Parameters**\n",
      " |      \n",
      " |      * ``templates`` (list or str) - name of template(s) to clear results for,\n",
      " |        if not provided will clear results for all templates.\n",
      " |  \n",
      " |  get_input_load(self)\n",
      " |      Method to retrieve input tag text load. Using input ``load`` attribute,\n",
      " |      text data can be loaded into python structure using one of the supported\n",
      " |      loaders, for instance if text data structured using YAML, YAML\n",
      " |      loader can be used to produce python native structure, that structure will\n",
      " |      be returned by this method.\n",
      " |      \n",
      " |      Primary use case is to specify parameters within TTP input that can be\n",
      " |      used by other applications/scrips.\n",
      " |      \n",
      " |      **Returns**\n",
      " |      \n",
      " |      Dictionary of {\"template_name\": {\"input_name\": \"input load data\"}} across all templates,\n",
      " |      where input_name set to input name attribute value, by default it is \"Default_Input\",\n",
      " |      and template_name set to name of the template, by default it is \"_root_template_\"\n",
      " |      \n",
      " |      .. warning:: inputs load can override one another if combination of template_name\n",
      " |        and input_name is not unique.\n",
      " |  \n",
      " |  parse(self, one=False, multi=False)\n",
      " |      Method to parse data with templates.\n",
      " |      \n",
      " |      **Parameters**\n",
      " |      \n",
      " |      * ``one`` (boolean) if set to True will run parsing in single process\n",
      " |      * ``multi`` (boolean) if set to True will run parsing in multiprocess\n",
      " |      \n",
      " |      By default one and multi set to False and  TTP will run parsing following below rules:\n",
      " |      \n",
      " |          1. if one or multi set to True run in one or multi process\n",
      " |          2. if overall data size is less then 5Mbyte, use single process\n",
      " |          3. if overall data size is more then 5Mbytes, use multiprocess\n",
      " |      \n",
      " |      In addition to 3 TTP will check if number of input data items more then 1, if so\n",
      " |      multiple processes will be used and one process otherwise.\n",
      " |  \n",
      " |  result(self, templates=[], structure='list', **kwargs)\n",
      " |      Method to get parsing results, supports basic filtering based on\n",
      " |      templates' names, results can be formatted and returned to specified\n",
      " |      returner.\n",
      " |      \n",
      " |      **Parameters**\n",
      " |      \n",
      " |      * ``templates`` (list or str) names of the templates to return results for\n",
      " |      * ``structure`` (str) structure type, valid values - ``list``, ``dictionary`` or ``flat_list``\n",
      " |      \n",
      " |      **kwargs** - can contain any attributes supported by output tags, for instance:\n",
      " |      \n",
      " |      * ``format`` (str) output formatter name - yaml, json, raw, pprint, csv, table, tabulate\n",
      " |      * ``functions`` (str) reference output functions to run results through\n",
      " |      \n",
      " |      **Example**::\n",
      " |      \n",
      " |          from ttp import ttp\n",
      " |          parser = ttp(data=\"/os/path/to/data/dir/\", template=\"/os/path/to/template.txt\")\n",
      " |          parser.parse()\n",
      " |          json_result = parser.result(format=\"json\")[0]\n",
      " |          yaml_result = parser.result(format=\"yaml\")[0]\n",
      " |          print(json_result)\n",
      " |          print(yaml_result)\n",
      " |      \n",
      " |      **Returns**\n",
      " |      \n",
      " |      By default template results set to *per_input* and structure set to *list*, returns list such as::\n",
      " |      \n",
      " |          [\n",
      " |             [ template_1_input_1_results,\n",
      " |               template_1_input_2_results,\n",
      " |               ...\n",
      " |               template_1_input_N_results ],\n",
      " |             [ template_2_input_1_results,\n",
      " |               template_2_input_2_results,\n",
      " |               ...\n",
      " |          ]\n",
      " |      \n",
      " |      If template results set to *per_template* and structure set to *list*, returns list such as::\n",
      " |      \n",
      " |          [\n",
      " |             [ template_1_input_1_2...N_joined_results ],\n",
      " |             [ template_2_input_1_2...N_joined_results ]\n",
      " |          ]\n",
      " |      \n",
      " |      If template results set to *per_input* and structure set to *dictionary*, returns dictionary such as::\n",
      " |      \n",
      " |          {\n",
      " |             template_1_name: [\n",
      " |               input_1_results,\n",
      " |               input_2_results,\n",
      " |               ...\n",
      " |               input_N_results\n",
      " |              ],\n",
      " |             template_2_name: [\n",
      " |               input_1_results,\n",
      " |               input_2_results\n",
      " |              ],\n",
      " |               ...\n",
      " |          }\n",
      " |      \n",
      " |      If template results set to *per_template* and structure set to *dictionary*,\n",
      " |      returns dictionary such as::\n",
      " |      \n",
      " |          {\n",
      " |             template_1_name: input_1_2...N_joined_results,\n",
      " |             template_2_name: input_1_2...N_joined_results\n",
      " |          }\n",
      " |      \n",
      " |      If structure set to *flat_list*, results will be combined across\n",
      " |      all templates in a list of dictionaries. For instance, with structure\n",
      " |      set to *list* result might look like this::\n",
      " |      \n",
      " |          [[[{'interface': 'Lo0', 'ip': '192.168.0.1', 'mask': '32'},\n",
      " |             {'interface': 'Lo1', 'ip': '1.1.1.1', 'mask': '32'}],\n",
      " |            [{'interface': 'Lo2', 'ip': '2.2.2.2', 'mask': '32'},\n",
      " |             {'interface': 'Lo3', 'ip': '3.3.3.3', 'mask': '32'}]]]\n",
      " |      \n",
      " |      But with structure set to *flat_list* it will be flattened to this::\n",
      " |      \n",
      " |          [{'interface': 'Lo0', 'ip': '192.168.0.1', 'mask': '32'},\n",
      " |           {'interface': 'Lo1', 'ip': '1.1.1.1', 'mask': '32'},\n",
      " |           {'interface': 'Lo2', 'ip': '2.2.2.2', 'mask': '32'},\n",
      " |           {'interface': 'Lo3', 'ip': '3.3.3.3', 'mask': '32'}]\n",
      " |  \n",
      " |  set_input(self, data, input_name='Default_Input', template_name='_root_template_', groups=['all'])\n",
      " |      Method to replace existing templates inputs data with new set of data. This\n",
      " |      method is alias to ``clear_input`` and ``add_input`` methods.\n",
      " |      \n",
      " |      .. warning:: ``set_input`` should be called only after templates added\n",
      " |      \n",
      " |      **Parameters**\n",
      " |      \n",
      " |      * ``data`` text data or OS path to text file or directory with text files with data to parse\n",
      " |        Also can be structured data - list or dictionary - will be passed to input as is, so that\n",
      " |        it can be pre-processed using input macro function(s)\n",
      " |      * ``input_name`` (str) name of the input to put data in, default is *Default_Input*\n",
      " |      * ``groups`` (list) list of group names to use to parse this input data\n",
      " |      * ``template_name`` (str) name of the template to set input for\n",
      " |  \n",
      " |  ----------------------------------------------------------------------\n",
      " |  Data descriptors defined here:\n",
      " |  \n",
      " |  __dict__\n",
      " |      dictionary for instance variables (if defined)\n",
      " |  \n",
      " |  __weakref__\n",
      " |      list of weak references to the object (if defined)\n",
      "\n"
     ]
    }
   ],
   "source": [
    "help(ttp_parser_obj)"
   ]
  },
  {
   "cell_type": "markdown",
   "id": "8edd57ce",
   "metadata": {},
   "source": [
    "---"
   ]
  },
  {
   "cell_type": "markdown",
   "id": "cbdce1e0",
   "metadata": {},
   "source": [
    "## Lets do this in a more production ready way"
   ]
  },
  {
   "cell_type": "code",
   "execution_count": 14,
   "id": "2c9cb8fd",
   "metadata": {},
   "outputs": [],
   "source": [
    "#### Open the TTP Template"
   ]
  },
  {
   "cell_type": "code",
   "execution_count": 15,
   "id": "0d32627e",
   "metadata": {},
   "outputs": [
    {
     "name": "stdout",
     "output_type": "stream",
     "text": [
      "Attempting to open file arista_eos_show_ip_interface_brief_template.ttp\n"
     ]
    }
   ],
   "source": [
    "ttp_template = open_file(\"arista_eos_show_ip_interface_brief_template.ttp\")"
   ]
  },
  {
   "cell_type": "code",
   "execution_count": 16,
   "id": "0a341af8",
   "metadata": {},
   "outputs": [
    {
     "data": {
      "text/plain": [
       "'{{ interface }} {{ ip_address }} {{ status }} {{ protocol }} {{mtu}}'"
      ]
     },
     "execution_count": 16,
     "metadata": {},
     "output_type": "execute_result"
    }
   ],
   "source": [
    "ttp_template"
   ]
  },
  {
   "cell_type": "markdown",
   "id": "c0e04012",
   "metadata": {},
   "source": [
    "#### Open the show command output"
   ]
  },
  {
   "cell_type": "code",
   "execution_count": 17,
   "id": "e2f819df",
   "metadata": {},
   "outputs": [
    {
     "name": "stdout",
     "output_type": "stream",
     "text": [
      "Attempting to open file arista_sw01_show_ip_int_br_output.txt\n"
     ]
    }
   ],
   "source": [
    "my_show_data = open_file(\"arista_sw01_show_ip_int_br_output.txt\")"
   ]
  },
  {
   "cell_type": "code",
   "execution_count": 18,
   "id": "b8ccfce8",
   "metadata": {},
   "outputs": [
    {
     "data": {
      "text/plain": [
       "'sw02#show ip int br\\n                                                                         Address\\nInterface       IP Address            Status     Protocol         MTU    Owner\\n--------------- --------------------- ---------- ------------- --------- -------\\nEthernet1       192.168.56.107/24     up         up              1500\\nEthernet2       192.168.194.10/24     up         up              1500\\nEthernet3       192.168.62.10/24      up         up              1500\\nManagement1     10.1.10.55/24         up         up              1500\\n\\nsw02#\\nsw02#\\n\\n'"
      ]
     },
     "execution_count": 18,
     "metadata": {},
     "output_type": "execute_result"
    }
   ],
   "source": [
    "my_show_data"
   ]
  },
  {
   "cell_type": "markdown",
   "id": "fb44ec50",
   "metadata": {},
   "source": [
    "#### Instantiate the TTP parser"
   ]
  },
  {
   "cell_type": "code",
   "execution_count": 19,
   "id": "37086fcf",
   "metadata": {},
   "outputs": [],
   "source": [
    "ttp_parser_obj = ttp.ttp(data=my_show_data, template=ttp_template)"
   ]
  },
  {
   "cell_type": "markdown",
   "id": "df8e2346",
   "metadata": {},
   "source": [
    "#### Parse the Data"
   ]
  },
  {
   "cell_type": "code",
   "execution_count": 20,
   "id": "8e6396c3",
   "metadata": {},
   "outputs": [],
   "source": [
    "ttp_parser_obj.parse()"
   ]
  },
  {
   "cell_type": "markdown",
   "id": "cbaee7eb",
   "metadata": {},
   "source": [
    "#### Put the data into a data structure you can work with\n",
    "output formatter name - yaml, json, raw, pprint, csv, table, tabulate"
   ]
  },
  {
   "cell_type": "code",
   "execution_count": 21,
   "id": "fe25cb24",
   "metadata": {},
   "outputs": [],
   "source": [
    "parsed_results = ttp_parser_obj.result()"
   ]
  },
  {
   "cell_type": "code",
   "execution_count": 22,
   "id": "b97657d1",
   "metadata": {},
   "outputs": [],
   "source": [
    "#### Lets look a the various ways we can get our results with TTP"
   ]
  },
  {
   "cell_type": "code",
   "execution_count": 23,
   "id": "9600784b",
   "metadata": {},
   "outputs": [
    {
     "data": {
      "text/plain": [
       "[[[{'interface': 'Ethernet1',\n",
       "    'ip_address': '192.168.56.107/24',\n",
       "    'status': 'up',\n",
       "    'protocol': 'up',\n",
       "    'mtu': '1500'},\n",
       "   {'interface': 'Ethernet2',\n",
       "    'ip_address': '192.168.194.10/24',\n",
       "    'status': 'up',\n",
       "    'protocol': 'up',\n",
       "    'mtu': '1500'},\n",
       "   {'interface': 'Ethernet3',\n",
       "    'ip_address': '192.168.62.10/24',\n",
       "    'status': 'up',\n",
       "    'protocol': 'up',\n",
       "    'mtu': '1500'},\n",
       "   {'interface': 'Management1',\n",
       "    'ip_address': '10.1.10.55/24',\n",
       "    'status': 'up',\n",
       "    'protocol': 'up',\n",
       "    'mtu': '1500'}]]]"
      ]
     },
     "execution_count": 23,
     "metadata": {},
     "output_type": "execute_result"
    }
   ],
   "source": [
    "parsed_results"
   ]
  },
  {
   "cell_type": "code",
   "execution_count": 27,
   "id": "86f234d5",
   "metadata": {},
   "outputs": [
    {
     "name": "stdout",
     "output_type": "stream",
     "text": [
      "{'interface': 'Ethernet1', 'ip_address': '192.168.56.107/24', 'status': 'up', 'protocol': 'up', 'mtu': '1500'}\n",
      "192.168.56.107/24\n",
      "{'interface': 'Ethernet2', 'ip_address': '192.168.194.10/24', 'status': 'up', 'protocol': 'up', 'mtu': '1500'}\n",
      "192.168.194.10/24\n",
      "{'interface': 'Ethernet3', 'ip_address': '192.168.62.10/24', 'status': 'up', 'protocol': 'up', 'mtu': '1500'}\n",
      "192.168.62.10/24\n",
      "{'interface': 'Management1', 'ip_address': '10.1.10.55/24', 'status': 'up', 'protocol': 'up', 'mtu': '1500'}\n",
      "10.1.10.55/24\n"
     ]
    }
   ],
   "source": [
    "for intf in parsed_results[0][0]:\n",
    "    print(intf)\n",
    "    print(intf['ip_address'])"
   ]
  },
  {
   "cell_type": "code",
   "execution_count": 28,
   "id": "c530de9e",
   "metadata": {},
   "outputs": [],
   "source": [
    "parsed_results = ttp_parser_obj.result(format='json')[0]"
   ]
  },
  {
   "cell_type": "code",
   "execution_count": 29,
   "id": "9a55d5cf",
   "metadata": {},
   "outputs": [
    {
     "name": "stdout",
     "output_type": "stream",
     "text": [
      "[\n",
      "    [\n",
      "        {\n",
      "            \"interface\": \"Ethernet1\",\n",
      "            \"ip_address\": \"192.168.56.107/24\",\n",
      "            \"mtu\": \"1500\",\n",
      "            \"protocol\": \"up\",\n",
      "            \"status\": \"up\"\n",
      "        },\n",
      "        {\n",
      "            \"interface\": \"Ethernet2\",\n",
      "            \"ip_address\": \"192.168.194.10/24\",\n",
      "            \"mtu\": \"1500\",\n",
      "            \"protocol\": \"up\",\n",
      "            \"status\": \"up\"\n",
      "        },\n",
      "        {\n",
      "            \"interface\": \"Ethernet3\",\n",
      "            \"ip_address\": \"192.168.62.10/24\",\n",
      "            \"mtu\": \"1500\",\n",
      "            \"protocol\": \"up\",\n",
      "            \"status\": \"up\"\n",
      "        },\n",
      "        {\n",
      "            \"interface\": \"Management1\",\n",
      "            \"ip_address\": \"10.1.10.55/24\",\n",
      "            \"mtu\": \"1500\",\n",
      "            \"protocol\": \"up\",\n",
      "            \"status\": \"up\"\n",
      "        }\n",
      "    ]\n",
      "]\n"
     ]
    }
   ],
   "source": [
    "print(parsed_results)"
   ]
  },
  {
   "cell_type": "code",
   "execution_count": 30,
   "id": "1b59f199",
   "metadata": {},
   "outputs": [],
   "source": [
    "parsed_results = ttp_parser_obj.result(format='yaml')[0]"
   ]
  },
  {
   "cell_type": "code",
   "execution_count": 31,
   "id": "1a16db9c",
   "metadata": {},
   "outputs": [
    {
     "name": "stdout",
     "output_type": "stream",
     "text": [
      "- - interface: Ethernet1\n",
      "    ip_address: 192.168.56.107/24\n",
      "    mtu: '1500'\n",
      "    protocol: up\n",
      "    status: up\n",
      "  - interface: Ethernet2\n",
      "    ip_address: 192.168.194.10/24\n",
      "    mtu: '1500'\n",
      "    protocol: up\n",
      "    status: up\n",
      "  - interface: Ethernet3\n",
      "    ip_address: 192.168.62.10/24\n",
      "    mtu: '1500'\n",
      "    protocol: up\n",
      "    status: up\n",
      "  - interface: Management1\n",
      "    ip_address: 10.1.10.55/24\n",
      "    mtu: '1500'\n",
      "    protocol: up\n",
      "    status: up\n",
      "\n"
     ]
    }
   ],
   "source": [
    "print(parsed_results)"
   ]
  },
  {
   "cell_type": "code",
   "execution_count": 32,
   "id": "dc005cce",
   "metadata": {},
   "outputs": [],
   "source": [
    "parsed_results = ttp_parser_obj.result(format='csv')[0]"
   ]
  },
  {
   "cell_type": "code",
   "execution_count": 33,
   "id": "fea301a1",
   "metadata": {},
   "outputs": [
    {
     "name": "stdout",
     "output_type": "stream",
     "text": [
      "\"interface\",\"ip_address\",\"mtu\",\"protocol\",\"status\"\n",
      "\"Ethernet1\",\"192.168.56.107/24\",\"1500\",\"up\",\"up\"\n",
      "\"Ethernet2\",\"192.168.194.10/24\",\"1500\",\"up\",\"up\"\n",
      "\"Ethernet3\",\"192.168.62.10/24\",\"1500\",\"up\",\"up\"\n",
      "\"Management1\",\"10.1.10.55/24\",\"1500\",\"up\",\"up\"\n"
     ]
    }
   ],
   "source": [
    "print(parsed_results)"
   ]
  },
  {
   "cell_type": "code",
   "execution_count": 34,
   "id": "96e75d95",
   "metadata": {},
   "outputs": [],
   "source": [
    "parsed_results = ttp_parser_obj.result(format='table')[0]"
   ]
  },
  {
   "cell_type": "code",
   "execution_count": 35,
   "id": "9d26c7d2",
   "metadata": {},
   "outputs": [
    {
     "data": {
      "text/plain": [
       "[['interface', 'ip_address', 'mtu', 'protocol', 'status'],\n",
       " ['Ethernet1', '192.168.56.107/24', '1500', 'up', 'up'],\n",
       " ['Ethernet2', '192.168.194.10/24', '1500', 'up', 'up'],\n",
       " ['Ethernet3', '192.168.62.10/24', '1500', 'up', 'up'],\n",
       " ['Management1', '10.1.10.55/24', '1500', 'up', 'up']]"
      ]
     },
     "execution_count": 35,
     "metadata": {},
     "output_type": "execute_result"
    }
   ],
   "source": [
    "parsed_results"
   ]
  },
  {
   "cell_type": "code",
   "execution_count": null,
   "id": "da68c981",
   "metadata": {},
   "outputs": [],
   "source": []
  }
 ],
 "metadata": {
  "kernelspec": {
   "display_name": "Python 3 (ipykernel)",
   "language": "python",
   "name": "python3"
  },
  "language_info": {
   "codemirror_mode": {
    "name": "ipython",
    "version": 3
   },
   "file_extension": ".py",
   "mimetype": "text/x-python",
   "name": "python",
   "nbconvert_exporter": "python",
   "pygments_lexer": "ipython3",
   "version": "3.7.4"
  }
 },
 "nbformat": 4,
 "nbformat_minor": 5
}