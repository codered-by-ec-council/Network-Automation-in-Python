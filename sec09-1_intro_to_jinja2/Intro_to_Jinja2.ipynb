{
 "cells": [
  {
   "cell_type": "markdown",
   "id": "ce6c3f44",
   "metadata": {},
   "source": [
    "# Section 9.1 Introduction to Jinja2 Templating Module"
   ]
  },
  {
   "cell_type": "code",
   "execution_count": 1,
   "id": "a6d0a5a6",
   "metadata": {},
   "outputs": [],
   "source": [
    "# Remember to pip install jinja2 into your virtual environment\n",
    "import jinja2"
   ]
  },
  {
   "cell_type": "markdown",
   "id": "85957cbb",
   "metadata": {},
   "source": [
    "## Jinja2 Template\n",
    "\n",
    "Normally you will load your Jinja2 templates from a file, but as an example lets look at our first template in a string."
   ]
  },
  {
   "cell_type": "code",
   "execution_count": 2,
   "id": "7d8c6ace",
   "metadata": {},
   "outputs": [],
   "source": [
    "template_in_string = \"\"\"\n",
    "\n",
    "vlan {{ data_dict['vlan_number'] }}\n",
    " name {{ data_dict['vlan_name']}}\n",
    "\n",
    "! {{ data_dict }}\n",
    "\n",
    "\"\"\"\n"
   ]
  },
  {
   "cell_type": "markdown",
   "id": "07b39b69",
   "metadata": {},
   "source": [
    "## Templating Environment"
   ]
  },
  {
   "cell_type": "markdown",
   "id": "7759d867",
   "metadata": {},
   "source": [
    "### Initialize the templating \"environment\" by loading the template (in a string) into memory as a Jinja2 \"Template\" object (class)\n",
    "There are different Jinja2 Envronment Loaders for different uses."
   ]
  },
  {
   "cell_type": "code",
   "execution_count": 3,
   "id": "1adb1f9e",
   "metadata": {},
   "outputs": [],
   "source": [
    "template_env = jinja2.Environment(loader=jinja2.BaseLoader()).from_string(template_in_string)"
   ]
  },
  {
   "cell_type": "code",
   "execution_count": 4,
   "id": "0a42e22b",
   "metadata": {},
   "outputs": [
    {
     "data": {
      "text/plain": [
       "<Template memory:7fd5e8a5ae50>"
      ]
     },
     "execution_count": 4,
     "metadata": {},
     "output_type": "execute_result"
    }
   ],
   "source": [
    "template_env"
   ]
  },
  {
   "cell_type": "code",
   "execution_count": 5,
   "id": "40d3f6b9",
   "metadata": {},
   "outputs": [
    {
     "data": {
      "text/plain": [
       "jinja2.environment.Template"
      ]
     },
     "execution_count": 5,
     "metadata": {},
     "output_type": "execute_result"
    }
   ],
   "source": [
    "type(template_env)"
   ]
  },
  {
   "cell_type": "code",
   "execution_count": 6,
   "id": "7cb1c649",
   "metadata": {},
   "outputs": [
    {
     "data": {
      "text/plain": [
       "['__class__',\n",
       " '__delattr__',\n",
       " '__dict__',\n",
       " '__dir__',\n",
       " '__doc__',\n",
       " '__eq__',\n",
       " '__format__',\n",
       " '__ge__',\n",
       " '__getattribute__',\n",
       " '__gt__',\n",
       " '__hash__',\n",
       " '__init__',\n",
       " '__init_subclass__',\n",
       " '__le__',\n",
       " '__lt__',\n",
       " '__module__',\n",
       " '__ne__',\n",
       " '__new__',\n",
       " '__reduce__',\n",
       " '__reduce_ex__',\n",
       " '__repr__',\n",
       " '__setattr__',\n",
       " '__sizeof__',\n",
       " '__str__',\n",
       " '__subclasshook__',\n",
       " '__weakref__',\n",
       " '_debug_info',\n",
       " '_from_namespace',\n",
       " '_get_default_module',\n",
       " '_module',\n",
       " '_uptodate',\n",
       " 'blocks',\n",
       " 'debug_info',\n",
       " 'environment',\n",
       " 'environment_class',\n",
       " 'filename',\n",
       " 'from_code',\n",
       " 'from_module_dict',\n",
       " 'generate',\n",
       " 'generate_async',\n",
       " 'get_corresponding_lineno',\n",
       " 'globals',\n",
       " 'is_up_to_date',\n",
       " 'make_module',\n",
       " 'make_module_async',\n",
       " 'module',\n",
       " 'name',\n",
       " 'new_context',\n",
       " 'render',\n",
       " 'render_async',\n",
       " 'root_render_func',\n",
       " 'stream']"
      ]
     },
     "execution_count": 6,
     "metadata": {},
     "output_type": "execute_result"
    }
   ],
   "source": [
    "dir(template_env)"
   ]
  },
  {
   "cell_type": "markdown",
   "id": "143fd720",
   "metadata": {},
   "source": [
    "## Data\n",
    "Collecting the data to send to your template is a delicate step.  "
   ]
  },
  {
   "cell_type": "code",
   "execution_count": 10,
   "id": "1ad5b557",
   "metadata": {},
   "outputs": [],
   "source": [
    "my_data_dict = {\n",
    "    \"vlan_number\": \"99\",\n",
    "    \"vlan_name\": \"Badge Reader Vlan\"\n",
    "}"
   ]
  },
  {
   "cell_type": "markdown",
   "id": "870f8871",
   "metadata": {},
   "source": [
    "# Render"
   ]
  },
  {
   "cell_type": "code",
   "execution_count": 11,
   "id": "d4306a74",
   "metadata": {},
   "outputs": [],
   "source": [
    "rendered_cfg = template_env.render(data_dict=my_data_dict)"
   ]
  },
  {
   "cell_type": "code",
   "execution_count": 12,
   "id": "7e7ca937",
   "metadata": {},
   "outputs": [
    {
     "data": {
      "text/plain": [
       "\"\\n\\nvlan 99\\n name Badge Reader Vlan\\n\\n! {'vlan_number': '99', 'vlan_name': 'Badge Reader Vlan'}\\n\""
      ]
     },
     "execution_count": 12,
     "metadata": {},
     "output_type": "execute_result"
    }
   ],
   "source": [
    "rendered_cfg"
   ]
  },
  {
   "cell_type": "code",
   "execution_count": 13,
   "id": "97d3ac6c",
   "metadata": {},
   "outputs": [
    {
     "name": "stdout",
     "output_type": "stream",
     "text": [
      "\n",
      "\n",
      "vlan 99\n",
      " name Badge Reader Vlan\n",
      "\n",
      "! {'vlan_number': '99', 'vlan_name': 'Badge Reader Vlan'}\n",
      "\n"
     ]
    }
   ],
   "source": [
    "print(rendered_cfg)"
   ]
  },
  {
   "cell_type": "markdown",
   "id": "0eccf18d",
   "metadata": {},
   "source": [
    "## Data another way\n",
    "### Send \"unpacked\" data"
   ]
  },
  {
   "cell_type": "code",
   "execution_count": 14,
   "id": "70c07cb8",
   "metadata": {},
   "outputs": [
    {
     "ename": "UndefinedError",
     "evalue": "'data_dict' is undefined",
     "output_type": "error",
     "traceback": [
      "\u001b[0;31m---------------------------------------------------------------------------\u001b[0m",
      "\u001b[0;31mUndefinedError\u001b[0m                            Traceback (most recent call last)",
      "\u001b[0;32m/var/folders/vt/xfhvc3690wz75cm9cjd6mpxr0000gn/T/ipykernel_8615/2605553505.py\u001b[0m in \u001b[0;36m<module>\u001b[0;34m\u001b[0m\n\u001b[0;32m----> 1\u001b[0;31m \u001b[0mrendered_cfg\u001b[0m \u001b[0;34m=\u001b[0m \u001b[0mtemplate_env\u001b[0m\u001b[0;34m.\u001b[0m\u001b[0mrender\u001b[0m\u001b[0;34m(\u001b[0m\u001b[0;34m**\u001b[0m\u001b[0mmy_data_dict\u001b[0m\u001b[0;34m)\u001b[0m\u001b[0;34m\u001b[0m\u001b[0;34m\u001b[0m\u001b[0m\n\u001b[0m",
      "\u001b[0;32m~/vEnvs/jupyter/lib/python3.7/site-packages/jinja2/environment.py\u001b[0m in \u001b[0;36mrender\u001b[0;34m(self, *args, **kwargs)\u001b[0m\n\u001b[1;32m   1088\u001b[0m             \u001b[0;32mreturn\u001b[0m \u001b[0mconcat\u001b[0m\u001b[0;34m(\u001b[0m\u001b[0mself\u001b[0m\u001b[0;34m.\u001b[0m\u001b[0mroot_render_func\u001b[0m\u001b[0;34m(\u001b[0m\u001b[0mself\u001b[0m\u001b[0;34m.\u001b[0m\u001b[0mnew_context\u001b[0m\u001b[0;34m(\u001b[0m\u001b[0mvars\u001b[0m\u001b[0;34m)\u001b[0m\u001b[0;34m)\u001b[0m\u001b[0;34m)\u001b[0m\u001b[0;34m\u001b[0m\u001b[0;34m\u001b[0m\u001b[0m\n\u001b[1;32m   1089\u001b[0m         \u001b[0;32mexcept\u001b[0m \u001b[0mException\u001b[0m\u001b[0;34m:\u001b[0m\u001b[0;34m\u001b[0m\u001b[0;34m\u001b[0m\u001b[0m\n\u001b[0;32m-> 1090\u001b[0;31m             \u001b[0mself\u001b[0m\u001b[0;34m.\u001b[0m\u001b[0menvironment\u001b[0m\u001b[0;34m.\u001b[0m\u001b[0mhandle_exception\u001b[0m\u001b[0;34m(\u001b[0m\u001b[0;34m)\u001b[0m\u001b[0;34m\u001b[0m\u001b[0;34m\u001b[0m\u001b[0m\n\u001b[0m\u001b[1;32m   1091\u001b[0m \u001b[0;34m\u001b[0m\u001b[0m\n\u001b[1;32m   1092\u001b[0m     \u001b[0;32mdef\u001b[0m \u001b[0mrender_async\u001b[0m\u001b[0;34m(\u001b[0m\u001b[0mself\u001b[0m\u001b[0;34m,\u001b[0m \u001b[0;34m*\u001b[0m\u001b[0margs\u001b[0m\u001b[0;34m,\u001b[0m \u001b[0;34m**\u001b[0m\u001b[0mkwargs\u001b[0m\u001b[0;34m)\u001b[0m\u001b[0;34m:\u001b[0m\u001b[0;34m\u001b[0m\u001b[0;34m\u001b[0m\u001b[0m\n",
      "\u001b[0;32m~/vEnvs/jupyter/lib/python3.7/site-packages/jinja2/environment.py\u001b[0m in \u001b[0;36mhandle_exception\u001b[0;34m(self, source)\u001b[0m\n\u001b[1;32m    830\u001b[0m         \u001b[0;32mfrom\u001b[0m \u001b[0;34m.\u001b[0m\u001b[0mdebug\u001b[0m \u001b[0;32mimport\u001b[0m \u001b[0mrewrite_traceback_stack\u001b[0m\u001b[0;34m\u001b[0m\u001b[0;34m\u001b[0m\u001b[0m\n\u001b[1;32m    831\u001b[0m \u001b[0;34m\u001b[0m\u001b[0m\n\u001b[0;32m--> 832\u001b[0;31m         \u001b[0mreraise\u001b[0m\u001b[0;34m(\u001b[0m\u001b[0;34m*\u001b[0m\u001b[0mrewrite_traceback_stack\u001b[0m\u001b[0;34m(\u001b[0m\u001b[0msource\u001b[0m\u001b[0;34m=\u001b[0m\u001b[0msource\u001b[0m\u001b[0;34m)\u001b[0m\u001b[0;34m)\u001b[0m\u001b[0;34m\u001b[0m\u001b[0;34m\u001b[0m\u001b[0m\n\u001b[0m\u001b[1;32m    833\u001b[0m \u001b[0;34m\u001b[0m\u001b[0m\n\u001b[1;32m    834\u001b[0m     \u001b[0;32mdef\u001b[0m \u001b[0mjoin_path\u001b[0m\u001b[0;34m(\u001b[0m\u001b[0mself\u001b[0m\u001b[0;34m,\u001b[0m \u001b[0mtemplate\u001b[0m\u001b[0;34m,\u001b[0m \u001b[0mparent\u001b[0m\u001b[0;34m)\u001b[0m\u001b[0;34m:\u001b[0m\u001b[0;34m\u001b[0m\u001b[0;34m\u001b[0m\u001b[0m\n",
      "\u001b[0;32m~/vEnvs/jupyter/lib/python3.7/site-packages/jinja2/_compat.py\u001b[0m in \u001b[0;36mreraise\u001b[0;34m(tp, value, tb)\u001b[0m\n\u001b[1;32m     26\u001b[0m     \u001b[0;32mdef\u001b[0m \u001b[0mreraise\u001b[0m\u001b[0;34m(\u001b[0m\u001b[0mtp\u001b[0m\u001b[0;34m,\u001b[0m \u001b[0mvalue\u001b[0m\u001b[0;34m,\u001b[0m \u001b[0mtb\u001b[0m\u001b[0;34m=\u001b[0m\u001b[0;32mNone\u001b[0m\u001b[0;34m)\u001b[0m\u001b[0;34m:\u001b[0m\u001b[0;34m\u001b[0m\u001b[0;34m\u001b[0m\u001b[0m\n\u001b[1;32m     27\u001b[0m         \u001b[0;32mif\u001b[0m \u001b[0mvalue\u001b[0m\u001b[0;34m.\u001b[0m\u001b[0m__traceback__\u001b[0m \u001b[0;32mis\u001b[0m \u001b[0;32mnot\u001b[0m \u001b[0mtb\u001b[0m\u001b[0;34m:\u001b[0m\u001b[0;34m\u001b[0m\u001b[0;34m\u001b[0m\u001b[0m\n\u001b[0;32m---> 28\u001b[0;31m             \u001b[0;32mraise\u001b[0m \u001b[0mvalue\u001b[0m\u001b[0;34m.\u001b[0m\u001b[0mwith_traceback\u001b[0m\u001b[0;34m(\u001b[0m\u001b[0mtb\u001b[0m\u001b[0;34m)\u001b[0m\u001b[0;34m\u001b[0m\u001b[0;34m\u001b[0m\u001b[0m\n\u001b[0m\u001b[1;32m     29\u001b[0m         \u001b[0;32mraise\u001b[0m \u001b[0mvalue\u001b[0m\u001b[0;34m\u001b[0m\u001b[0;34m\u001b[0m\u001b[0m\n\u001b[1;32m     30\u001b[0m \u001b[0;34m\u001b[0m\u001b[0m\n",
      "\u001b[0;32m<template>\u001b[0m in \u001b[0;36mtop-level template code\u001b[0;34m()\u001b[0m\n",
      "\u001b[0;32m~/vEnvs/jupyter/lib/python3.7/site-packages/jinja2/environment.py\u001b[0m in \u001b[0;36mgetitem\u001b[0;34m(self, obj, argument)\u001b[0m\n\u001b[1;32m    450\u001b[0m         \u001b[0;34m\"\"\"Get an item or attribute of an object but prefer the item.\"\"\"\u001b[0m\u001b[0;34m\u001b[0m\u001b[0;34m\u001b[0m\u001b[0m\n\u001b[1;32m    451\u001b[0m         \u001b[0;32mtry\u001b[0m\u001b[0;34m:\u001b[0m\u001b[0;34m\u001b[0m\u001b[0;34m\u001b[0m\u001b[0m\n\u001b[0;32m--> 452\u001b[0;31m             \u001b[0;32mreturn\u001b[0m \u001b[0mobj\u001b[0m\u001b[0;34m[\u001b[0m\u001b[0margument\u001b[0m\u001b[0;34m]\u001b[0m\u001b[0;34m\u001b[0m\u001b[0;34m\u001b[0m\u001b[0m\n\u001b[0m\u001b[1;32m    453\u001b[0m         \u001b[0;32mexcept\u001b[0m \u001b[0;34m(\u001b[0m\u001b[0mAttributeError\u001b[0m\u001b[0;34m,\u001b[0m \u001b[0mTypeError\u001b[0m\u001b[0;34m,\u001b[0m \u001b[0mLookupError\u001b[0m\u001b[0;34m)\u001b[0m\u001b[0;34m:\u001b[0m\u001b[0;34m\u001b[0m\u001b[0;34m\u001b[0m\u001b[0m\n\u001b[1;32m    454\u001b[0m             \u001b[0;32mif\u001b[0m \u001b[0misinstance\u001b[0m\u001b[0;34m(\u001b[0m\u001b[0margument\u001b[0m\u001b[0;34m,\u001b[0m \u001b[0mstring_types\u001b[0m\u001b[0;34m)\u001b[0m\u001b[0;34m:\u001b[0m\u001b[0;34m\u001b[0m\u001b[0;34m\u001b[0m\u001b[0m\n",
      "\u001b[0;31mUndefinedError\u001b[0m: 'data_dict' is undefined"
     ]
    }
   ],
   "source": [
    "rendered_cfg = template_env.render(**my_data_dict)"
   ]
  },
  {
   "cell_type": "code",
   "execution_count": 15,
   "id": "ba89dbe0",
   "metadata": {},
   "outputs": [],
   "source": [
    "template_in_string2 = \"\"\"\n",
    "! Sending unpacked key value pairs\n",
    "vlan {{ vlan_number }}\n",
    " name {{ vlan_name }}\n",
    "\"\"\""
   ]
  },
  {
   "cell_type": "code",
   "execution_count": 16,
   "id": "e76ba13d",
   "metadata": {},
   "outputs": [],
   "source": [
    "new_template_env = jinja2.Environment(loader=jinja2.BaseLoader()).from_string(template_in_string2)"
   ]
  },
  {
   "cell_type": "code",
   "execution_count": 17,
   "id": "432b639d",
   "metadata": {},
   "outputs": [],
   "source": [
    "rendered_cfg = new_template_env.render(**my_data_dict)"
   ]
  },
  {
   "cell_type": "code",
   "execution_count": 18,
   "id": "59a5a25f",
   "metadata": {},
   "outputs": [
    {
     "data": {
      "text/plain": [
       "'\\n! Sending unpacked key value pairs\\nvlan 99\\n name Badge Reader Vlan'"
      ]
     },
     "execution_count": 18,
     "metadata": {},
     "output_type": "execute_result"
    }
   ],
   "source": [
    "rendered_cfg"
   ]
  },
  {
   "cell_type": "code",
   "execution_count": 19,
   "id": "5d2f280e",
   "metadata": {},
   "outputs": [
    {
     "name": "stdout",
     "output_type": "stream",
     "text": [
      "\n",
      "! Sending unpacked key value pairs\n",
      "vlan 99\n",
      " name Badge Reader Vlan\n"
     ]
    }
   ],
   "source": [
    "print(rendered_cfg)"
   ]
  },
  {
   "cell_type": "markdown",
   "id": "5cf876f6",
   "metadata": {},
   "source": [
    "## Jinja2 Template Language Constructs commonly used when generating configurations"
   ]
  },
  {
   "cell_type": "code",
   "execution_count": null,
   "id": "3b07e65f",
   "metadata": {},
   "outputs": [],
   "source": [
    "{{ }} Template Variable (outside of a control statement)\n",
    "\n",
    "\n",
    "Control Statements\n",
    "{% %} Control Statements\n",
    "\n",
    "\n",
    "{% if condition %}\n",
    "{% endif %}\n",
    "\n",
    "{% if condition %}\n",
    "{% elif condition %}\n",
    "{% else condition %}\n",
    "{% endif %}\n",
    "\n",
    "\n",
    "{% for statement %}\n",
    "{% endfor %}\n",
    "\n",
    "Define a variable within the template\n",
    "{{ set value = \"5\" }}\n",
    "\n",
    "Conversions (\"Casting\")\n",
    "{{ value | int }}\n"
   ]
  },
  {
   "cell_type": "code",
   "execution_count": null,
   "id": "b92ba63c",
   "metadata": {},
   "outputs": [],
   "source": []
  }
 ],
 "metadata": {
  "kernelspec": {
   "display_name": "Python 3 (ipykernel)",
   "language": "python",
   "name": "python3"
  },
  "language_info": {
   "codemirror_mode": {
    "name": "ipython",
    "version": 3
   },
   "file_extension": ".py",
   "mimetype": "text/x-python",
   "name": "python",
   "nbconvert_exporter": "python",
   "pygments_lexer": "ipython3",
   "version": "3.7.4"
  }
 },
 "nbformat": 4,
 "nbformat_minor": 5
}
