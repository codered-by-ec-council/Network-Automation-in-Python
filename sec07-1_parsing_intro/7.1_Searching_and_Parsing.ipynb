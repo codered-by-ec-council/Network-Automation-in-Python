{
 "cells": [
  {
   "cell_type": "markdown",
   "id": "9d5306f3",
   "metadata": {},
   "source": [
    "# Searching and Parsing"
   ]
  },
  {
   "cell_type": "markdown",
   "id": "aad7145c",
   "metadata": {},
   "source": [
    "## Searching Unformatted Text"
   ]
  },
  {
   "cell_type": "code",
   "execution_count": 1,
   "id": "477745b9",
   "metadata": {
    "scrolled": false
   },
   "outputs": [],
   "source": [
    "unform = \"Lorem ipsum dolor sit amet, consectetur adipiscing elit, sed do eiusmod tempor incididunt ut labore et dolore magna aliqua. At varius vel pharetra vel turpis nunc eget. Nunc vel risus commodo viverra. Velit aliquet sagittis id consectetur purus ut faucibus. Nibh cras pulvinar mattis nunc sed.\""
   ]
  },
  {
   "cell_type": "markdown",
   "id": "0fe28f8a",
   "metadata": {},
   "source": [
    "stringVariable.count() counts the number of occurances"
   ]
  },
  {
   "cell_type": "code",
   "execution_count": 2,
   "id": "81335313",
   "metadata": {},
   "outputs": [
    {
     "data": {
      "text/plain": [
       "2"
      ]
     },
     "execution_count": 2,
     "metadata": {},
     "output_type": "execute_result"
    }
   ],
   "source": [
    "unform.count(\"sed\")"
   ]
  },
  {
   "cell_type": "raw",
   "id": "afae1594",
   "metadata": {},
   "source": [
    "stringVariable.find() will return the positional index of the first instance or -1 if none are found"
   ]
  },
  {
   "cell_type": "code",
   "execution_count": 3,
   "id": "d4de0032",
   "metadata": {},
   "outputs": [
    {
     "data": {
      "text/plain": [
       "51"
      ]
     },
     "execution_count": 3,
     "metadata": {},
     "output_type": "execute_result"
    }
   ],
   "source": [
    "unform.find(\"elit\")"
   ]
  },
  {
   "cell_type": "code",
   "execution_count": 4,
   "id": "b69ebd58",
   "metadata": {},
   "outputs": [
    {
     "data": {
      "text/plain": [
       "-1"
      ]
     },
     "execution_count": 4,
     "metadata": {},
     "output_type": "execute_result"
    }
   ],
   "source": [
    "unform.find(\"Gi1/0/1\")"
   ]
  },
  {
   "cell_type": "markdown",
   "id": "d7631178",
   "metadata": {},
   "source": [
    "Startswith() and endswith() are pretty self explanatory!"
   ]
  },
  {
   "cell_type": "code",
   "execution_count": 5,
   "id": "0ccd323c",
   "metadata": {},
   "outputs": [
    {
     "data": {
      "text/plain": [
       "True"
      ]
     },
     "execution_count": 5,
     "metadata": {},
     "output_type": "execute_result"
    }
   ],
   "source": [
    "unform.startswith(\"Lorem\")"
   ]
  },
  {
   "cell_type": "code",
   "execution_count": 8,
   "id": "fec23765",
   "metadata": {},
   "outputs": [
    {
     "data": {
      "text/plain": [
       "True"
      ]
     },
     "execution_count": 8,
     "metadata": {},
     "output_type": "execute_result"
    }
   ],
   "source": [
    "unform.endswith(\"sed.\")"
   ]
  },
  {
   "cell_type": "code",
   "execution_count": 9,
   "id": "73f0eb04",
   "metadata": {},
   "outputs": [
    {
     "name": "stdout",
     "output_type": "stream",
     "text": [
      "Found sed!\n"
     ]
    }
   ],
   "source": [
    "if \"sed\" in unform:\n",
    "    print(\"Found sed!\")"
   ]
  },
  {
   "cell_type": "markdown",
   "id": "edef3139",
   "metadata": {},
   "source": [
    "### You have to know whan you are looking for!"
   ]
  },
  {
   "cell_type": "markdown",
   "id": "01e52453",
   "metadata": {},
   "source": [
    "---"
   ]
  },
  {
   "cell_type": "markdown",
   "id": "06d9b93a",
   "metadata": {},
   "source": [
    "## Splitting and Pattern Matching\n",
    "Lets look for patterns!"
   ]
  },
  {
   "cell_type": "code",
   "execution_count": 10,
   "id": "250fbf04",
   "metadata": {},
   "outputs": [],
   "source": [
    "# semiformatted text\n",
    "semiform = \"\"\"\n",
    "oceans-cs01#show int status | i connected\n",
    "Gi1/0/1                      connected    1          a-full  a-100 10/100/1000BaseTX\n",
    "Gi1/0/3                      connected    1          a-half   a-10 10/100/1000BaseTX\n",
    "Gi1/0/7                      connected    1          a-full  a-100 10/100/1000BaseTX\n",
    "Gi1/0/14                     connected    1          a-full   a-10 10/100/1000BaseTX\n",
    "Gi1/0/23                     connected    1          a-full a-1000 10/100/1000BaseTX\n",
    "Gi1/0/31                     connected    1          a-full a-1000 10/100/1000BaseTX\n",
    "Gi1/0/46                     connected    1          a-full a-1000 10/100/1000BaseTX\n",
    "Gi1/0/52                     connected    1          a-full a-1000 10/100/1000BaseTX SFP\n",
    "Gi2/0/1                      connected    1          a-full  a-100 10/100/1000BaseTX\n",
    "Gi2/0/3                      connected    1          a-half   a-10 10/100/1000BaseTX\n",
    "Gi2/0/7                      connected    1          a-full  a-100 10/100/1000BaseTX\n",
    "Gi2/0/14                     connected    1          a-full   a-10 10/100/1000BaseTX\n",
    "Gi2/1/4                      connected    1          a-full a-1000 10/100/1000BaseTX SFP\n",
    "Gi3/0/3                      connected    1          a-half   a-10 10/100/1000BaseTX\n",
    "Gi3/0/7                      connected    1          a-full  a-100 10/100/1000BaseTX\n",
    "Gi3/0/14                     connected    1          a-full   a-10 10/100/1000BaseTX\n",
    "Gi3/1/4                      connected    1          a-full a-1000 10/100/1000BaseTX SFP\n",
    "Fa0                          connected    routed     a-full  a-100 10/100BaseTX\n",
    "oceans-cs01#\n",
    "\"\"\""
   ]
  },
  {
   "cell_type": "code",
   "execution_count": 11,
   "id": "6c9210dc",
   "metadata": {},
   "outputs": [
    {
     "data": {
      "text/plain": [
       "str"
      ]
     },
     "execution_count": 11,
     "metadata": {},
     "output_type": "execute_result"
    }
   ],
   "source": [
    "type(semiform)"
   ]
  },
  {
   "cell_type": "code",
   "execution_count": 13,
   "id": "6c19c8c1",
   "metadata": {},
   "outputs": [],
   "source": [
    "semiform_list = semiform.split('\\n')"
   ]
  },
  {
   "cell_type": "code",
   "execution_count": 14,
   "id": "86768677",
   "metadata": {},
   "outputs": [
    {
     "data": {
      "text/plain": [
       "22"
      ]
     },
     "execution_count": 14,
     "metadata": {},
     "output_type": "execute_result"
    }
   ],
   "source": [
    "len(semiform_list)"
   ]
  },
  {
   "cell_type": "code",
   "execution_count": 15,
   "id": "5eaf5db6",
   "metadata": {},
   "outputs": [
    {
     "name": "stdout",
     "output_type": "stream",
     "text": [
      "Gi1/0/3                      connected    1          a-half   a-10 10/100/1000BaseTX\n",
      "Gi1/0/31                     connected    1          a-full a-1000 10/100/1000BaseTX\n"
     ]
    }
   ],
   "source": [
    "for line in semiform_list:\n",
    "    if line.startswith(\"Gi1/0/3\"):\n",
    "        print(line)"
   ]
  },
  {
   "cell_type": "code",
   "execution_count": null,
   "id": "0c7b661d",
   "metadata": {},
   "outputs": [],
   "source": []
  },
  {
   "cell_type": "markdown",
   "id": "1549a8fa",
   "metadata": {},
   "source": [
    "The most abstract pattern of all ... something space something"
   ]
  },
  {
   "cell_type": "code",
   "execution_count": 16,
   "id": "a023a081",
   "metadata": {},
   "outputs": [
    {
     "name": "stdout",
     "output_type": "stream",
     "text": [
      "['Gi1/0/1', 'connected', '1', 'a-full', 'a-100', '10/100/1000BaseTX']\n",
      "['Gi1/0/3', 'connected', '1', 'a-half', 'a-10', '10/100/1000BaseTX']\n",
      "['Gi1/0/7', 'connected', '1', 'a-full', 'a-100', '10/100/1000BaseTX']\n",
      "['Gi1/0/14', 'connected', '1', 'a-full', 'a-10', '10/100/1000BaseTX']\n",
      "['Gi1/0/23', 'connected', '1', 'a-full', 'a-1000', '10/100/1000BaseTX']\n",
      "['Gi1/0/31', 'connected', '1', 'a-full', 'a-1000', '10/100/1000BaseTX']\n",
      "['Gi1/0/46', 'connected', '1', 'a-full', 'a-1000', '10/100/1000BaseTX']\n",
      "['Gi1/0/52', 'connected', '1', 'a-full', 'a-1000', '10/100/1000BaseTX', 'SFP']\n"
     ]
    }
   ],
   "source": [
    "for line in semiform_list:\n",
    "    if line.startswith(\"Gi1/0/\"):\n",
    "        split_line = line.split()\n",
    "        print(split_line)"
   ]
  },
  {
   "cell_type": "code",
   "execution_count": 17,
   "id": "7e122d12",
   "metadata": {},
   "outputs": [],
   "source": [
    "header = [\"int_0\", \"status_1\", \"vlan_2\" , \"duplex_3\", \"speed_4\", \"type_5\"]"
   ]
  },
  {
   "cell_type": "code",
   "execution_count": 18,
   "id": "6c72474a",
   "metadata": {},
   "outputs": [],
   "source": [
    "# need output in a data structure we can process\n",
    "# a list of lists\n",
    "split_lol = []\n",
    "split_lol.append(header)\n",
    "for line in semiform_list:\n",
    "    if line.startswith(\"Gi1/0/\"):\n",
    "        split_line = line.split()\n",
    "        split_lol.append(split_line)\n",
    "        "
   ]
  },
  {
   "cell_type": "code",
   "execution_count": 19,
   "id": "10965a99",
   "metadata": {},
   "outputs": [
    {
     "data": {
      "text/plain": [
       "[['int_0', 'status_1', 'vlan_2', 'duplex_3', 'speed_4', 'type_5'],\n",
       " ['Gi1/0/1', 'connected', '1', 'a-full', 'a-100', '10/100/1000BaseTX'],\n",
       " ['Gi1/0/3', 'connected', '1', 'a-half', 'a-10', '10/100/1000BaseTX'],\n",
       " ['Gi1/0/7', 'connected', '1', 'a-full', 'a-100', '10/100/1000BaseTX'],\n",
       " ['Gi1/0/14', 'connected', '1', 'a-full', 'a-10', '10/100/1000BaseTX'],\n",
       " ['Gi1/0/23', 'connected', '1', 'a-full', 'a-1000', '10/100/1000BaseTX'],\n",
       " ['Gi1/0/31', 'connected', '1', 'a-full', 'a-1000', '10/100/1000BaseTX'],\n",
       " ['Gi1/0/46', 'connected', '1', 'a-full', 'a-1000', '10/100/1000BaseTX'],\n",
       " ['Gi1/0/52',\n",
       "  'connected',\n",
       "  '1',\n",
       "  'a-full',\n",
       "  'a-1000',\n",
       "  '10/100/1000BaseTX',\n",
       "  'SFP']]"
      ]
     },
     "execution_count": 19,
     "metadata": {},
     "output_type": "execute_result"
    }
   ],
   "source": [
    "split_lol"
   ]
  },
  {
   "cell_type": "markdown",
   "id": "53682461",
   "metadata": {},
   "source": [
    "### Find all 10Mb/s Interfaces"
   ]
  },
  {
   "cell_type": "code",
   "execution_count": 20,
   "id": "05906bfc",
   "metadata": {},
   "outputs": [
    {
     "name": "stdout",
     "output_type": "stream",
     "text": [
      "10Mb/s Connected Interfaces:\n",
      "- a-100\n",
      "- a-10\n",
      "- a-100\n",
      "- a-10\n",
      "- a-1000\n",
      "- a-1000\n",
      "- a-1000\n",
      "- a-1000\n"
     ]
    }
   ],
   "source": [
    "print(\"10Mb/s Connected Interfaces:\")\n",
    "for line in split_lol:\n",
    "    if \"a-10\" in line[4]:\n",
    "        print(f\"- {line[4]}\")"
   ]
  },
  {
   "cell_type": "code",
   "execution_count": 21,
   "id": "322dd6d0",
   "metadata": {},
   "outputs": [
    {
     "name": "stdout",
     "output_type": "stream",
     "text": [
      "10Mb/s Connected Interfaces:\n",
      "- Gi1/0/3 a-10\n",
      "- Gi1/0/14 a-10\n"
     ]
    }
   ],
   "source": [
    "print(\"10Mb/s Connected Interfaces:\")\n",
    "for line in split_lol:\n",
    "    if line[4].endswith(\"-10\"):\n",
    "        print(f\"- {line[0]} {line[4]}\")"
   ]
  },
  {
   "cell_type": "code",
   "execution_count": null,
   "id": "1b865899",
   "metadata": {},
   "outputs": [],
   "source": [
    "# semiformatted text\n",
    "semiform = \"\"\"\n",
    "oceans-cs01#show int status | i connected\n",
    "Gi1/0/1                      connected    1          a-full  a-100 10/100/1000BaseTX\n",
    "Gi1/0/3                      connected    1          a-half   a-10 10/100/1000BaseTX\n",
    "Gi1/0/7                      connected    1          a-full  a-100 10/100/1000BaseTX\n",
    "Gi1/0/14                     connected    1          a-full   a-10 10/100/1000BaseTX\n",
    "Gi1/0/23                     connected    1          a-full a-1000 10/100/1000BaseTX\n",
    "Gi1/0/31                     connected    1          a-full a-1000 10/100/1000BaseTX\n",
    "Gi1/0/46                     connected    1          a-full a-1000 10/100/1000BaseTX\n",
    "Gi1/0/52                     connected    1          a-full a-1000 10/100/1000BaseTX SFP\n",
    "Gi2/0/1                      connected    1          a-full  a-100 10/100/1000BaseTX\n",
    "Gi2/0/3                      connected    1          a-half   a-10 10/100/1000BaseTX\n",
    "Gi2/0/7                      connected    1          a-full  a-100 10/100/1000BaseTX\n",
    "Gi2/0/14                     connected    1          a-full   a-10 10/100/1000BaseTX\n",
    "Gi2/1/4                      connected    1          a-full a-1000 10/100/1000BaseTX SFP\n",
    "Gi3/0/3                      connected    1          a-half   a-10 10/100/1000BaseTX\n",
    "Gi3/0/7                      connected    1          a-full  a-100 10/100/1000BaseTX\n",
    "Gi3/0/14                     connected    1          a-full   a-10 10/100/1000BaseTX\n",
    "Gi3/1/4                      connected    1          a-full a-1000 10/100/1000BaseTX SFP\n",
    "Fa0                          connected    routed     a-full  a-100 10/100BaseTX\n",
    "oceans-cs01#\n",
    "\"\"\""
   ]
  },
  {
   "cell_type": "code",
   "execution_count": null,
   "id": "ea63ebb9",
   "metadata": {},
   "outputs": [],
   "source": [
    "for line in semiform_list:\n",
    "    if line.startswith(\"Gi1/0/\"):\n",
    "        print(line)"
   ]
  },
  {
   "cell_type": "markdown",
   "id": "09951f16",
   "metadata": {},
   "source": [
    "Now I have to know how many switches in the stack and I have to search for both 0 and 1 to make sure I get the right response."
   ]
  },
  {
   "cell_type": "markdown",
   "id": "3bf916d8",
   "metadata": {},
   "source": [
    "If only there was a way to say...\n",
    "If the line starts with Gi or Fa or Te or Twe, \n",
    "then a digit, \n",
    "then a /, \n",
    "then another digit and a /, \n",
    "then either one or two digits\n",
    "\n",
    "or\n",
    "\n",
    "I'm looking for text that starts with the letter a,\n",
    "then a dash,\n",
    "then the number 1,\n",
    "then exactly one zero\n",
    "or exactly 2 zeros"
   ]
  }
 ],
 "metadata": {
  "kernelspec": {
   "display_name": "Python 3",
   "language": "python",
   "name": "python3"
  },
  "language_info": {
   "codemirror_mode": {
    "name": "ipython",
    "version": 3
   },
   "file_extension": ".py",
   "mimetype": "text/x-python",
   "name": "python",
   "nbconvert_exporter": "python",
   "pygments_lexer": "ipython3",
   "version": "3.7.4"
  }
 },
 "nbformat": 4,
 "nbformat_minor": 5
}
